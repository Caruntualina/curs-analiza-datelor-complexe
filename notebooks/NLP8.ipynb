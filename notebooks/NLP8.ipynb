{
  "nbformat": 4,
  "nbformat_minor": 0,
  "metadata": {
    "colab": {
      "provenance": []
    },
    "kernelspec": {
      "name": "python3",
      "display_name": "Python 3"
    },
    "language_info": {
      "name": "python"
    }
  },
  "cells": [
    {
      "cell_type": "markdown",
      "source": [
        "# Importing Libraries"
      ],
      "metadata": {
        "id": "pV2TKpFwRWhf"
      }
    },
    {
      "cell_type": "code",
      "execution_count": null,
      "metadata": {
        "collapsed": true,
        "id": "LGbr3tXWRRsx"
      },
      "outputs": [],
      "source": [
        "!pip install pyLDAvis"
      ]
    },
    {
      "cell_type": "code",
      "source": [
        "import pandas as pd\n",
        "import numpy as np\n",
        "\n",
        "# LDA\n",
        "from gensim.models import LdaModel\n",
        "from gensim.corpora.dictionary import Dictionary\n",
        "\n",
        "# Tokenization\n",
        "import nltk\n",
        "nltk.download('punkt')\n",
        "from nltk.tokenize import word_tokenize\n",
        "\n",
        "# Vizualizare\n",
        "import pyLDAvis.gensim"
      ],
      "metadata": {
        "id": "8wx9TSG-Reca"
      },
      "execution_count": null,
      "outputs": []
    },
    {
      "cell_type": "markdown",
      "source": [
        "# Reading Dataset"
      ],
      "metadata": {
        "id": "CBxEoasUSUIP"
      }
    },
    {
      "cell_type": "code",
      "source": [
        "url = 'https://raw.githubusercontent.com/DanielaManate/SentimentAnalysis-TopicModeling/master/Data/Input/3.input_data_prepped_bow.csv'\n",
        "reviews = pd.read_csv(url)\n",
        "reviews.head(1)"
      ],
      "metadata": {
        "collapsed": true,
        "id": "x8RedhI-SAwt"
      },
      "execution_count": null,
      "outputs": []
    },
    {
      "cell_type": "code",
      "source": [
        "reviews['text_prep_lim'] = reviews['text_prep_lim'].astype(str)\n",
        "reviews['text_prep_lim_tokens'] = reviews['text_prep_lim'].apply(word_tokenize)\n",
        "reviews.head(1)"
      ],
      "metadata": {
        "collapsed": true,
        "id": "8iB8PIQWSov1"
      },
      "execution_count": null,
      "outputs": []
    },
    {
      "cell_type": "code",
      "source": [
        "reviews['text_prep_lim_tokens'].iloc[0]"
      ],
      "metadata": {
        "collapsed": true,
        "id": "cXdxhOuvTsg9"
      },
      "execution_count": null,
      "outputs": []
    },
    {
      "cell_type": "code",
      "source": [
        "corpus = reviews['text_prep_lim_tokens'].to_list()"
      ],
      "metadata": {
        "id": "2g-J0tIuTQdn"
      },
      "execution_count": null,
      "outputs": []
    },
    {
      "cell_type": "code",
      "source": [
        "len(corpus)"
      ],
      "metadata": {
        "id": "CgXi4wMtVREt"
      },
      "execution_count": null,
      "outputs": []
    },
    {
      "cell_type": "code",
      "source": [
        "corpus[0:2]"
      ],
      "metadata": {
        "collapsed": true,
        "id": "0PedvFyTT4k0"
      },
      "execution_count": null,
      "outputs": []
    },
    {
      "cell_type": "code",
      "source": [
        "dictionary = Dictionary(documents=corpus)"
      ],
      "metadata": {
        "id": "XRuIrt4xT71s"
      },
      "execution_count": null,
      "outputs": []
    },
    {
      "cell_type": "code",
      "source": [
        "print('Primul cuvant din dictionar este:', dictionary[0])"
      ],
      "metadata": {
        "id": "jbhbFmcfUUFx"
      },
      "execution_count": null,
      "outputs": []
    },
    {
      "cell_type": "code",
      "source": [
        "print('Dictionarul are', len(dictionary), 'cuvinte')"
      ],
      "metadata": {
        "id": "z3NV-qSPUaKZ"
      },
      "execution_count": null,
      "outputs": []
    },
    {
      "cell_type": "code",
      "source": [
        "# Cream corpusul final care o sa fie folosit in LDA\n",
        "corpus_final = [dictionary.doc2bow(text) for text in corpus]"
      ],
      "metadata": {
        "id": "PITTaYIjUjEo"
      },
      "execution_count": null,
      "outputs": []
    },
    {
      "cell_type": "code",
      "source": [
        "print('Lungimea corpusului final', len(corpus_final))"
      ],
      "metadata": {
        "id": "r9IPtpLXVIIx"
      },
      "execution_count": null,
      "outputs": []
    },
    {
      "cell_type": "code",
      "source": [
        "print('Cuvantul 0 din dictionary', dictionary[0])\n",
        "print('Cuvantul 1 din dictionary', dictionary[1])\n",
        "print('Cuvantul 2 din dictionary', dictionary[2])"
      ],
      "metadata": {
        "collapsed": true,
        "id": "ZBcGAJtqVfuS"
      },
      "execution_count": null,
      "outputs": []
    },
    {
      "cell_type": "code",
      "source": [
        "print('Prima recenzie:', reviews['text_prep_lim'].iloc[0])"
      ],
      "metadata": {
        "collapsed": true,
        "id": "f7_ZC7NqVvfq"
      },
      "execution_count": null,
      "outputs": []
    },
    {
      "cell_type": "code",
      "source": [
        "# Reprezentarea doc2bow pentru review-ul 0\n",
        "corpus_final[0]"
      ],
      "metadata": {
        "collapsed": true,
        "id": "3c_CZQ5UVNs3"
      },
      "execution_count": null,
      "outputs": []
    },
    {
      "cell_type": "code",
      "source": [
        "# (0, 1) -> cuvantul 0 (arrived) apare o singura data in review-ul 0\n",
        "# (1, 1) -> cuvantul 1 (clear) apare o singura data in review-ul 0\n",
        "# (2, 2) -> cuvantul 2 (dinner) apare de 2 ori in review-ul 0\n",
        "# ...."
      ],
      "metadata": {
        "id": "yPK42lL5WTon"
      },
      "execution_count": null,
      "outputs": []
    },
    {
      "cell_type": "markdown",
      "source": [
        "# LDA 2 topic-uri"
      ],
      "metadata": {
        "id": "5ywyGuStXCHa"
      }
    },
    {
      "cell_type": "code",
      "source": [
        "ldamodel2 = LdaModel(corpus_final,\n",
        "                     num_topics=2,\n",
        "                     id2word=dictionary,\n",
        "                     passes=15,\n",
        "                     random_state=42\n",
        "                     )"
      ],
      "metadata": {
        "id": "KtreuIhNVZJL"
      },
      "execution_count": null,
      "outputs": []
    },
    {
      "cell_type": "code",
      "source": [
        "# Pentru cele 2 topicuri, afisam cele mai importante 3 cuvinte\n",
        "ldamodel2.print_topics(num_words=3)"
      ],
      "metadata": {
        "id": "PEoDVxX-YBbw"
      },
      "execution_count": null,
      "outputs": []
    },
    {
      "cell_type": "code",
      "source": [
        "print('Recenzia a 5-a:', reviews['text'].iloc[4])"
      ],
      "metadata": {
        "id": "cIhdVlLYZDFF"
      },
      "execution_count": null,
      "outputs": []
    },
    {
      "cell_type": "code",
      "source": [
        "print('Alocarea topicurilor pentru recenzia a 5a:',\n",
        "      ldamodel2[corpus_final[4]])"
      ],
      "metadata": {
        "id": "MJ47PZBJZz2x"
      },
      "execution_count": null,
      "outputs": []
    },
    {
      "cell_type": "code",
      "source": [
        "# Recenzia nr. 5 este 10% Topic 0 (order, get), 90% Topic 1 (good, great)"
      ],
      "metadata": {
        "id": "zpR4x7nnZ6yP"
      },
      "execution_count": null,
      "outputs": []
    },
    {
      "cell_type": "markdown",
      "source": [
        "## Vizualizare 2 topicuri"
      ],
      "metadata": {
        "id": "3nfs8yC-afB-"
      }
    },
    {
      "cell_type": "code",
      "source": [
        "lda_display2 = pyLDAvis.gensim.prepare(ldamodel2, corpus_final, dictionary, sort_topics=False)\n",
        "pyLDAvis.display(lda_display2)"
      ],
      "metadata": {
        "id": "XQYO4WpiaPGF"
      },
      "execution_count": null,
      "outputs": []
    },
    {
      "cell_type": "markdown",
      "source": [
        "# LDA 15 topic-uri"
      ],
      "metadata": {
        "id": "avIjbX5FeQGx"
      }
    },
    {
      "cell_type": "code",
      "source": [
        "ldamodel15 = LdaModel(corpus_final,\n",
        "                     num_topics=15,\n",
        "                     id2word=dictionary,\n",
        "                     passes=15,\n",
        "                     random_state=42\n",
        "                     )"
      ],
      "metadata": {
        "id": "vdCA6IpeeXOo"
      },
      "execution_count": null,
      "outputs": []
    },
    {
      "cell_type": "code",
      "source": [
        "ldamodel15.print_topics(num_words=2)"
      ],
      "metadata": {
        "id": "VTM-Xl0VefC1"
      },
      "execution_count": null,
      "outputs": []
    },
    {
      "cell_type": "code",
      "source": [
        "lda_display15 = pyLDAvis.gensim.prepare(ldamodel15, corpus_final, dictionary, \n",
        "                                        sort_topics=False)\n",
        "pyLDAvis.display(lda_display15)"
      ],
      "metadata": {
        "id": "H14LYw37a1Sd"
      },
      "execution_count": null,
      "outputs": []
    },
    {
      "cell_type": "markdown",
      "source": [
        "# LDA 5 topic-uri"
      ],
      "metadata": {
        "id": "3Ume5R0ciEbI"
      }
    },
    {
      "cell_type": "code",
      "source": [
        "ldamodel5 = LdaModel(corpus_final,\n",
        "                     num_topics=5,\n",
        "                     id2word=dictionary,\n",
        "                     passes=15,\n",
        "                     random_state=42\n",
        "                     )"
      ],
      "metadata": {
        "id": "4-YPAd-QfxFv"
      },
      "execution_count": null,
      "outputs": []
    },
    {
      "cell_type": "code",
      "source": [
        "ldamodel5.print_topics(num_words=2)"
      ],
      "metadata": {
        "id": "sjEtDJTKiP7B"
      },
      "execution_count": null,
      "outputs": []
    },
    {
      "cell_type": "code",
      "source": [
        "lda_display5 = pyLDAvis.gensim.prepare(ldamodel5, corpus_final, dictionary, \n",
        "                                        sort_topics=False)\n",
        "pyLDAvis.display(lda_display5)"
      ],
      "metadata": {
        "id": "0eFkqgwZiLTj"
      },
      "execution_count": null,
      "outputs": []
    },
    {
      "cell_type": "code",
      "source": [],
      "metadata": {
        "id": "RWEGmpYIjSFi"
      },
      "execution_count": null,
      "outputs": []
    }
  ]
}