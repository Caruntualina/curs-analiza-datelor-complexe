{
 "cells": [
  {
   "cell_type": "markdown",
   "metadata": {
    "id": "pV2TKpFwRWhf"
   },
   "source": [
    "# Importing Libraries"
   ]
  },
  {
   "cell_type": "code",
   "execution_count": null,
   "metadata": {
    "id": "LGbr3tXWRRsx"
   },
   "outputs": [],
   "source": [
    "!pip install pyLDAvis"
   ]
  },
  {
   "cell_type": "code",
   "execution_count": null,
   "metadata": {
    "id": "8wx9TSG-Reca",
    "tags": []
   },
   "outputs": [],
   "source": [
    "import pandas as pd\n",
    "import numpy as np\n",
    "\n",
    "# LDA\n",
    "from gensim.models import LdaModel\n",
    "from gensim.corpora.dictionary import Dictionary\n",
    "\n",
    "# Tokenization\n",
    "import nltk\n",
    "nltk.download('punkt')\n",
    "from nltk.tokenize import word_tokenize\n",
    "\n",
    "# Vizualizare\n",
    "import pyLDAvis.gensim"
   ]
  },
  {
   "cell_type": "markdown",
   "metadata": {
    "id": "CBxEoasUSUIP"
   },
   "source": [
    "# Reading Dataset"
   ]
  },
  {
   "cell_type": "code",
   "execution_count": null,
   "metadata": {
    "id": "x8RedhI-SAwt"
   },
   "outputs": [],
   "source": [
    "url = 'https://raw.githubusercontent.com/DanielaManate/SentimentAnalysis-TopicModeling/master/Data/Input/3.input_data_prepped_bow.csv'\n",
    "reviews = pd.read_csv(url)\n",
    "reviews.head(1)"
   ]
  },
  {
   "cell_type": "code",
   "execution_count": null,
   "metadata": {
    "id": "8iB8PIQWSov1"
   },
   "outputs": [],
   "source": [
    "reviews['text_prep_lim'] = reviews['text_prep_lim'].astype(str)\n",
    "reviews['text_prep_lim_tokens'] = reviews['text_prep_lim'].apply(word_tokenize)\n",
    "reviews.head(1)"
   ]
  },
  {
   "cell_type": "code",
   "execution_count": null,
   "metadata": {
    "id": "cXdxhOuvTsg9"
   },
   "outputs": [],
   "source": [
    "reviews['text_prep_lim_tokens'].iloc[0]"
   ]
  },
  {
   "cell_type": "code",
   "execution_count": null,
   "metadata": {
    "id": "2g-J0tIuTQdn"
   },
   "outputs": [],
   "source": [
    "corpus = reviews['text_prep_lim_tokens'].to_list()"
   ]
  },
  {
   "cell_type": "code",
   "execution_count": null,
   "metadata": {
    "id": "CgXi4wMtVREt"
   },
   "outputs": [],
   "source": [
    "len(corpus)"
   ]
  },
  {
   "cell_type": "code",
   "execution_count": null,
   "metadata": {
    "id": "0PedvFyTT4k0"
   },
   "outputs": [],
   "source": [
    "corpus[0:2]"
   ]
  },
  {
   "cell_type": "code",
   "execution_count": null,
   "metadata": {
    "id": "XRuIrt4xT71s"
   },
   "outputs": [],
   "source": [
    "dictionary = Dictionary(documents=corpus)"
   ]
  },
  {
   "cell_type": "code",
   "execution_count": null,
   "metadata": {
    "id": "jbhbFmcfUUFx"
   },
   "outputs": [],
   "source": [
    "print('Primul cuvant din dictionar este:', dictionary[0])"
   ]
  },
  {
   "cell_type": "code",
   "execution_count": null,
   "metadata": {
    "id": "z3NV-qSPUaKZ"
   },
   "outputs": [],
   "source": [
    "print('Dictionarul are', len(dictionary), 'cuvinte')"
   ]
  },
  {
   "cell_type": "code",
   "execution_count": null,
   "metadata": {
    "id": "PITTaYIjUjEo"
   },
   "outputs": [],
   "source": [
    "# Cream corpusul final care o sa fie folosit in LDA\n",
    "corpus_final = [dictionary.doc2bow(text) for text in corpus]"
   ]
  },
  {
   "cell_type": "code",
   "execution_count": null,
   "metadata": {
    "id": "r9IPtpLXVIIx"
   },
   "outputs": [],
   "source": [
    "print('Lungimea corpusului final', len(corpus_final))"
   ]
  },
  {
   "cell_type": "code",
   "execution_count": null,
   "metadata": {
    "id": "ZBcGAJtqVfuS"
   },
   "outputs": [],
   "source": [
    "print('Cuvantul 0 din dictionary', dictionary[0])\n",
    "print('Cuvantul 1 din dictionary', dictionary[1])\n",
    "print('Cuvantul 2 din dictionary', dictionary[2])"
   ]
  },
  {
   "cell_type": "code",
   "execution_count": null,
   "metadata": {
    "id": "f7_ZC7NqVvfq"
   },
   "outputs": [],
   "source": [
    "print('Prima recenzie:', reviews['text_prep_lim'].iloc[0])"
   ]
  },
  {
   "cell_type": "code",
   "execution_count": null,
   "metadata": {
    "id": "3c_CZQ5UVNs3"
   },
   "outputs": [],
   "source": [
    "# Reprezentarea doc2bow pentru review-ul 0\n",
    "corpus_final[0]"
   ]
  },
  {
   "cell_type": "code",
   "execution_count": null,
   "metadata": {
    "id": "yPK42lL5WTon"
   },
   "outputs": [],
   "source": [
    "# (0, 1) -> cuvantul 0 (arrived) apare o singura data in review-ul 0\n",
    "# (1, 1) -> cuvantul 1 (clear) apare o singura data in review-ul 0\n",
    "# (2, 2) -> cuvantul 2 (dinner) apare de 2 ori in review-ul 0\n",
    "# ...."
   ]
  },
  {
   "cell_type": "markdown",
   "metadata": {
    "id": "5ywyGuStXCHa"
   },
   "source": [
    "# LDA 2 topic-uri"
   ]
  },
  {
   "cell_type": "code",
   "execution_count": null,
   "metadata": {
    "id": "KtreuIhNVZJL"
   },
   "outputs": [],
   "source": [
    "ldamodel2 = LdaModel(corpus_final,\n",
    "                     num_topics=2,\n",
    "                     id2word=dictionary,\n",
    "                     passes=15,\n",
    "                     random_state=42\n",
    "                     )"
   ]
  },
  {
   "cell_type": "code",
   "execution_count": null,
   "metadata": {
    "id": "PEoDVxX-YBbw"
   },
   "outputs": [],
   "source": [
    "# Pentru cele 2 topicuri, afisam cele mai importante 3 cuvinte\n",
    "ldamodel2.print_topics(num_words=3)"
   ]
  },
  {
   "cell_type": "code",
   "execution_count": null,
   "metadata": {
    "id": "cIhdVlLYZDFF"
   },
   "outputs": [],
   "source": [
    "print('Recenzia a 5-a:', reviews['text'].iloc[4])"
   ]
  },
  {
   "cell_type": "code",
   "execution_count": null,
   "metadata": {
    "id": "MJ47PZBJZz2x"
   },
   "outputs": [],
   "source": [
    "print('Alocarea topicurilor pentru recenzia a 5a:',\n",
    "      ldamodel2[corpus_final[4]])"
   ]
  },
  {
   "cell_type": "code",
   "execution_count": null,
   "metadata": {
    "id": "zpR4x7nnZ6yP"
   },
   "outputs": [],
   "source": [
    "# Recenzia nr. 5 este 10% Topic 0 (order, get), 90% Topic 1 (good, great)"
   ]
  },
  {
   "cell_type": "markdown",
   "metadata": {
    "id": "3nfs8yC-afB-"
   },
   "source": [
    "## Vizualizare 2 topicuri"
   ]
  },
  {
   "cell_type": "code",
   "execution_count": null,
   "metadata": {
    "id": "XQYO4WpiaPGF"
   },
   "outputs": [],
   "source": [
    "lda_display2 = pyLDAvis.gensim.prepare(ldamodel2, corpus_final, dictionary, sort_topics=False)\n",
    "pyLDAvis.display(lda_display2)"
   ]
  },
  {
   "cell_type": "markdown",
   "metadata": {
    "id": "avIjbX5FeQGx"
   },
   "source": [
    "# LDA 15 topic-uri"
   ]
  },
  {
   "cell_type": "code",
   "execution_count": null,
   "metadata": {
    "id": "vdCA6IpeeXOo"
   },
   "outputs": [],
   "source": [
    "ldamodel15 = LdaModel(corpus_final,\n",
    "                     num_topics=15,\n",
    "                     id2word=dictionary,\n",
    "                     passes=15,\n",
    "                     random_state=42\n",
    "                     )"
   ]
  },
  {
   "cell_type": "code",
   "execution_count": null,
   "metadata": {
    "id": "VTM-Xl0VefC1"
   },
   "outputs": [],
   "source": [
    "ldamodel15.print_topics(num_words=2)"
   ]
  },
  {
   "cell_type": "code",
   "execution_count": null,
   "metadata": {
    "id": "H14LYw37a1Sd"
   },
   "outputs": [],
   "source": [
    "lda_display15 = pyLDAvis.gensim.prepare(ldamodel15, corpus_final, dictionary, \n",
    "                                        sort_topics=False)\n",
    "pyLDAvis.display(lda_display15)"
   ]
  },
  {
   "cell_type": "markdown",
   "metadata": {
    "id": "3Ume5R0ciEbI"
   },
   "source": [
    "# LDA 5 topic-uri"
   ]
  },
  {
   "cell_type": "code",
   "execution_count": null,
   "metadata": {
    "id": "4-YPAd-QfxFv"
   },
   "outputs": [],
   "source": [
    "ldamodel5 = LdaModel(corpus_final,\n",
    "                     num_topics=5,\n",
    "                     id2word=dictionary,\n",
    "                     passes=15,\n",
    "                     random_state=42\n",
    "                     )"
   ]
  },
  {
   "cell_type": "code",
   "execution_count": null,
   "metadata": {
    "id": "sjEtDJTKiP7B"
   },
   "outputs": [],
   "source": [
    "ldamodel5.print_topics(num_words=2)"
   ]
  },
  {
   "cell_type": "code",
   "execution_count": null,
   "metadata": {
    "id": "0eFkqgwZiLTj"
   },
   "outputs": [],
   "source": [
    "lda_display5 = pyLDAvis.gensim.prepare(ldamodel5, corpus_final, dictionary, \n",
    "                                        sort_topics=False)\n",
    "pyLDAvis.display(lda_display5)"
   ]
  },
  {
   "cell_type": "code",
   "execution_count": null,
   "metadata": {
    "id": "RWEGmpYIjSFi"
   },
   "outputs": [],
   "source": []
  }
 ],
 "metadata": {
  "colab": {
   "provenance": []
  },
  "kernelspec": {
   "display_name": "nlp_py_310",
   "language": "python",
   "name": "nlp_py_310"
  },
  "language_info": {
   "codemirror_mode": {
    "name": "ipython",
    "version": 3
   },
   "file_extension": ".py",
   "mimetype": "text/x-python",
   "name": "python",
   "nbconvert_exporter": "python",
   "pygments_lexer": "ipython3",
   "version": "3.10.13"
  }
 },
 "nbformat": 4,
 "nbformat_minor": 4
}
