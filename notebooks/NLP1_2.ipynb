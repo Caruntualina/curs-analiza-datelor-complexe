{
 "cells": [
  {
   "cell_type": "markdown",
   "metadata": {
    "id": "bfHsrxuVMe3X"
   },
   "source": [
    "# Importing Libraries"
   ]
  },
  {
   "cell_type": "code",
   "execution_count": null,
   "metadata": {
    "id": "maG0d6umMgSR",
    "tags": []
   },
   "outputs": [],
   "source": [
    "import pandas as pd\n",
    "import numpy as np\n",
    "\n",
    "# DTM (document-term-matrix)\n",
    "from sklearn.feature_extraction.text import CountVectorizer\n",
    "\n",
    "# Impartirea documentului in cuvinte\n",
    "import nltk\n",
    "nltk.download('punkt')\n",
    "from nltk.tokenize import word_tokenize\n",
    "\n",
    "# Grafice\n",
    "import matplotlib.pyplot as plt\n",
    "\n",
    "# WordCloud\n",
    "from wordcloud import WordCloud"
   ]
  },
  {
   "cell_type": "markdown",
   "metadata": {
    "id": "IHVN2Ap5NV-S"
   },
   "source": [
    "# Citirea Datelor"
   ]
  },
  {
   "cell_type": "code",
   "execution_count": null,
   "metadata": {
    "tags": []
   },
   "outputs": [],
   "source": [
    "url = 'https://github.com/berinde/curs-analiza-datelor-complexe/blob/main/data/input/2.input_data_prepped.csv?raw=True'\n",
    "reviews = pd.read_csv(url)\n",
    "reviews.head(2)"
   ]
  },
  {
   "cell_type": "code",
   "execution_count": null,
   "metadata": {
    "id": "idj3SbnINhpA"
   },
   "outputs": [],
   "source": [
    "# len(reviews)\n",
    "reviews.shape"
   ]
  },
  {
   "cell_type": "code",
   "execution_count": null,
   "metadata": {
    "id": "vKjhRRfYNycp"
   },
   "outputs": [],
   "source": [
    "reviews.dtypes"
   ]
  },
  {
   "cell_type": "code",
   "execution_count": null,
   "metadata": {
    "id": "5bsaivc4N5Qd"
   },
   "outputs": [],
   "source": [
    "# Numarul valorilor nule pentru fiecare coloana\n",
    "reviews.isnull().sum()"
   ]
  },
  {
   "cell_type": "code",
   "execution_count": null,
   "metadata": {
    "id": "oibqimQbOGvi"
   },
   "outputs": [],
   "source": [
    "# reviews[reviews['text_prep'].isnull()]"
   ]
  },
  {
   "cell_type": "code",
   "execution_count": null,
   "metadata": {
    "id": "NyD5zlZZOloZ"
   },
   "outputs": [],
   "source": [
    "reviews['text_prep'] = reviews['text_prep'].astype(str)"
   ]
  },
  {
   "cell_type": "code",
   "execution_count": null,
   "metadata": {
    "id": "RldsRaNxPBVM"
   },
   "outputs": [],
   "source": [
    "reviews.isnull().sum()"
   ]
  },
  {
   "cell_type": "markdown",
   "metadata": {
    "id": "E3-BPl84Pjva"
   },
   "source": [
    "# Document Term Matrix"
   ]
  },
  {
   "cell_type": "code",
   "execution_count": null,
   "metadata": {
    "id": "dN0emM74PDdY"
   },
   "outputs": [],
   "source": [
    "# Construim un vocabular cu cele mai frecvente 6000 de cuvinte\n",
    "vec = CountVectorizer(max_features=6000)\n",
    "\n",
    "# Cream DTM-ul\n",
    "dtm1 = vec.fit_transform(reviews['text_prep'])\n",
    "\n",
    "# Convertim in dataframe\n",
    "dtm = pd.DataFrame(dtm1.toarray(),\n",
    "                   columns=vec.get_feature_names_out())"
   ]
  },
  {
   "cell_type": "code",
   "execution_count": null,
   "metadata": {
    "id": "keezStkTSpST"
   },
   "outputs": [],
   "source": [
    "dtm.head(5)"
   ]
  },
  {
   "cell_type": "code",
   "execution_count": null,
   "metadata": {
    "id": "CiSQGYuXSqe2"
   },
   "outputs": [],
   "source": [
    "reviews['text_prep'].iloc[1000]"
   ]
  },
  {
   "cell_type": "code",
   "execution_count": null,
   "metadata": {
    "id": "26Vl4aoZTa2P"
   },
   "outputs": [],
   "source": [
    "# Cuvantul 'never' apare o singura data in recenzia #1000\n",
    "dtm['never'].iloc[1000]"
   ]
  },
  {
   "cell_type": "code",
   "execution_count": null,
   "metadata": {
    "id": "DyrBGhFWTn4Q"
   },
   "outputs": [],
   "source": [
    "# Cuvantul 'robbie' nu este in top 6000 de cuvinte, \n",
    "# din aceasta cauza nu exista coloana robbie in dtm\n",
    "# dtm['robbie'].iloc[1000]"
   ]
  },
  {
   "cell_type": "code",
   "execution_count": null,
   "metadata": {
    "id": "kMtU8_n9T1kB"
   },
   "outputs": [],
   "source": [
    "reviews.head(2)"
   ]
  },
  {
   "cell_type": "code",
   "execution_count": null,
   "metadata": {
    "id": "ZfTMAnfuXR4g"
   },
   "outputs": [],
   "source": [
    "reviews['text_prep_tokens'] = reviews['text_prep'].apply(word_tokenize)\n",
    "reviews['word_len_prep'] = reviews['text_prep_tokens'].apply(len)\n",
    "reviews.head()"
   ]
  },
  {
   "cell_type": "code",
   "execution_count": null,
   "metadata": {
    "id": "fqDgSmB6XgDb"
   },
   "outputs": [],
   "source": [
    "# Cele top 6000 de cuvinte din DTM\n",
    "top6000 = vec.get_feature_names_out()\n",
    "print(len(top6000))"
   ]
  },
  {
   "cell_type": "code",
   "execution_count": null,
   "metadata": {
    "id": "Eoatpb7GX9H4"
   },
   "outputs": [],
   "source": [
    "# Cream o noua coloaana, care contine doar cuvintele din cele \n",
    "# top 6000 de cuvinte\n",
    "reviews['text_prep_lim_tokens'] = reviews['text_prep_tokens'].apply(lambda x:\n",
    "                                                                    [cuvant for cuvant in x if cuvant in top6000])\n",
    "reviews.head(2)"
   ]
  },
  {
   "cell_type": "code",
   "execution_count": null,
   "metadata": {
    "id": "Z67gpmCcX95d"
   },
   "outputs": [],
   "source": [
    "reviews['word_len_prep_lim'] = reviews['text_prep_lim_tokens'].apply(len)\n",
    "reviews.head(2)"
   ]
  },
  {
   "cell_type": "code",
   "execution_count": null,
   "metadata": {
    "id": "oBuRQ0YraC_G"
   },
   "outputs": [],
   "source": [
    "reviews['text_prep_lim'] = reviews['text_prep_lim_tokens'].apply(lambda x: ' '.join(x))\n",
    "reviews.head(2)"
   ]
  },
  {
   "cell_type": "markdown",
   "metadata": {
    "id": "d4BayMLebCiI"
   },
   "source": [
    "# WordCloud"
   ]
  },
  {
   "cell_type": "code",
   "execution_count": null,
   "metadata": {
    "id": "ICOE765OaZx_"
   },
   "outputs": [],
   "source": [
    "print(dtm.shape)\n",
    "dtm.head(1)"
   ]
  },
  {
   "cell_type": "code",
   "execution_count": null,
   "metadata": {
    "id": "02wXRD1rbFew"
   },
   "outputs": [],
   "source": [
    "word_cloud_frecventa = dtm.sum(axis=0)\n",
    "word_cloud_frecventa"
   ]
  },
  {
   "cell_type": "code",
   "execution_count": null,
   "metadata": {
    "id": "XBsgaFdXbh1J"
   },
   "outputs": [],
   "source": [
    "wordcloud = WordCloud(background_color='white',\n",
    "                      max_words=100,\n",
    "                      colormap='Blues')\n",
    "wordcloud.generate_from_frequencies(word_cloud_frecventa)\n",
    "plt.imshow(wordcloud)\n",
    "plt.axis('off');"
   ]
  },
  {
   "cell_type": "markdown",
   "metadata": {
    "id": "GmJgslLxdjoP"
   },
   "source": [
    "# Word Cloud Positive - Top 20"
   ]
  },
  {
   "cell_type": "code",
   "execution_count": null,
   "metadata": {
    "id": "mk62lxjudugc"
   },
   "outputs": [],
   "source": [
    "reviews.shape"
   ]
  },
  {
   "cell_type": "code",
   "execution_count": null,
   "metadata": {
    "id": "H7sg9md2dxo7"
   },
   "outputs": [],
   "source": [
    "dtm.shape"
   ]
  },
  {
   "cell_type": "code",
   "execution_count": null,
   "metadata": {
    "id": "TfoREevDc_gw"
   },
   "outputs": [],
   "source": [
    "# DTM doar cu recenziile pozitive\n",
    "dtm_pos = dtm[reviews['positive']==1].copy()\n",
    "dtm_pos.shape"
   ]
  },
  {
   "cell_type": "code",
   "execution_count": null,
   "metadata": {
    "id": "IoSRd_hmeMaj"
   },
   "outputs": [],
   "source": [
    "# Frecventa cuvintelor din recenziile pozitive\n",
    "word_cloud_frecventa_pos = dtm_pos.sum(axis=0)\n",
    "word_cloud_frecventa_pos"
   ]
  },
  {
   "cell_type": "code",
   "execution_count": null,
   "metadata": {
    "id": "byOneK5lee9N"
   },
   "outputs": [],
   "source": [
    "wordcloud_pos = WordCloud(background_color='white',\n",
    "                      max_words=20,\n",
    "                      colormap='Greens')\n",
    "wordcloud_pos.generate_from_frequencies(word_cloud_frecventa_pos)\n",
    "plt.imshow(wordcloud_pos)\n",
    "plt.axis('off');"
   ]
  },
  {
   "cell_type": "code",
   "execution_count": null,
   "metadata": {
    "id": "yjN9cerge2JR"
   },
   "outputs": [],
   "source": [
    "wordcloud_pos.words_"
   ]
  },
  {
   "cell_type": "markdown",
   "metadata": {
    "id": "SB2htJsdfoIP"
   },
   "source": [
    "Tema 1 (10% din nota finala)\n",
    "*   Creati un wordcloud pentru top 20 de cuvinte din recenziile negative\n",
    "*   File - Download - Download .py\n",
    "*   Deadline: 12 Mar\n",
    "\n"
   ]
  },
  {
   "cell_type": "markdown",
   "metadata": {
    "id": "4Ms2pl4DgdsH"
   },
   "source": [
    "# Frecventa Cuvintelor"
   ]
  },
  {
   "cell_type": "code",
   "execution_count": null,
   "metadata": {
    "id": "twFvnkYBfdgn"
   },
   "outputs": [],
   "source": [
    "type(word_cloud_frecventa)"
   ]
  },
  {
   "cell_type": "code",
   "execution_count": null,
   "metadata": {
    "id": "zfvNa5dJgnZr"
   },
   "outputs": [],
   "source": [
    "frecventa_cuvinte = pd.DataFrame(word_cloud_frecventa,\n",
    "                                 columns=['Frecventa']).reset_index()\n",
    "frecventa_cuvinte.head(2)"
   ]
  },
  {
   "cell_type": "code",
   "execution_count": null,
   "metadata": {
    "id": "uOnRJ3-wg7Vj"
   },
   "outputs": [],
   "source": [
    "top10 = frecventa_cuvinte.sort_values(by='Frecventa', \n",
    "                                      ascending=False).head(10)\n",
    "top10"
   ]
  },
  {
   "cell_type": "code",
   "execution_count": null,
   "metadata": {
    "id": "X0Ftf9jehcPD"
   },
   "outputs": [],
   "source": [
    "plt.barh(y=top10['index'],\n",
    "         width=top10['Frecventa'])\n",
    "plt.title('Top 10 Cuvinte din toate recenziile')\n",
    "plt.xlabel('Frecventa')\n",
    "plt.ylabel('Cuvant')\n",
    "plt.show()"
   ]
  },
  {
   "cell_type": "markdown",
   "metadata": {
    "id": "5ByNVpS7iTKn"
   },
   "source": [
    "# Lungimea cuvantului"
   ]
  },
  {
   "cell_type": "code",
   "execution_count": null,
   "metadata": {
    "id": "NWg4tcHliIMQ"
   },
   "outputs": [],
   "source": [
    "frecventa_cuvinte['lungime_cuvant'] = frecventa_cuvinte['index'].apply(len)\n",
    "frecventa_cuvinte.head()"
   ]
  },
  {
   "cell_type": "code",
   "execution_count": null,
   "metadata": {
    "id": "BNQb9GoBiW4Y"
   },
   "outputs": [],
   "source": [
    "frecventa_cuvinte['lungime_cuvant'].describe()"
   ]
  },
  {
   "cell_type": "code",
   "execution_count": null,
   "metadata": {
    "id": "2KRJ_uWgircu"
   },
   "outputs": [],
   "source": [
    "frecventa_cuvinte[frecventa_cuvinte['lungime_cuvant']>=15]"
   ]
  },
  {
   "cell_type": "code",
   "execution_count": null,
   "metadata": {
    "id": "LxgH2FSnjLC-"
   },
   "outputs": [],
   "source": [
    "frecventa_cuvinte['Frecventa'].describe()"
   ]
  },
  {
   "cell_type": "code",
   "execution_count": null,
   "metadata": {
    "id": "mlo-D7vsjR_G"
   },
   "outputs": [],
   "source": [
    "frecventa_cuvinte[frecventa_cuvinte['Frecventa']>=5000]"
   ]
  },
  {
   "cell_type": "markdown",
   "metadata": {
    "id": "tAZO7rgui9kD"
   },
   "source": [
    "# Diversitate Lexicala: nr. de cuvinte unice pentru fiecare document"
   ]
  },
  {
   "cell_type": "code",
   "execution_count": null,
   "metadata": {
    "id": "TeByBbrRi5M_"
   },
   "outputs": [],
   "source": [
    "dtm.head(1)"
   ]
  },
  {
   "cell_type": "code",
   "execution_count": null,
   "metadata": {
    "id": "aMQZPn98jms3"
   },
   "outputs": [],
   "source": [
    "lexical = pd.DataFrame(np.count_nonzero(dtm, axis=1),\n",
    "                       columns=['Cuvinte Unice'])\n",
    "lexical.head(2)"
   ]
  },
  {
   "cell_type": "code",
   "execution_count": null,
   "metadata": {
    "id": "53nxFZQ8j0gB"
   },
   "outputs": [],
   "source": [
    "lexical['Cuvinte Totale'] = dtm.sum(axis=1)\n",
    "lexical.head(2)"
   ]
  },
  {
   "cell_type": "code",
   "execution_count": null,
   "metadata": {
    "id": "YQh0SV5BkkUx"
   },
   "outputs": [],
   "source": [
    "reviews['text_prep_lim'].iloc[1]"
   ]
  },
  {
   "cell_type": "code",
   "execution_count": null,
   "metadata": {
    "id": "j7FaLIufkrw-"
   },
   "outputs": [],
   "source": [
    "lexical.describe()"
   ]
  },
  {
   "cell_type": "code",
   "execution_count": null,
   "metadata": {
    "id": "ckT8VIOgk8SQ"
   },
   "outputs": [],
   "source": [
    "lexical['positive'] = reviews['positive'].copy()\n",
    "lexical.head(2)"
   ]
  },
  {
   "cell_type": "code",
   "execution_count": null,
   "metadata": {
    "id": "oXlEKuOulOaJ"
   },
   "outputs": [],
   "source": [
    "lexical.groupby('positive').mean()"
   ]
  },
  {
   "cell_type": "markdown",
   "metadata": {
    "id": "mJdDRrmVloDF"
   },
   "source": [
    "# Densitate Lexicala: nr. de cuvinte unice / totale"
   ]
  },
  {
   "cell_type": "code",
   "execution_count": null,
   "metadata": {
    "id": "W1-X_9p-lUMQ"
   },
   "outputs": [],
   "source": [
    "lexical['densitate'] = lexical['Cuvinte Unice'] / lexical['Cuvinte Totale']\n",
    "lexical.head(2)"
   ]
  },
  {
   "cell_type": "code",
   "execution_count": null,
   "metadata": {
    "id": "IiMwtTJll7ym"
   },
   "outputs": [],
   "source": [
    "lexical.groupby('positive').mean()"
   ]
  },
  {
   "cell_type": "code",
   "execution_count": null,
   "metadata": {},
   "outputs": [],
   "source": []
  }
 ],
 "metadata": {
  "colab": {
   "provenance": []
  },
  "kernelspec": {
   "display_name": "nlp_py_310",
   "language": "python",
   "name": "nlp_py_310"
  },
  "language_info": {
   "codemirror_mode": {
    "name": "ipython",
    "version": 3
   },
   "file_extension": ".py",
   "mimetype": "text/x-python",
   "name": "python",
   "nbconvert_exporter": "python",
   "pygments_lexer": "ipython3",
   "version": "3.10.13"
  }
 },
 "nbformat": 4,
 "nbformat_minor": 4
}
