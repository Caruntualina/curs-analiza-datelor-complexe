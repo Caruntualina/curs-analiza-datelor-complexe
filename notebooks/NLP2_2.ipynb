{
 "cells": [
  {
   "cell_type": "markdown",
   "metadata": {
    "id": "amGmVjT5Gc5K"
   },
   "source": [
    "# Importing Libraries\n",
    "\n",
    "\n"
   ]
  },
  {
   "cell_type": "markdown",
   "metadata": {
    "tags": []
   },
   "source": [
    "## Folosim Python 3 kernel"
   ]
  },
  {
   "cell_type": "code",
   "execution_count": null,
   "metadata": {
    "id": "y3FOgqhVGacU",
    "tags": []
   },
   "outputs": [],
   "source": [
    "import pandas as pd\n",
    "import numpy as np\n",
    "\n",
    "# Pentru implementarea reprezentarilor vectoriale Word2Vec & FastText / word embeddings\n",
    "from gensim.models import Word2Vec\n",
    "from gensim.models.fasttext import FastText\n",
    "\n",
    "# Pentru reducerea nr. de dimensiuni (PCA - analiza componentelor principale)\n",
    "from sklearn.decomposition import PCA\n",
    "\n",
    "# Pentru vizualizare\n",
    "import plotly.express as px"
   ]
  },
  {
   "cell_type": "code",
   "execution_count": null,
   "metadata": {
    "id": "j2FaY7XtG-ID"
   },
   "outputs": [],
   "source": [
    "prop = [\n",
    "    ['we', 'will', 'use', 'word2vec'],\n",
    "    ['we', 'will', 'also', 'use', 'fasttext'],\n",
    "    ['this', 'is', 'a', 'sentence'],\n",
    "    ['what', 'embedding', 'is', 'best', 'for', 'this', 'sentence'],\n",
    "    ['lets', 'find', 'out']\n",
    "]"
   ]
  },
  {
   "cell_type": "code",
   "execution_count": null,
   "metadata": {
    "id": "CCx_XuU8IA4y"
   },
   "outputs": [],
   "source": [
    "prop"
   ]
  },
  {
   "cell_type": "markdown",
   "metadata": {
    "id": "T2Bs4hwqIFF8"
   },
   "source": [
    "# Word2Vec"
   ]
  },
  {
   "cell_type": "code",
   "execution_count": null,
   "metadata": {
    "id": "t7miwQnMH5Og"
   },
   "outputs": [],
   "source": [
    "# min_count: ignora toate cuvintele cu o frecventa mai mica decat valoarea min_count\n",
    "# size: numarul de dimensiuni\n",
    "\n",
    "model_word2vec = Word2Vec(prop, min_count=1, vector_size=4, seed=42)\n",
    "# model_word2vec = Word2Vec(prop, min_count=1, size=4, seed=42)"
   ]
  },
  {
   "cell_type": "code",
   "execution_count": null,
   "metadata": {
    "id": "L8AD4LkTKO8g"
   },
   "outputs": [],
   "source": [
    "# Reprezentarea vectoriala a cuvantului 'sentence' in cele 4 dimensiuni\n",
    "model_word2vec.wv['sentence']"
   ]
  },
  {
   "cell_type": "code",
   "execution_count": null,
   "metadata": {
    "id": "TUf4UwyBKlGn"
   },
   "outputs": [],
   "source": [
    "# Word2Vec nu poate crea reprezentari vectoriale pentru cuvintele care\n",
    "# nu au fost vazute in partea de training: e.g. sentiment\n",
    "# KeyError: \"Key 'sentiment' not present\"\n",
    "\n",
    "model_word2vec.wv['sentiment']"
   ]
  },
  {
   "cell_type": "markdown",
   "metadata": {
    "id": "Ij9N8cNALjvQ"
   },
   "source": [
    "## Vizualizarea cuvintelor in 3 dimensiuni"
   ]
  },
  {
   "cell_type": "code",
   "execution_count": null,
   "metadata": {
    "id": "hvbdPl09K1bi"
   },
   "outputs": [],
   "source": [
    "# # Cream o lista cu toate cuvintele din modelul word2vec\n",
    "# lista_cuvinte = list(model_word2vec.wv.vocab)\n",
    "# lista_cuvinte"
   ]
  },
  {
   "cell_type": "code",
   "execution_count": null,
   "metadata": {
    "tags": []
   },
   "outputs": [],
   "source": [
    "# Cream o lista cu toate cuvintele din modelul word2vec\n",
    "lista_cuvinte = []\n",
    "for index, cuvant in enumerate(model_word2vec.wv.index_to_key):\n",
    "    lista_cuvinte.append(cuvant)"
   ]
  },
  {
   "cell_type": "code",
   "execution_count": null,
   "metadata": {
    "id": "61T-EP2HL9Vv"
   },
   "outputs": [],
   "source": [
    "# Pentru fiecare cuvant din lista_cuvinte, reprezentarile vectoriale in 4 dimensiuni\n",
    "X_word2vec = model_word2vec.wv[lista_cuvinte]\n",
    "X_word2vec"
   ]
  },
  {
   "cell_type": "code",
   "execution_count": null,
   "metadata": {
    "id": "tMKj_rVMMQye"
   },
   "outputs": [],
   "source": [
    "# Aplicam PCA pentru a reduce de la 4 dimensiuni la 3\n",
    "pca_word2vec = PCA(n_components=3).fit_transform(X_word2vec)\n",
    "pca_word2vec"
   ]
  },
  {
   "cell_type": "code",
   "execution_count": null,
   "metadata": {
    "id": "kSea9hu7M1fx"
   },
   "outputs": [],
   "source": [
    "fig = px.scatter_3d(x=pca_word2vec[:, 0],\n",
    "                    y=pca_word2vec[:, 1],\n",
    "                    z=pca_word2vec[:, 2],\n",
    "                    text=lista_cuvinte)\n",
    "fig.show()"
   ]
  },
  {
   "cell_type": "markdown",
   "metadata": {
    "id": "hnKNQDIwPHQT"
   },
   "source": [
    "# FastText"
   ]
  },
  {
   "cell_type": "code",
   "execution_count": null,
   "metadata": {
    "id": "_cGvbZqOONQO"
   },
   "outputs": [],
   "source": [
    "model_fasttext = FastText(prop, min_count=1, vector_size=4, seed=42)"
   ]
  },
  {
   "cell_type": "code",
   "execution_count": null,
   "metadata": {
    "id": "kujtcxKkPvrv"
   },
   "outputs": [],
   "source": [
    "# Reprezentarea vectoriala FastText pentru\n",
    "# 'sentence', un cuvant care a fost vazut in partea training\n",
    "model_fasttext.wv['sentence']"
   ]
  },
  {
   "cell_type": "code",
   "execution_count": null,
   "metadata": {
    "id": "RcbXth_gQAHy"
   },
   "outputs": [],
   "source": [
    "# Reprezentarea vectoriala pentru sentiment este realizata,\n",
    "# chiar daca acest cuvant nu a fost vazut in partea de training\n",
    "# pentru ca se imparte cuvant-ul sentiment in n-grams (grupuri de n caractere)\n",
    "# si se agrega reprezentarile vectoriale pentru fiecare n-gram\n",
    "model_fasttext.wv['sentiment']\n",
    "\n",
    "# se, sen, ent, nti, tim, ime, men, ent, nt"
   ]
  },
  {
   "cell_type": "markdown",
   "metadata": {
    "id": "gx5efsaiRwsf"
   },
   "source": [
    "# Vizualizarea cuvintelor in 2 dimensiuni"
   ]
  },
  {
   "cell_type": "code",
   "execution_count": null,
   "metadata": {
    "id": "0ovRWKWKRNx6"
   },
   "outputs": [],
   "source": [
    "# Reprezentarea vectoriala FastText pentru fiecare cuvant din lista_cuvinte in 4 dimensiuni\n",
    "X_fasttext = model_fasttext.wv[lista_cuvinte]\n",
    "X_fasttext"
   ]
  },
  {
   "cell_type": "code",
   "execution_count": null,
   "metadata": {
    "id": "26HecMQiR-Y8"
   },
   "outputs": [],
   "source": [
    "pca_fasttext = PCA(n_components=2).fit_transform(X_fasttext)\n",
    "pca_fasttext"
   ]
  },
  {
   "cell_type": "code",
   "execution_count": null,
   "metadata": {
    "id": "N2qFsKF5SXA8"
   },
   "outputs": [],
   "source": [
    "fig = px.scatter(x=pca_fasttext[:,0],\n",
    "                 y=pca_fasttext[:,1],\n",
    "                 text=lista_cuvinte)\n",
    "fig.update_traces(textposition='top center',\n",
    "                  textfont_size=14)\n",
    "fig.show()"
   ]
  },
  {
   "cell_type": "code",
   "execution_count": null,
   "metadata": {},
   "outputs": [],
   "source": []
  }
 ],
 "metadata": {
  "colab": {
   "provenance": []
  },
  "kernelspec": {
   "display_name": "Python 3 (ipykernel)",
   "language": "python",
   "name": "python3"
  },
  "language_info": {
   "codemirror_mode": {
    "name": "ipython",
    "version": 3
   },
   "file_extension": ".py",
   "mimetype": "text/x-python",
   "name": "python",
   "nbconvert_exporter": "python",
   "pygments_lexer": "ipython3",
   "version": "3.11.5"
  }
 },
 "nbformat": 4,
 "nbformat_minor": 4
}
