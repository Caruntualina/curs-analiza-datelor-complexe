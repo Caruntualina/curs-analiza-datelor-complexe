{
  "nbformat": 4,
  "nbformat_minor": 0,
  "metadata": {
    "colab": {
      "provenance": [],
      "toc_visible": true
    },
    "kernelspec": {
      "name": "python3",
      "display_name": "Python 3"
    },
    "language_info": {
      "name": "python"
    },
    "accelerator": "GPU",
    "gpuClass": "standard"
  },
  "cells": [
    {
      "cell_type": "markdown",
      "source": [
        "# Importing Libraries"
      ],
      "metadata": {
        "id": "EsTNOAIeCByq"
      }
    },
    {
      "cell_type": "code",
      "source": [
        "!pip install ktrain"
      ],
      "metadata": {
        "collapsed": true,
        "id": "iyXc3U9uCIYU"
      },
      "execution_count": null,
      "outputs": []
    },
    {
      "cell_type": "code",
      "source": [
        "import pandas as pd\n",
        "import numpy as np\n",
        "\n",
        "# Classification Report, Train Test Split\n",
        "from sklearn.metrics import classification_report\n",
        "from sklearn.model_selection import train_test_split\n",
        "\n",
        "# Lexicon\n",
        "import nltk\n",
        "from nltk.sentiment.vader import SentimentIntensityAnalyzer\n",
        "nltk.download('vader_lexicon')\n",
        "\n",
        "# TF-IDF + LR\n",
        "from gensim.parsing.preprocessing import preprocess_documents\n",
        "from sklearn.feature_extraction.text import TfidfVectorizer\n",
        "from sklearn.linear_model import LogisticRegression\n",
        "\n",
        "# BERT\n",
        "import ktrain\n",
        "from ktrain import text"
      ],
      "metadata": {
        "id": "-L8VczsZCIa3"
      },
      "execution_count": null,
      "outputs": []
    },
    {
      "cell_type": "markdown",
      "source": [
        "# Citirea datelor"
      ],
      "metadata": {
        "id": "9yU5m-5kEHFP"
      }
    },
    {
      "cell_type": "code",
      "execution_count": null,
      "metadata": {
        "collapsed": true,
        "id": "VLYMOPwMB6bn"
      },
      "outputs": [],
      "source": [
        "url = 'https://raw.githubusercontent.com/DanielaManate/SentimentAnalysis-TopicModeling/master/Data/Input/1.input_data.csv'\n",
        "reviews = pd.read_csv(url)\n",
        "print(reviews.shape)\n",
        "reviews.head(2)"
      ]
    },
    {
      "cell_type": "code",
      "source": [
        "reviews['rating'].value_counts()"
      ],
      "metadata": {
        "collapsed": true,
        "id": "_i64t28oEV7J"
      },
      "execution_count": null,
      "outputs": []
    },
    {
      "cell_type": "code",
      "source": [
        "# Excludem rating-urile de 3\n",
        "reviews = reviews[reviews['rating']!=3].reset_index(drop=True)\n",
        "print(reviews.shape)\n",
        "reviews.head(2)"
      ],
      "metadata": {
        "id": "Ogk3SS-mEjT1"
      },
      "execution_count": null,
      "outputs": []
    },
    {
      "cell_type": "code",
      "source": [
        "reviews['rating'].value_counts()"
      ],
      "metadata": {
        "collapsed": true,
        "id": "DIPIbs3TFf5M"
      },
      "execution_count": null,
      "outputs": []
    },
    {
      "cell_type": "code",
      "source": [
        "# Adaugam coloana 'positive'\n",
        "reviews['positive'] = np.where(reviews['rating']<3, 0, 1)\n",
        "reviews['positive'].value_counts()"
      ],
      "metadata": {
        "id": "IEQlUzKwFpKc"
      },
      "execution_count": null,
      "outputs": []
    },
    {
      "cell_type": "markdown",
      "source": [
        "# Sentiment Analysis using VADER Lexicon"
      ],
      "metadata": {
        "id": "oBEKkNP8GbVu"
      }
    },
    {
      "cell_type": "code",
      "source": [
        "reviews['vader_score'] = reviews['text'].apply(lambda x: SentimentIntensityAnalyzer().polarity_scores(x)['compound'])\n",
        "reviews.head(2)"
      ],
      "metadata": {
        "collapsed": true,
        "id": "IL0Ft9q9GMvg"
      },
      "execution_count": null,
      "outputs": []
    },
    {
      "cell_type": "code",
      "source": [
        "reviews['vader_score'].describe()"
      ],
      "metadata": {
        "collapsed": true,
        "id": "FaWNiNACG0oH"
      },
      "execution_count": null,
      "outputs": []
    },
    {
      "cell_type": "code",
      "source": [
        "reviews['vader_class'] = np.where(reviews['vader_score']>=0, 1, 0)\n",
        "reviews.head(2)"
      ],
      "metadata": {
        "collapsed": true,
        "id": "iQOF-jGmHYOM"
      },
      "execution_count": null,
      "outputs": []
    },
    {
      "cell_type": "code",
      "source": [
        "print(classification_report(reviews['positive'], \n",
        "                            reviews['vader_class']))"
      ],
      "metadata": {
        "id": "_76N4aTEILl9"
      },
      "execution_count": null,
      "outputs": []
    },
    {
      "cell_type": "markdown",
      "source": [
        "# Sentiment Analysis using TF-IDF + Logistic Regression\n",
        "https://radimrehurek.com/gensim/parsing/preprocessing.html#gensim.parsing.preprocessing.stem_text\n"
      ],
      "metadata": {
        "id": "WzDn0A9cMdEr"
      }
    },
    {
      "cell_type": "code",
      "source": [
        "corpus = preprocess_documents(reviews['text'])"
      ],
      "metadata": {
        "id": "oHBVN5sPMlJ2"
      },
      "execution_count": null,
      "outputs": []
    },
    {
      "cell_type": "code",
      "source": [
        "corpus[0:2]"
      ],
      "metadata": {
        "collapsed": true,
        "id": "2SsO3MldNVjk"
      },
      "execution_count": null,
      "outputs": []
    },
    {
      "cell_type": "code",
      "source": [
        "len(corpus)"
      ],
      "metadata": {
        "id": "qU68tIH3NIGd"
      },
      "execution_count": null,
      "outputs": []
    },
    {
      "cell_type": "code",
      "source": [
        "corpus_final = [\" \".join(x) for x in corpus]\n",
        "corpus_final[0:2]"
      ],
      "metadata": {
        "collapsed": true,
        "id": "YILdZjG5NIIa"
      },
      "execution_count": null,
      "outputs": []
    },
    {
      "cell_type": "code",
      "source": [
        "reviews['text_prep'] = corpus_final\n",
        "reviews.head(2)"
      ],
      "metadata": {
        "id": "10tp-KpiOYy4"
      },
      "execution_count": null,
      "outputs": []
    },
    {
      "cell_type": "code",
      "source": [
        "# Consideram doar top 6000 de cuvinete pentru reprezentarea TFIDF\n",
        "# (top 6000 dupa frecventa aparitiilor lor in corpus)\n",
        "vec = TfidfVectorizer(max_features=6000)\n",
        "tf_idf = vec.fit_transform(reviews['text_prep'])\n",
        "# Cele top 6000 de cuvinte\n",
        "cuvinte = vec.get_feature_names_out()"
      ],
      "metadata": {
        "id": "uYJFbOnyOY8v"
      },
      "execution_count": null,
      "outputs": []
    },
    {
      "cell_type": "code",
      "source": [
        "# Transformam in dataframe\n",
        "dtm_tf_idf = pd.DataFrame(tf_idf.toarray(),\n",
        "                          columns=cuvinte)\n",
        "print(dtm_tf_idf.shape)\n",
        "dtm_tf_idf.head(2)"
      ],
      "metadata": {
        "id": "V-bn1Of0OZBU"
      },
      "execution_count": null,
      "outputs": []
    },
    {
      "cell_type": "code",
      "source": [
        "print('Valoarea minima din reprezentarea TF IDF:', dtm_tf_idf.min().min())\n",
        "print('Valoarea maxima din reprezentarea TF IDF:', dtm_tf_idf.max().max())"
      ],
      "metadata": {
        "id": "pHtBmBqtOZDr"
      },
      "execution_count": null,
      "outputs": []
    },
    {
      "cell_type": "code",
      "source": [
        "X_train_tfidf, X_test_tfidf, y_train_tfidf, y_test_tfidf = train_test_split(\n",
        "     dtm_tf_idf,\n",
        "     reviews['positive'],\n",
        "     train_size=0.8,\n",
        "     random_state=42\n",
        ")\n",
        "print(X_train_tfidf.shape, X_test_tfidf.shape)"
      ],
      "metadata": {
        "id": "8kphxvs4OZIm"
      },
      "execution_count": null,
      "outputs": []
    },
    {
      "cell_type": "code",
      "source": [
        "X_train_tfidf.head(2)"
      ],
      "metadata": {
        "collapsed": true,
        "id": "3g9P95_RSJS5"
      },
      "execution_count": null,
      "outputs": []
    },
    {
      "cell_type": "code",
      "source": [
        "model_lr = LogisticRegression()\n",
        "model_lr.fit(X_train_tfidf, y_train_tfidf)"
      ],
      "metadata": {
        "id": "Xk0bDYa_SQn3"
      },
      "execution_count": null,
      "outputs": []
    },
    {
      "cell_type": "code",
      "source": [
        "# Predictiile pe setul de test\n",
        "ypred_test_tfidf = model_lr.predict(X_test_tfidf)"
      ],
      "metadata": {
        "id": "SEdg1H-cSQqN"
      },
      "execution_count": null,
      "outputs": []
    },
    {
      "cell_type": "code",
      "source": [
        "print('Acuratetea pe setul de training',\n",
        "      model_lr.score(X_train_tfidf, y_train_tfidf))\n",
        "print('Performanta Modelului pe setul de test:\\n',\n",
        "      classification_report(y_test_tfidf, ypred_test_tfidf))"
      ],
      "metadata": {
        "id": "jrHovWPQSQsl"
      },
      "execution_count": null,
      "outputs": []
    },
    {
      "cell_type": "markdown",
      "source": [
        "# Sentiment Analysis using BERT"
      ],
      "metadata": {
        "id": "rwV9DSqrMdLe"
      }
    },
    {
      "cell_type": "code",
      "source": [
        "data_train, data_test, _, _ = train_test_split(\n",
        "    reviews[['text', 'positive']],\n",
        "    reviews['positive'],\n",
        "    train_size=0.8,\n",
        "    random_state=42)\n",
        "print(data_train.shape)\n",
        "print(data_test.shape)"
      ],
      "metadata": {
        "id": "WQX86yWQIan8"
      },
      "execution_count": null,
      "outputs": []
    },
    {
      "cell_type": "code",
      "source": [
        "(X_train, y_train), (X_test, y_test), preprocessor = text.texts_from_df(\n",
        "    train_df=data_train,\n",
        "    val_df=data_test,\n",
        "    text_column='text',\n",
        "    label_columns='positive',\n",
        "    maxlen=128, #nr. de cuvinte considerat pentru fiecare recenzie\n",
        "    preprocess_mode='bert'\n",
        "    )"
      ],
      "metadata": {
        "id": "xtkcti8bVWak"
      },
      "execution_count": null,
      "outputs": []
    },
    {
      "cell_type": "code",
      "source": [
        "model_bert = text.text_classifier(name='bert',\n",
        "                                  train_data=(X_train, y_train),\n",
        "                                  preproc=preprocessor)"
      ],
      "metadata": {
        "id": "3HQQmOg8V9D8"
      },
      "execution_count": null,
      "outputs": []
    },
    {
      "cell_type": "code",
      "source": [
        "learner = ktrain.get_learner(model=model_bert,\n",
        "                             train_data=(X_train, y_train),\n",
        "                             val_data=(X_test, y_test))"
      ],
      "metadata": {
        "id": "Rzy6dSJdW_JM"
      },
      "execution_count": null,
      "outputs": []
    },
    {
      "cell_type": "code",
      "source": [
        "learner.fit_onecycle(lr=3e-5, epochs=2)"
      ],
      "metadata": {
        "id": "hk4tRNthXeqk"
      },
      "execution_count": null,
      "outputs": []
    },
    {
      "cell_type": "code",
      "source": [
        "learner.validate()"
      ],
      "metadata": {
        "id": "5cCWnknWX4Ms"
      },
      "execution_count": null,
      "outputs": []
    },
    {
      "cell_type": "code",
      "source": [],
      "metadata": {
        "id": "BDZj557lawiS"
      },
      "execution_count": null,
      "outputs": []
    }
  ]
}