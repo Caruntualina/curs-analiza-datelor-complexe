{
  "nbformat": 4,
  "nbformat_minor": 0,
  "metadata": {
    "colab": {
      "provenance": [],
      "toc_visible": true
    },
    "kernelspec": {
      "name": "python3",
      "display_name": "Python 3"
    },
    "language_info": {
      "name": "python"
    }
  },
  "cells": [
    {
      "cell_type": "markdown",
      "source": [
        "# Importing Libraries"
      ],
      "metadata": {
        "id": "h_mynntn7Qtz"
      }
    },
    {
      "cell_type": "code",
      "execution_count": null,
      "metadata": {
        "id": "XpatzkKo7OvP"
      },
      "outputs": [],
      "source": [
        "import pandas as pd\n",
        "import numpy as np\n",
        "\n",
        "# Impartirea setului de date in train & test\n",
        "from sklearn.model_selection import train_test_split\n",
        "\n",
        "# Pentru alg. de clasificare fol. Log. Reg.\n",
        "from sklearn.linear_model import LogisticRegression\n",
        "\n",
        "# Evaluarea Performantei\n",
        "from sklearn.metrics import classification_report\n",
        "\n",
        "# Tokenization\n",
        "import nltk\n",
        "nltk.download('punkt')\n",
        "from nltk.tokenize import word_tokenize\n",
        "\n",
        "# Salvarea modelului\n",
        "import pickle"
      ]
    },
    {
      "cell_type": "markdown",
      "source": [
        "# Citirea datelor"
      ],
      "metadata": {
        "id": "B1GpdRKx8SGn"
      }
    },
    {
      "cell_type": "code",
      "source": [
        "url = 'https://raw.githubusercontent.com/DanielaManate/SentimentAnalysis-TopicModeling/master/Data/Input/3.input_data_prepped_bow.csv'\n",
        "reviews = pd.read_csv(url)\n",
        "reviews.head(2)"
      ],
      "metadata": {
        "id": "sDJgr6yW8aq-"
      },
      "execution_count": null,
      "outputs": []
    },
    {
      "cell_type": "code",
      "source": [
        "reviews.shape"
      ],
      "metadata": {
        "collapsed": true,
        "id": "D7Z1L-ZK8kn0"
      },
      "execution_count": null,
      "outputs": []
    },
    {
      "cell_type": "code",
      "source": [
        "!wget -O dtms.zip https://github.com/DanielaManate/SentimentAnalysis-TopicModeling/blob/master/Data/Input/dtms.zip?raw=true"
      ],
      "metadata": {
        "collapsed": true,
        "id": "HldMaud88yWh"
      },
      "execution_count": null,
      "outputs": []
    },
    {
      "cell_type": "code",
      "source": [
        "!unzip dtms.zip"
      ],
      "metadata": {
        "id": "ddntqwYl9UXV"
      },
      "execution_count": null,
      "outputs": []
    },
    {
      "cell_type": "code",
      "source": [
        "dtm_bow = pd.read_csv('dtm_1_bow.csv')"
      ],
      "metadata": {
        "id": "ytXuisBP9WSv"
      },
      "execution_count": null,
      "outputs": []
    },
    {
      "cell_type": "code",
      "source": [
        "dtm_bow.shape"
      ],
      "metadata": {
        "id": "KmpS2TjR9xtr"
      },
      "execution_count": null,
      "outputs": []
    },
    {
      "cell_type": "code",
      "source": [
        "dtm_bow.head(2)"
      ],
      "metadata": {
        "id": "whtM_ZYf98Mv"
      },
      "execution_count": null,
      "outputs": []
    },
    {
      "cell_type": "code",
      "source": [
        "dtm_tf_idf = pd.read_csv('dtm_2_tfidf.csv')\n",
        "dtm_tf_idf.head(2)"
      ],
      "metadata": {
        "id": "rJs6LkEG9-on"
      },
      "execution_count": null,
      "outputs": []
    },
    {
      "cell_type": "markdown",
      "source": [
        "# Clasificare folosing reprezentarea BOW"
      ],
      "metadata": {
        "id": "6TqnbG3i-9-8"
      }
    },
    {
      "cell_type": "markdown",
      "source": [
        "## BOW - impartirea setului de date in set de training & test"
      ],
      "metadata": {
        "id": "LhOorYJU_GOf"
      }
    },
    {
      "cell_type": "code",
      "source": [
        "X_train_bow, X_test_bow, y_train_bow, y_test_bow = train_test_split(\n",
        "    dtm_bow,\n",
        "    reviews['positive'],\n",
        "    train_size=0.8,\n",
        "    random_state=42\n",
        "    )"
      ],
      "metadata": {
        "id": "AotrJlkT-RTl"
      },
      "execution_count": null,
      "outputs": []
    },
    {
      "cell_type": "code",
      "source": [
        "print(len(X_train_bow), len(X_test_bow), len(y_train_bow), len(y_test_bow))"
      ],
      "metadata": {
        "id": "JLoHvrMsBC0b"
      },
      "execution_count": null,
      "outputs": []
    },
    {
      "cell_type": "code",
      "source": [
        "y_test_bow"
      ],
      "metadata": {
        "collapsed": true,
        "id": "wiPHmnhHBPSW"
      },
      "execution_count": null,
      "outputs": []
    },
    {
      "cell_type": "code",
      "source": [
        "y_train_bow.mean()"
      ],
      "metadata": {
        "id": "XvImLvrbBWac"
      },
      "execution_count": null,
      "outputs": []
    },
    {
      "cell_type": "code",
      "source": [
        "y_test_bow.mean()"
      ],
      "metadata": {
        "id": "d9EsXCwyBqW-"
      },
      "execution_count": null,
      "outputs": []
    },
    {
      "cell_type": "markdown",
      "source": [
        "## BOW + Logistic Regression"
      ],
      "metadata": {
        "id": "XT32iu7OC74L"
      }
    },
    {
      "cell_type": "code",
      "source": [
        "m1_bow = LogisticRegression()\n",
        "m1_bow.fit(X_train_bow, y_train_bow)"
      ],
      "metadata": {
        "id": "LdWd05H0B0_8"
      },
      "execution_count": null,
      "outputs": []
    },
    {
      "cell_type": "code",
      "source": [
        "# Generam predictiile pe setul de test\n",
        "ypred1_bow = m1_bow.predict(X_test_bow)\n",
        "ypred1_bow"
      ],
      "metadata": {
        "id": "lI8rJ3z0DcpW"
      },
      "execution_count": null,
      "outputs": []
    },
    {
      "cell_type": "code",
      "source": [
        "len(ypred1_bow)"
      ],
      "metadata": {
        "id": "PO6hvEGsEI-k"
      },
      "execution_count": null,
      "outputs": []
    },
    {
      "cell_type": "code",
      "source": [
        "print('Acuratetea pe setul de training:', m1_bow.score(X_train_bow, y_train_bow))\n",
        "print('Acuratetea pe setul de test:', m1_bow.score(X_test_bow, y_test_bow))\n",
        "\n",
        "print('Classification Report pe setul de test\\n',\n",
        "      classification_report(y_test_bow, ypred1_bow)\n",
        "      )"
      ],
      "metadata": {
        "id": "6uV6jaHqEM3D"
      },
      "execution_count": null,
      "outputs": []
    },
    {
      "cell_type": "code",
      "source": [
        "pickle.dump(m1_bow, open('m1_bow.pkl', 'wb'))"
      ],
      "metadata": {
        "id": "9J4xIwMgOTcP"
      },
      "execution_count": null,
      "outputs": []
    },
    {
      "cell_type": "markdown",
      "source": [
        "* P = positive <-> reviews['positive']==1\n",
        "* N = negative <-> reviews['positive']==0\n",
        "* TP = recenziile prezise ca pozitive, sunt pozitive\n",
        "* TN = recenziile prezise ca negative, sunt negative\n",
        "* FP = recenziile prezise ca pozitive, sunt negative\n",
        "* FN = recenziile prezise ca negative, sunt pozitive\n",
        "* Precision = $\\frac{TP}{TP+FP}$, din toate cazurile pe care le-am prezis ca pozitive, cate sunt de fapt?\n",
        "* Recall = $\\frac{TP}{TP+FN}$, din toate cazurile care sunt pozitive, cate le-am prezis corect?\n",
        "\n",
        "\n"
      ],
      "metadata": {
        "id": "Yq3z6-w7JK-O"
      }
    },
    {
      "cell_type": "markdown",
      "source": [
        "# Clasificare folosind TF-IDF"
      ],
      "metadata": {
        "id": "6GhHsEaaK2nT"
      }
    },
    {
      "cell_type": "markdown",
      "source": [
        "## TF-IDF - impartirea setului de date in set de training & test"
      ],
      "metadata": {
        "id": "KgbDsw8jK8k_"
      }
    },
    {
      "cell_type": "code",
      "source": [
        "X_train_tfidf, X_test_tfidf, y_train_tfidf, y_test_tfidf = train_test_split(\n",
        "    dtm_tf_idf,\n",
        "    reviews['positive'],\n",
        "    train_size=0.8,\n",
        "    random_state=42\n",
        ")"
      ],
      "metadata": {
        "id": "MdwrujxxEpkt"
      },
      "execution_count": null,
      "outputs": []
    },
    {
      "cell_type": "code",
      "source": [
        "print(len(X_train_tfidf), len(X_test_tfidf),\n",
        "      len(y_train_tfidf), len(y_test_tfidf))"
      ],
      "metadata": {
        "id": "l77qL3bmLmBF"
      },
      "execution_count": null,
      "outputs": []
    },
    {
      "cell_type": "code",
      "source": [
        "X_train_tfidf.head(2)"
      ],
      "metadata": {
        "collapsed": true,
        "id": "Wvcfx09ZLxkk"
      },
      "execution_count": null,
      "outputs": []
    },
    {
      "cell_type": "code",
      "source": [
        "y_train_tfidf"
      ],
      "metadata": {
        "id": "b6mxmlSDL5Ls"
      },
      "execution_count": null,
      "outputs": []
    },
    {
      "cell_type": "markdown",
      "source": [
        "## TF-IDF + Logistic Regression"
      ],
      "metadata": {
        "id": "xM-9xizQMaX4"
      }
    },
    {
      "cell_type": "code",
      "source": [
        "m2_tfidf = LogisticRegression()\n",
        "m2_tfidf.fit(X_train_tfidf, y_train_tfidf)"
      ],
      "metadata": {
        "id": "LHMNLja8MDFG"
      },
      "execution_count": null,
      "outputs": []
    },
    {
      "cell_type": "code",
      "source": [
        "# Predictiile pe setul de test\n",
        "ypred2_tfidf = m2_tfidf.predict(X_test_tfidf)\n",
        "ypred2_tfidf"
      ],
      "metadata": {
        "id": "McOpR1EeMrIo"
      },
      "execution_count": null,
      "outputs": []
    },
    {
      "cell_type": "code",
      "source": [
        "len(ypred2_tfidf)"
      ],
      "metadata": {
        "id": "RW56NZ0BM4mp"
      },
      "execution_count": null,
      "outputs": []
    },
    {
      "cell_type": "code",
      "source": [
        "print('Acuratetea pe setul de training:', m2_tfidf.score(X_train_tfidf,\n",
        "                                                         y_train_tfidf))\n",
        "print('Acuratetea pe setul de test:', m2_tfidf.score(X_test_tfidf,\n",
        "                                                     y_test_tfidf))\n",
        "print('Classification Report pe setul de test\\n',\n",
        "      classification_report(y_test_tfidf, ypred2_tfidf)\n",
        "      )"
      ],
      "metadata": {
        "id": "JMFIAv3yM9g7"
      },
      "execution_count": null,
      "outputs": []
    },
    {
      "cell_type": "code",
      "source": [
        "pickle.dump(m2_tfidf, open('m2_tfidf.pkl', 'wb'))"
      ],
      "metadata": {
        "id": "tdw3hWHDNTfV"
      },
      "execution_count": null,
      "outputs": []
    },
    {
      "cell_type": "markdown",
      "source": [
        "# Clasificare folosing FastText"
      ],
      "metadata": {
        "id": "k5w4emFYOdmN"
      }
    },
    {
      "cell_type": "markdown",
      "source": [
        "## Reprezentarea FastText"
      ],
      "metadata": {
        "id": "1sEoWrXmOdrV"
      }
    },
    {
      "cell_type": "code",
      "source": [
        "!wget -O trained_ft.pkl https://github.com/DanielaManate/SentimentAnalysis-TopicModeling/blob/master/Data/Input/trained_ft.pkl?raw=true"
      ],
      "metadata": {
        "collapsed": true,
        "id": "p0ge_qtxOPLU"
      },
      "execution_count": null,
      "outputs": []
    },
    {
      "cell_type": "code",
      "source": [
        "repr_fasttext = pickle.load(open('trained_ft.pkl', 'rb'))"
      ],
      "metadata": {
        "id": "Cy02-QlDOz28"
      },
      "execution_count": null,
      "outputs": []
    },
    {
      "cell_type": "code",
      "source": [
        "repr_fasttext.wv['restaurant']"
      ],
      "metadata": {
        "id": "pSdfkGS8PBz-"
      },
      "execution_count": null,
      "outputs": []
    },
    {
      "cell_type": "markdown",
      "source": [
        "Reprezentarile FastText sunt pt fiecare cuvant. Pentru a crea o reprezentare vectoriala pentru intreaga recenzie, putem calcula media reprezentarilor vectoriale ale cuv. care alcatuiesc recenzia."
      ],
      "metadata": {
        "id": "c9jjz13_PfcV"
      }
    },
    {
      "cell_type": "code",
      "source": [
        "corpus = reviews['text_prep_lim'].astype(str)\n",
        "# Aplicam word tokenize\n",
        "corpus = corpus.apply(word_tokenize).to_list()"
      ],
      "metadata": {
        "id": "KBuwyVejPIup"
      },
      "execution_count": null,
      "outputs": []
    },
    {
      "cell_type": "code",
      "source": [
        "corpus[0:2]"
      ],
      "metadata": {
        "collapsed": true,
        "id": "iJaaOv6kP9eV"
      },
      "execution_count": null,
      "outputs": []
    },
    {
      "cell_type": "code",
      "source": [
        "# Lista de cuvinte din prima recenzie\n",
        "doc1 = corpus[0]\n",
        "doc1"
      ],
      "metadata": {
        "collapsed": true,
        "id": "IzQrdCqjQLek"
      },
      "execution_count": null,
      "outputs": []
    },
    {
      "cell_type": "code",
      "source": [
        "# Reprezentarile vectoriale pentru fiecare cuvant din doc1\n",
        "repr_fasttext.wv[doc1]"
      ],
      "metadata": {
        "collapsed": true,
        "id": "JUDWKhrZQu6b"
      },
      "execution_count": null,
      "outputs": []
    },
    {
      "cell_type": "code",
      "source": [
        "# Media pe fiecare din cele 60 dimensiuni\n",
        "repr_doc1 = np.mean(repr_fasttext.wv[doc1], axis=0)\n",
        "repr_doc1"
      ],
      "metadata": {
        "collapsed": true,
        "id": "pO-m8QyuQezY"
      },
      "execution_count": null,
      "outputs": []
    },
    {
      "cell_type": "code",
      "source": [
        "len(repr_doc1)"
      ],
      "metadata": {
        "id": "8a0vRjxtRAgH"
      },
      "execution_count": null,
      "outputs": []
    },
    {
      "cell_type": "code",
      "source": [
        "for doc in corpus:\n",
        "    medie = np.mean(repr_fasttext.wv[doc], axis=0)\n",
        "    \n",
        "    if doc == corpus[0]:\n",
        "      repr_recenzie = medie\n",
        "    else:\n",
        "      repr_recenzie = np.vstack((repr_recenzie, medie))"
      ],
      "metadata": {
        "id": "_WsmZ8A1RYtB"
      },
      "execution_count": null,
      "outputs": []
    },
    {
      "cell_type": "code",
      "source": [
        "repr_recenzie.shape"
      ],
      "metadata": {
        "collapsed": true,
        "id": "4zyG3qYiSnhY"
      },
      "execution_count": null,
      "outputs": []
    },
    {
      "cell_type": "markdown",
      "source": [
        "repr_recenzie contine reprezentarile vectoriale agregate din cuvinte pentru fiecare recenzie in parte"
      ],
      "metadata": {
        "id": "TYiE1m4uSyCP"
      }
    },
    {
      "cell_type": "code",
      "source": [
        "repr_recenzie[0:2]"
      ],
      "metadata": {
        "id": "VdQ6C2qYSq9P"
      },
      "execution_count": null,
      "outputs": []
    },
    {
      "cell_type": "markdown",
      "source": [
        "## FastText - impartirea setului de date in set de training & test"
      ],
      "metadata": {
        "id": "iD1PZg1nTLjQ"
      }
    },
    {
      "cell_type": "code",
      "source": [
        "X_train_ft, X_test_ft, y_train_ft, y_test_ft = train_test_split(\n",
        "    repr_recenzie,\n",
        "    reviews['positive'],\n",
        "    train_size=0.8,\n",
        "    random_state=42)"
      ],
      "metadata": {
        "id": "hi3a2Q6CS7TC"
      },
      "execution_count": null,
      "outputs": []
    },
    {
      "cell_type": "code",
      "source": [
        "X_train_ft.shape"
      ],
      "metadata": {
        "id": "bk_70zRATmBd"
      },
      "execution_count": null,
      "outputs": []
    },
    {
      "cell_type": "code",
      "source": [
        "X_test_ft.shape"
      ],
      "metadata": {
        "id": "V3MLh0i-TpWP"
      },
      "execution_count": null,
      "outputs": []
    },
    {
      "cell_type": "markdown",
      "source": [
        "# FastText + Logistic Regression"
      ],
      "metadata": {
        "id": "Teznzb6iTyFs"
      }
    },
    {
      "cell_type": "code",
      "source": [
        "m3_ft = LogisticRegression()\n",
        "m3_ft.fit(X_train_ft, y_train_ft)"
      ],
      "metadata": {
        "collapsed": true,
        "id": "82ujsfBFTtxo"
      },
      "execution_count": null,
      "outputs": []
    },
    {
      "cell_type": "code",
      "source": [
        "# Predictiile pe setul de test\n",
        "ypred3_ft = m3_ft.predict(X_test_ft)"
      ],
      "metadata": {
        "id": "P_0w-OaPUA5i"
      },
      "execution_count": null,
      "outputs": []
    },
    {
      "cell_type": "code",
      "source": [
        "# Evaluarea Performantei\n",
        "\n",
        "print('Acuratetea pe setul de training',\n",
        "      m3_ft.score(X_train_ft, y_train_ft))\n",
        "print('Acuratetea pe setul de test',\n",
        "      m3_ft.score(X_test_ft, y_test_ft))\n",
        "print('Classification Report pe setul de test \\n',\n",
        "      classification_report(y_test_ft, ypred3_ft))"
      ],
      "metadata": {
        "id": "0MwrQ4Y0UM5i"
      },
      "execution_count": null,
      "outputs": []
    },
    {
      "cell_type": "code",
      "source": [],
      "metadata": {
        "id": "JhWXF04YVAu3"
      },
      "execution_count": null,
      "outputs": []
    }
  ]
}