{
 "cells": [
  {
   "cell_type": "code",
   "execution_count": null,
   "id": "155f12a0-1c7f-4257-97e6-1e7178a1bd16",
   "metadata": {
    "tags": []
   },
   "outputs": [],
   "source": [
    "import pandas as pd"
   ]
  },
  {
   "cell_type": "markdown",
   "id": "f0123639-8ce1-40a7-82b5-e45f195f7c17",
   "metadata": {},
   "source": [
    "# Citirea Datelor"
   ]
  },
  {
   "cell_type": "code",
   "execution_count": null,
   "id": "595952b0-ed83-4551-b8fe-c2757c9f94fe",
   "metadata": {
    "tags": []
   },
   "outputs": [],
   "source": [
    "url = 'https://github.com/berinde/curs-analiza-datelor-complexe/blob/main/data/input/set_date_examen1.csv?raw=True'\n",
    "reviews = pd.read_csv(url)\n",
    "reviews.head(2)"
   ]
  },
  {
   "cell_type": "code",
   "execution_count": null,
   "id": "9e57aeb3-bf75-4d50-8537-e9e6944dd775",
   "metadata": {},
   "outputs": [],
   "source": []
  }
 ],
 "metadata": {
  "kernelspec": {
   "display_name": "Python 3 (ipykernel)",
   "language": "python",
   "name": "python3"
  },
  "language_info": {
   "codemirror_mode": {
    "name": "ipython",
    "version": 3
   },
   "file_extension": ".py",
   "mimetype": "text/x-python",
   "name": "python",
   "nbconvert_exporter": "python",
   "pygments_lexer": "ipython3",
   "version": "3.11.5"
  }
 },
 "nbformat": 4,
 "nbformat_minor": 5
}
