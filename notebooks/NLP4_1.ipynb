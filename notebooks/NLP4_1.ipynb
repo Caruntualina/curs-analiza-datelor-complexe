{
  "nbformat": 4,
  "nbformat_minor": 0,
  "metadata": {
    "colab": {
      "provenance": []
    },
    "kernelspec": {
      "name": "python3",
      "display_name": "Python 3"
    },
    "language_info": {
      "name": "python"
    }
  },
  "cells": [
    {
      "cell_type": "code",
      "execution_count": null,
      "metadata": {
        "id": "u7mIsgbDH5G_"
      },
      "outputs": [],
      "source": [
        "import gensim.downloader as api"
      ]
    },
    {
      "cell_type": "markdown",
      "source": [
        "- 'word2vec-google-news-300'\n",
        "- 'fasttext-wiki-news-subwords-300'\n",
        "- 'glove-wiki-gigaword-50': Global Vectors for Word Representation, antrenat pe date de Wikipedia din 2014, cuvintele sunt reprezentate in 50 de dimensiuni"
      ],
      "metadata": {
        "id": "7LPG0ZyDIoRD"
      }
    },
    {
      "cell_type": "code",
      "source": [
        "# # Reprezentarile vectoriale pentru modelul pre-trained word2vec\n",
        "# word2vec = api.load('word2vec-google-news-300')"
      ],
      "metadata": {
        "id": "vmDccQa8JU6a"
      },
      "execution_count": null,
      "outputs": []
    },
    {
      "cell_type": "code",
      "source": [
        "# Obtinem reprezentarile vectoriale din modelul pre-antrenat glove\n",
        "glove = api.load('glove-wiki-gigaword-50')"
      ],
      "metadata": {
        "id": "XZVgK5WgIalq"
      },
      "execution_count": null,
      "outputs": []
    },
    {
      "cell_type": "code",
      "source": [
        "glove['order']"
      ],
      "metadata": {
        "collapsed": true,
        "id": "HXgvh9YBJI5r"
      },
      "execution_count": null,
      "outputs": []
    },
    {
      "cell_type": "code",
      "source": [
        "# Similarity ne returneaza cosine similarity:\n",
        "# - o valoare apropiata de 1 indica vectori similari (sensuri asemanatoare)\n",
        "# - o valoare de 0 indica vectori independenti\n",
        "# - o valoare de 1 indica vectori similari, dar opusi\n",
        "glove.similarity('good', 'great')"
      ],
      "metadata": {
        "id": "aznJf8HJJkSr"
      },
      "execution_count": null,
      "outputs": []
    },
    {
      "cell_type": "code",
      "source": [
        "glove.similarity('seaside', 'abstract')"
      ],
      "metadata": {
        "id": "LkdpHZ--J2Lj"
      },
      "execution_count": null,
      "outputs": []
    },
    {
      "cell_type": "code",
      "source": [
        "glove.similarity('terrible', 'awful')"
      ],
      "metadata": {
        "id": "Aek0Y3KkK0s4"
      },
      "execution_count": null,
      "outputs": []
    },
    {
      "cell_type": "code",
      "source": [
        "# Top 10 cuvinte care au cel mai mare scor de similaritate cu \"great\"\n",
        "glove.most_similar('great', topn=10)"
      ],
      "metadata": {
        "id": "bElCqyr8K8YQ"
      },
      "execution_count": null,
      "outputs": []
    },
    {
      "cell_type": "code",
      "source": [
        "glove.most_similar(positive=['computer', 'human'], negative=['interface'])"
      ],
      "metadata": {
        "id": "9GWOFzQBLz91"
      },
      "execution_count": null,
      "outputs": []
    },
    {
      "cell_type": "code",
      "source": [
        "glove.doesnt_match(['fire', 'water', 'air', 'car'])"
      ],
      "metadata": {
        "id": "SuB83akHLG_p"
      },
      "execution_count": null,
      "outputs": []
    }
  ]
}