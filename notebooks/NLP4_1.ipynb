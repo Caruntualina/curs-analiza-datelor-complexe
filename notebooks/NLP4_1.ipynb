{
 "cells": [
  {
   "cell_type": "code",
   "execution_count": null,
   "metadata": {
    "id": "u7mIsgbDH5G_",
    "tags": []
   },
   "outputs": [],
   "source": [
    "import gensim.downloader as api"
   ]
  },
  {
   "cell_type": "markdown",
   "metadata": {
    "id": "7LPG0ZyDIoRD"
   },
   "source": [
    "- 'word2vec-google-news-300'\n",
    "- 'fasttext-wiki-news-subwords-300'\n",
    "- 'glove-wiki-gigaword-50': Global Vectors for Word Representation, antrenat pe date de Wikipedia din 2014, cuvintele sunt reprezentate in 50 de dimensiuni"
   ]
  },
  {
   "cell_type": "code",
   "execution_count": null,
   "metadata": {
    "id": "vmDccQa8JU6a"
   },
   "outputs": [],
   "source": [
    "# # Reprezentarile vectoriale pentru modelul pre-trained word2vec\n",
    "# word2vec = api.load('word2vec-google-news-300')"
   ]
  },
  {
   "cell_type": "code",
   "execution_count": null,
   "metadata": {
    "id": "XZVgK5WgIalq"
   },
   "outputs": [],
   "source": [
    "# Obtinem reprezentarile vectoriale din modelul pre-antrenat glove\n",
    "glove = api.load('glove-wiki-gigaword-50')"
   ]
  },
  {
   "cell_type": "code",
   "execution_count": null,
   "metadata": {
    "id": "HXgvh9YBJI5r"
   },
   "outputs": [],
   "source": [
    "glove['order']"
   ]
  },
  {
   "cell_type": "code",
   "execution_count": null,
   "metadata": {
    "id": "aznJf8HJJkSr"
   },
   "outputs": [],
   "source": [
    "# Similarity ne returneaza cosine similarity:\n",
    "# - o valoare apropiata de 1 indica vectori similari (sensuri asemanatoare)\n",
    "# - o valoare de 0 indica vectori independenti\n",
    "# - o valoare de 1 indica vectori similari, dar opusi\n",
    "glove.similarity('good', 'great')"
   ]
  },
  {
   "cell_type": "code",
   "execution_count": null,
   "metadata": {
    "id": "LkdpHZ--J2Lj"
   },
   "outputs": [],
   "source": [
    "glove.similarity('seaside', 'abstract')"
   ]
  },
  {
   "cell_type": "code",
   "execution_count": null,
   "metadata": {
    "id": "Aek0Y3KkK0s4"
   },
   "outputs": [],
   "source": [
    "glove.similarity('terrible', 'awful')"
   ]
  },
  {
   "cell_type": "code",
   "execution_count": null,
   "metadata": {
    "id": "bElCqyr8K8YQ"
   },
   "outputs": [],
   "source": [
    "# Top 10 cuvinte care au cel mai mare scor de similaritate cu \"great\"\n",
    "glove.most_similar('great', topn=10)"
   ]
  },
  {
   "cell_type": "code",
   "execution_count": null,
   "metadata": {
    "id": "9GWOFzQBLz91"
   },
   "outputs": [],
   "source": [
    "glove.most_similar(positive=['computer', 'human'], negative=['interface'])"
   ]
  },
  {
   "cell_type": "code",
   "execution_count": null,
   "metadata": {
    "id": "SuB83akHLG_p"
   },
   "outputs": [],
   "source": [
    "glove.doesnt_match(['fire', 'water', 'air', 'car'])"
   ]
  }
 ],
 "metadata": {
  "colab": {
   "provenance": []
  },
  "kernelspec": {
   "display_name": "nlp_py_310",
   "language": "python",
   "name": "nlp_py_310"
  },
  "language_info": {
   "codemirror_mode": {
    "name": "ipython",
    "version": 3
   },
   "file_extension": ".py",
   "mimetype": "text/x-python",
   "name": "python",
   "nbconvert_exporter": "python",
   "pygments_lexer": "ipython3",
   "version": "3.10.13"
  }
 },
 "nbformat": 4,
 "nbformat_minor": 4
}
