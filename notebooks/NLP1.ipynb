{
  "nbformat": 4,
  "nbformat_minor": 0,
  "metadata": {
    "colab": {
      "provenance": []
    },
    "kernelspec": {
      "name": "python3",
      "display_name": "Python 3"
    },
    "language_info": {
      "name": "python"
    }
  },
  "cells": [
    {
      "cell_type": "markdown",
      "source": [
        "# Importing Libraries"
      ],
      "metadata": {
        "id": "oZnaUKAV_Acn"
      }
    },
    {
      "cell_type": "code",
      "source": [
        "pip install contractions"
      ],
      "metadata": {
        "id": "tjgtMVLFRVpx"
      },
      "execution_count": null,
      "outputs": []
    },
    {
      "cell_type": "code",
      "source": [
        "import pandas as pd\n",
        "import numpy as np\n",
        "\n",
        "# pentru grafice\n",
        "import matplotlib.pyplot as plt\n",
        "\n",
        "# forme scurte (contractions)\n",
        "import contractions\n",
        "\n",
        "# natural language toolkit\n",
        "import nltk\n",
        "\n",
        "# cuvinte comune (stopwords)\n",
        "nltk.download('stopwords')\n",
        "from nltk.corpus import stopwords\n",
        "\n",
        "# impartirea documentului in cuvinte (tokenization)\n",
        "nltk.download('punkt')\n",
        "from nltk.tokenize import word_tokenize\n",
        "\n",
        "# lemmatization (eliminarea pluralui / derivatelor cuvantului)\n",
        "import spacy\n",
        "nlp = spacy.load('en_core_web_sm')\n",
        "\n",
        "# regex\n",
        "import re"
      ],
      "metadata": {
        "id": "fv4wU1QT_xt9"
      },
      "execution_count": null,
      "outputs": []
    },
    {
      "cell_type": "markdown",
      "source": [
        "# Reading Data"
      ],
      "metadata": {
        "id": "Q1fpcJicASJr"
      }
    },
    {
      "cell_type": "code",
      "source": [
        "url = 'https://raw.githubusercontent.com/DanielaManate/SentimentAnalysis-TopicModeling/master/Data/Input/1.input_data.csv'\n",
        "reviews = pd.read_csv(url)\n",
        "reviews.head()"
      ],
      "metadata": {
        "id": "kzrySSAUALdS"
      },
      "execution_count": null,
      "outputs": []
    },
    {
      "cell_type": "code",
      "source": [
        "reviews.dtypes"
      ],
      "metadata": {
        "id": "QIe3yo7AAo3r"
      },
      "execution_count": null,
      "outputs": []
    },
    {
      "cell_type": "code",
      "source": [
        "reviews.describe(include='all')"
      ],
      "metadata": {
        "id": "E5fPGoSaBgLR"
      },
      "execution_count": null,
      "outputs": []
    },
    {
      "cell_type": "code",
      "source": [
        "reviews['rating'].value_counts()"
      ],
      "metadata": {
        "id": "vDS3wzlnCKT4"
      },
      "execution_count": null,
      "outputs": []
    },
    {
      "cell_type": "code",
      "source": [
        "reviews['rating'].value_counts().sort_index()"
      ],
      "metadata": {
        "id": "YZKzhNb1Fw6J"
      },
      "execution_count": null,
      "outputs": []
    },
    {
      "cell_type": "code",
      "source": [
        "reviews['rating'].value_counts().sort_index().plot(kind='bar')"
      ],
      "metadata": {
        "id": "azRR5I5OGIJO"
      },
      "execution_count": null,
      "outputs": []
    },
    {
      "cell_type": "code",
      "source": [
        "fig = reviews['rating'].value_counts().sort_index().plot(kind='bar')\n",
        "\n",
        "fig.set_title('Frecventa rating-urilor')\n",
        "fig.set_xlabel('Rating')\n",
        "fig.set_ylabel('Frecventa')"
      ],
      "metadata": {
        "id": "wh7PJv-JGVc_"
      },
      "execution_count": null,
      "outputs": []
    },
    {
      "cell_type": "code",
      "source": [
        "print(reviews.dtypes)\n",
        "reviews['rating'] = reviews['rating'].astype(int)\n",
        "print(reviews.dtypes)"
      ],
      "metadata": {
        "id": "JlDOO_j5G6ga"
      },
      "execution_count": null,
      "outputs": []
    },
    {
      "cell_type": "code",
      "source": [
        "reviews.head(2)"
      ],
      "metadata": {
        "id": "yrYApPKKHUGr"
      },
      "execution_count": null,
      "outputs": []
    },
    {
      "cell_type": "code",
      "source": [
        "reviews.iloc[0, 1]"
      ],
      "metadata": {
        "id": "NJxcn8n2Hjbe"
      },
      "execution_count": null,
      "outputs": []
    },
    {
      "cell_type": "code",
      "source": [
        "reviews['text'].iloc[0]"
      ],
      "metadata": {
        "id": "qfubhK6-H0wl"
      },
      "execution_count": null,
      "outputs": []
    },
    {
      "cell_type": "code",
      "source": [
        "reviews.iloc[300, 1]"
      ],
      "metadata": {
        "id": "GFjg4vHTIA4c"
      },
      "execution_count": null,
      "outputs": []
    },
    {
      "cell_type": "code",
      "source": [
        "reviews[300:301]"
      ],
      "metadata": {
        "id": "WwTkdC3uINqL"
      },
      "execution_count": null,
      "outputs": []
    },
    {
      "cell_type": "code",
      "source": [
        "# numarul de caractere din recenzia 301\n",
        "len(reviews.iloc[300, 1])"
      ],
      "metadata": {
        "id": "MgUgyjmBIVsI"
      },
      "execution_count": null,
      "outputs": []
    },
    {
      "cell_type": "code",
      "source": [
        "reviews['nr_caractere'] = reviews['text'].apply(len)\n",
        "reviews.head()"
      ],
      "metadata": {
        "id": "EzKXkmBfIkdR"
      },
      "execution_count": null,
      "outputs": []
    },
    {
      "cell_type": "code",
      "source": [
        "reviews['nr_caractere'].describe()"
      ],
      "metadata": {
        "id": "6eBAQF7RJB_7"
      },
      "execution_count": null,
      "outputs": []
    },
    {
      "cell_type": "code",
      "source": [
        "# dataframe cu toate recenziile care au rating 3\n",
        "reviews[reviews['rating']==3]"
      ],
      "metadata": {
        "id": "b2TNtE9OJjFQ"
      },
      "execution_count": null,
      "outputs": []
    },
    {
      "cell_type": "code",
      "source": [
        "print(len(reviews))\n",
        "# Eliminam recenziile cu rating = 3\n",
        "reviews = reviews[reviews['rating']!=3].reset_index(drop=True)\n",
        "print(len(reviews))"
      ],
      "metadata": {
        "id": "JwJwVGsKLCET"
      },
      "execution_count": null,
      "outputs": []
    },
    {
      "cell_type": "code",
      "source": [
        "# Adaugam coloana positive, care are valoarea 1 daca rating-ul este >3 (4, 5) \n",
        "# si valoarea 0 daca rating-ul este <3 (1,2)\n",
        "reviews['positive'] = np.where(reviews['rating']>3, 1, 0)\n",
        "reviews.tail(6)"
      ],
      "metadata": {
        "id": "4ZrWmSpJL3wP"
      },
      "execution_count": null,
      "outputs": []
    },
    {
      "cell_type": "code",
      "source": [
        "reviews['positive'].describe()"
      ],
      "metadata": {
        "id": "chV_kgMRMWm0"
      },
      "execution_count": null,
      "outputs": []
    },
    {
      "cell_type": "code",
      "source": [
        "print('Nr. de recenzii pozitive', len(reviews[reviews['positive']==1]))\n",
        "print('Nr. de recenzii negative', len(reviews[reviews['positive']==0]))"
      ],
      "metadata": {
        "id": "9ghjyWUeNSiw"
      },
      "execution_count": null,
      "outputs": []
    },
    {
      "cell_type": "code",
      "source": [
        "reviews['positive'].value_counts()"
      ],
      "metadata": {
        "id": "39s5HTvVNrW6"
      },
      "execution_count": null,
      "outputs": []
    },
    {
      "cell_type": "markdown",
      "source": [
        "## Lists"
      ],
      "metadata": {
        "id": "IWZeKflbPHPG"
      }
    },
    {
      "cell_type": "code",
      "source": [
        "list1 = [1, 2, 3]\n",
        "list2 = [1, 5, 6]"
      ],
      "metadata": {
        "id": "zk6aGZo3OFy_"
      },
      "execution_count": null,
      "outputs": []
    },
    {
      "cell_type": "code",
      "source": [
        "# Toate elementele din list1 care nu sunt in list2\n",
        "[element for element in list1 if element not in list2]"
      ],
      "metadata": {
        "id": "xEvbUJJOPRy4"
      },
      "execution_count": null,
      "outputs": []
    },
    {
      "cell_type": "markdown",
      "source": [
        "# Text Normalization\n",
        "*   vom converti textul in text scris cu litera mica\n",
        "*   vom folosi contractions (don't -> do not)\n",
        "*   vom imparti documentul in cuvinte (tokenization)\n",
        "*   vom inlatura cuvintele comune (stopwords: the, a, to, etc.)\n",
        "*   vom reduce cuvantul la lema (lemmatization)\n",
        "\n",
        "\n",
        "\n",
        "\n",
        "\n"
      ],
      "metadata": {
        "id": "ltD8VKm9P7OV"
      }
    },
    {
      "cell_type": "code",
      "source": [
        "recenzie_test = reviews['text'].iloc[0]\n",
        "recenzie_test"
      ],
      "metadata": {
        "id": "SpPdOFwRQoHt"
      },
      "execution_count": null,
      "outputs": []
    },
    {
      "cell_type": "code",
      "source": [
        "# Convertim textul in text scris cu litera mica\n",
        "text_procesat = recenzie_test.lower()\n",
        "text_procesat"
      ],
      "metadata": {
        "id": "9w4dHq79QoQa"
      },
      "execution_count": null,
      "outputs": []
    },
    {
      "cell_type": "code",
      "source": [
        "# Contractions\n",
        "contractions.fix(\"can't won't don't cannot doesn't\")"
      ],
      "metadata": {
        "id": "rrpiHhA2QoSt"
      },
      "execution_count": null,
      "outputs": []
    },
    {
      "cell_type": "code",
      "source": [
        "# Impartim recenzia (document) in cuvinte\n",
        "text_procesat_2 = nltk.word_tokenize(text_procesat)\n",
        "text_procesat_2[0:5]"
      ],
      "metadata": {
        "id": "NYzn6WR9PTGf"
      },
      "execution_count": null,
      "outputs": []
    },
    {
      "cell_type": "code",
      "source": [
        "# Cream o lista cu cuvintele comune\n",
        "cuv_comune = stopwords.words('english')\n",
        "print(len(cuv_comune))\n",
        "cuv_comune[0:10]"
      ],
      "metadata": {
        "id": "mn9ArznVTMIw"
      },
      "execution_count": null,
      "outputs": []
    },
    {
      "cell_type": "code",
      "source": [
        "# Inlaturam cuvintele comune din text_procesat_2\n",
        "print(len(text_procesat_2))\n",
        "text_procesat_3 = [element for element in text_procesat_2 if element not in cuv_comune]\n",
        "print(len(text_procesat_3))\n",
        "text_procesat_3[0:5]"
      ],
      "metadata": {
        "id": "r64ArXRATziK"
      },
      "execution_count": null,
      "outputs": []
    },
    {
      "cell_type": "code",
      "source": [
        "# Transformam lista inapoi in propozitie\n",
        "text_procesat_4 = \" \".join(text_procesat_3)\n",
        "text_procesat_4"
      ],
      "metadata": {
        "id": "K7t2zqALUhOR"
      },
      "execution_count": null,
      "outputs": []
    },
    {
      "cell_type": "code",
      "source": [
        "# Reducem fiecare cuvant la lema sa\n",
        "text_procesat_5 = \" \".join([word.lemma_ for word in nlp(text_procesat_4)])\n",
        "text_procesat_5"
      ],
      "metadata": {
        "collapsed": true,
        "id": "-3G2n_ISVWGu"
      },
      "execution_count": null,
      "outputs": []
    },
    {
      "cell_type": "code",
      "source": [
        "reviews.head()"
      ],
      "metadata": {
        "id": "8UZA6Rz0FZrQ"
      },
      "execution_count": null,
      "outputs": []
    },
    {
      "cell_type": "code",
      "source": [
        "def preprocesare_text(document):\n",
        "    # Convertim textul in text scris cu litera mica\n",
        "    document = document.lower()\n",
        "    # Inlocuim formele scurte (contractions)\n",
        "    document = contractions.fix(document)\n",
        "    # Regex\n",
        "    # ^ = NOT\n",
        "    document = re.sub(r'[^\\w\\s]', ' ', document)\n",
        "    document = re.sub(r'[^a-z ]', '', document)\n",
        "    # Impartim documentul in cuvinte (tokenization)\n",
        "    document = word_tokenize(document)\n",
        "    # Inlaturam cuvintele comune (stopwords)\n",
        "    cuv_comune = stopwords.words('english')\n",
        "    document = [element for element in document if element not in cuv_comune]\n",
        "    # Convertim din lista de cuvinte in string\n",
        "    document = \" \".join(document)\n",
        "    # Reducem cuvantul la lema sa (Lemmatization)\n",
        "    document = \" \".join([word.lemma_ for word in nlp(document)])\n",
        "\n",
        "    return document"
      ],
      "metadata": {
        "id": "2RfBQONtFag5"
      },
      "execution_count": null,
      "outputs": []
    },
    {
      "cell_type": "code",
      "source": [
        "print('Recenzia Initiala:', recenzie_test)\n",
        "print('')\n",
        "print('Recenzia Procesata:', preprocesare_text(recenzie_test))"
      ],
      "metadata": {
        "id": "uxqmCG5lIwxH"
      },
      "execution_count": null,
      "outputs": []
    },
    {
      "cell_type": "code",
      "source": [
        "reviews.head(2)"
      ],
      "metadata": {
        "id": "G3Pgv1HUI5gg"
      },
      "execution_count": null,
      "outputs": []
    },
    {
      "cell_type": "code",
      "source": [
        "reviews['text_prep'] = reviews['text'].apply(preprocesare_text)\n",
        "reviews.head(2)"
      ],
      "metadata": {
        "id": "po7BClggJZDH"
      },
      "execution_count": null,
      "outputs": []
    },
    {
      "cell_type": "code",
      "source": [
        "reviews.to_csv('recenzii_procesate.csv', index=False)"
      ],
      "metadata": {
        "id": "sq6_CPfkJkPB"
      },
      "execution_count": null,
      "outputs": []
    },
    {
      "cell_type": "code",
      "source": [],
      "metadata": {
        "id": "AFm2LUC0KSnt"
      },
      "execution_count": null,
      "outputs": []
    }
  ]
}