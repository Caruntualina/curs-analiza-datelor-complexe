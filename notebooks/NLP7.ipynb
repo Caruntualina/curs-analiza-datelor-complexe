{
 "cells": [
  {
   "cell_type": "markdown",
   "id": "ed96256f-676c-4ba5-883b-af285db7adef",
   "metadata": {},
   "source": [
    "# Importul librariilor"
   ]
  },
  {
   "cell_type": "code",
   "execution_count": null,
   "id": "ebc62c25-974b-4b42-b2e1-299f6656612f",
   "metadata": {},
   "outputs": [],
   "source": [
    "!pip3 install torch torchvision"
   ]
  },
  {
   "cell_type": "code",
   "execution_count": null,
   "id": "04d2a582-6dff-4a18-8f34-81bab2deb3ee",
   "metadata": {
    "tags": []
   },
   "outputs": [],
   "source": [
    "import pandas as pd\n",
    "import numpy as np\n",
    "import tensorflow as tf\n",
    "import torch\n",
    "\n",
    "from transformers import AutoTokenizer\n",
    "from transformers import AutoModel\n",
    "from transformers import TFAutoModel"
   ]
  },
  {
   "cell_type": "markdown",
   "id": "a5181989-fa33-4af2-a597-876f265d6293",
   "metadata": {},
   "source": [
    "# Utils"
   ]
  },
  {
   "cell_type": "code",
   "execution_count": null,
   "id": "ff1b425f-65fb-4cdb-b51f-456fb62de8e7",
   "metadata": {
    "tags": []
   },
   "outputs": [],
   "source": [
    "# functie de mapare\n",
    "def map_func(input_ids, masks, labels):\n",
    "    return {'input_ids': input_ids, 'attention_mask': masks}, labels"
   ]
  },
  {
   "cell_type": "markdown",
   "id": "63b326a0-8402-429f-94e1-2ea4ddc7f2ab",
   "metadata": {},
   "source": [
    "# Citirea datelor"
   ]
  },
  {
   "cell_type": "code",
   "execution_count": null,
   "id": "1ff488e6-eb90-4089-82c1-6c5f7de2123e",
   "metadata": {
    "tags": []
   },
   "outputs": [],
   "source": [
    "url = 'https://github.com/berinde/curs-analiza-datelor-complexe/blob/main/data/input/1.input_data.csv?raw=True'\n",
    "reviews = pd.read_csv(url)\n",
    "print(reviews.shape)\n",
    "reviews.head(2)"
   ]
  },
  {
   "cell_type": "markdown",
   "id": "473a0ebc-12a0-4047-b5a1-80e95bfb1b53",
   "metadata": {},
   "source": [
    "# Prepararea datelor"
   ]
  },
  {
   "cell_type": "code",
   "execution_count": null,
   "id": "8aed2b13-f9a2-422b-8f03-08a1391e572e",
   "metadata": {
    "tags": []
   },
   "outputs": [],
   "source": [
    "# Excludem rating-urile de 3\n",
    "reviews = reviews[reviews['rating']!=3].reset_index(drop=True)\n",
    "print(reviews.shape)\n",
    "reviews.head(2)"
   ]
  },
  {
   "cell_type": "code",
   "execution_count": null,
   "id": "059d3b24-5b69-491d-9efe-bfd683c14399",
   "metadata": {
    "tags": []
   },
   "outputs": [],
   "source": [
    "reviews.reset_index(inplace=True, drop=True)"
   ]
  },
  {
   "cell_type": "code",
   "execution_count": null,
   "id": "0e0ca52c-460e-4b22-b7ac-78271ac20925",
   "metadata": {
    "tags": []
   },
   "outputs": [],
   "source": [
    "reviews['SentenceId'] = 1"
   ]
  },
  {
   "cell_type": "code",
   "execution_count": null,
   "id": "26f7bdc0-e61e-4b58-8969-3300acd15e71",
   "metadata": {
    "tags": []
   },
   "outputs": [],
   "source": [
    "reviews['PhraseId'] = reviews.index"
   ]
  },
  {
   "cell_type": "code",
   "execution_count": null,
   "id": "d1fde213-4490-4631-a10a-cc3d5969d3a1",
   "metadata": {
    "tags": []
   },
   "outputs": [],
   "source": [
    "reviews.head(2)"
   ]
  },
  {
   "cell_type": "code",
   "execution_count": null,
   "id": "9f2b53c5-a4b2-4b30-9770-767e53d4512d",
   "metadata": {
    "tags": []
   },
   "outputs": [],
   "source": [
    "# transformarea din float in int a coloanei rating\n",
    "reviews['rating'] = reviews['rating'].astype('int')"
   ]
  },
  {
   "cell_type": "code",
   "execution_count": null,
   "id": "b09d614d-36bd-4158-850d-722e59fddf12",
   "metadata": {
    "tags": []
   },
   "outputs": [],
   "source": [
    "reviews = reviews[['PhraseId', 'SentenceId', 'text', 'rating']]"
   ]
  },
  {
   "cell_type": "code",
   "execution_count": null,
   "id": "e82deb3e-2117-4238-ab67-c38a2f6c3501",
   "metadata": {
    "tags": []
   },
   "outputs": [],
   "source": [
    "reviews.head(2)"
   ]
  },
  {
   "cell_type": "markdown",
   "id": "ffb6cbd1-cc60-46e6-aa80-1e5ba2e868a2",
   "metadata": {},
   "source": [
    "## Tokenizare"
   ]
  },
  {
   "cell_type": "code",
   "execution_count": null,
   "id": "bba3164c-3f37-4a5d-b7d2-d1398de335bc",
   "metadata": {
    "tags": []
   },
   "outputs": [],
   "source": [
    "SEQ_LEN = 50  # padding senquence in 50 tokens\n",
    "\n",
    "tokenizer = AutoTokenizer.from_pretrained('bert-base-cased')\n",
    "\n",
    "def tokenize(sentence):\n",
    "    tokens = tokenizer.encode_plus(sentence, max_length=SEQ_LEN,\n",
    "                                   truncation=True, padding='max_length',\n",
    "                                   add_special_tokens=True, return_attention_mask=True,\n",
    "                                   return_token_type_ids=False, return_tensors='tf')\n",
    "    return tokens['input_ids'], tokens['attention_mask']\n",
    "\n",
    "# initialize two arrays for input tensors\n",
    "Xids = np.zeros((len(reviews), SEQ_LEN))\n",
    "Xmask = np.zeros((len(reviews), SEQ_LEN))\n",
    "\n",
    "for i, sentence in enumerate(reviews['text']):\n",
    "    Xids[i, :], Xmask[i, :] = tokenize(sentence)\n",
    "    if i % 10000 == 0:\n",
    "        print(i) "
   ]
  },
  {
   "cell_type": "code",
   "execution_count": null,
   "id": "f466f204-8009-4b74-bff7-6a6c7665bc98",
   "metadata": {
    "tags": []
   },
   "outputs": [],
   "source": [
    "arr = reviews['rating'].values  # transformarea coloanei rating in array\n",
    "labels = np.zeros((arr.size, arr.max()+1))  \n",
    "labels[np.arange(arr.size), arr] = 1  "
   ]
  },
  {
   "cell_type": "markdown",
   "id": "57620ffa-98ae-4515-be7d-fc592c278d72",
   "metadata": {},
   "source": [
    "## Salvarea datelor tokenizate"
   ]
  },
  {
   "cell_type": "code",
   "execution_count": null,
   "id": "4d2f052d-3a7c-43fe-90e7-a99f716705c9",
   "metadata": {
    "tags": []
   },
   "outputs": [],
   "source": [
    "with open('twitter-xids.npy', 'wb') as f:\n",
    "    np.save(f, Xids)\n",
    "with open('twitter-xmask.npy', 'wb') as f:\n",
    "    np.save(f, Xmask)\n",
    "with open('twitter-labels.npy', 'wb') as f:\n",
    "    np.save(f, labels)"
   ]
  },
  {
   "cell_type": "markdown",
   "id": "b32b5003-f072-42ab-aa29-45a90931b23f",
   "metadata": {},
   "source": [
    "## Mapare"
   ]
  },
  {
   "cell_type": "code",
   "execution_count": null,
   "id": "23d4d392-7ae5-4bbc-b1fe-6fb0dee9cd74",
   "metadata": {
    "tags": []
   },
   "outputs": [],
   "source": [
    "BATCH_SIZE = 32  # we will use batches of 32\n",
    "\n",
    "# arrays dataset pentru tf\n",
    "dataset = tf.data.Dataset.from_tensor_slices((Xids, Xmask, labels))\n",
    "\n",
    "# folosind metoda de mapare mapam dataset-ul\n",
    "dataset = dataset.map(map_func)\n",
    "\n",
    "# shuffle data\n",
    "dataset = dataset.shuffle(9500).batch(BATCH_SIZE)"
   ]
  },
  {
   "cell_type": "markdown",
   "id": "5492208c-97cc-4f0c-a2e8-fa83c459ed9a",
   "metadata": {},
   "source": [
    "## Train test split"
   ]
  },
  {
   "cell_type": "code",
   "execution_count": null,
   "id": "3acd146d-0c59-4f44-819a-8e7c7b813e32",
   "metadata": {
    "tags": []
   },
   "outputs": [],
   "source": [
    "DS_LEN = len([0 for batch in dataset])\n",
    "SPLIT = 0.8  # 80-20 split\n",
    "\n",
    "train = dataset.take(round(DS_LEN*SPLIT))  # primele 90% din batches\n",
    "val = dataset.skip(round(DS_LEN*SPLIT))  # sarim peste primele 90% si pastram doar 10%\n",
    "\n",
    "del dataset  # optional stergerea dataset-ului pentru mai multa memorie"
   ]
  },
  {
   "cell_type": "markdown",
   "id": "53c1b984-4a3b-44ef-9e89-a3847bbb1a46",
   "metadata": {},
   "source": [
    "# Model"
   ]
  },
  {
   "cell_type": "code",
   "execution_count": null,
   "id": "89331a2c-a7e8-4ea2-9d12-27bd8f9afbc7",
   "metadata": {
    "tags": []
   },
   "outputs": [],
   "source": [
    "# initializare model Bert\n",
    "# bert = AutoModel.from_pretrained('bert-base-cased')\n",
    "bert = TFAutoModel.from_pretrained('bert-base-cased')\n",
    "\n",
    "input_ids = tf.keras.layers.Input(shape=(50,), name='input_ids', dtype='int32')\n",
    "mask = tf.keras.layers.Input(shape=(50,), name='attention_mask', dtype='int32')\n",
    "\n",
    "# embeddings\n",
    "embeddings = bert(input_ids, attention_mask=mask)[0]\n",
    "\n",
    "X = tf.keras.layers.LSTM(64)(embeddings)\n",
    "X = tf.keras.layers.BatchNormalization()(X)\n",
    "X = tf.keras.layers.Dense(64, activation='relu')(X)\n",
    "X = tf.keras.layers.Dropout(0.1)(X)\n",
    "# y = tf.keras.layers.Dense(3, activation='softmax', name='outputs')(X)\n",
    "y = tf.keras.layers.Dense(6, activation='softmax', name='outputs')(X)\n",
    "\n",
    "# definireal layerelor de input si output\n",
    "model = tf.keras.Model(inputs=[input_ids, mask], outputs=y)\n",
    "\n",
    "# freeze the BERT layer - otherwise we will be training 100M+ parameters...\n",
    "model.layers[2].trainable = False"
   ]
  },
  {
   "cell_type": "markdown",
   "id": "c1b26c69-f01e-4185-b68f-d570ed2f4a89",
   "metadata": {},
   "source": [
    "## Training"
   ]
  },
  {
   "cell_type": "code",
   "execution_count": null,
   "id": "647b8d22-7e32-4bb3-988c-6517e84da302",
   "metadata": {
    "tags": []
   },
   "outputs": [],
   "source": [
    "model.summary()"
   ]
  },
  {
   "cell_type": "code",
   "execution_count": null,
   "id": "7b83fda2-98cb-4359-95c7-9af80d3874fe",
   "metadata": {
    "tags": []
   },
   "outputs": [],
   "source": [
    "optimizer = tf.keras.optimizers.Adam(0.01)\n",
    "loss = tf.keras.losses.CategoricalCrossentropy()  # categorical = one-hot\n",
    "acc = tf.keras.metrics.CategoricalAccuracy('accuracy')\n",
    "\n",
    "model.compile(optimizer=optimizer, loss=loss, metrics=[acc])\n",
    "\n",
    "history = model.fit(train, validation_data=val, epochs=10)"
   ]
  },
  {
   "cell_type": "markdown",
   "id": "8c8b67f2-8150-492f-bfb3-0ee654714e22",
   "metadata": {},
   "source": [
    "# Save Model"
   ]
  },
  {
   "cell_type": "code",
   "execution_count": null,
   "id": "d98c8ae3-063a-43e0-8616-29770b35ca46",
   "metadata": {
    "tags": []
   },
   "outputs": [],
   "source": [
    "model.save('../data/input/transformer_v1')"
   ]
  },
  {
   "cell_type": "code",
   "execution_count": null,
   "id": "91940226-6bfa-4dc8-b25e-722ef255173a",
   "metadata": {
    "tags": []
   },
   "outputs": [],
   "source": [
    "model.save_weights('../data/input/weights/weights')"
   ]
  },
  {
   "cell_type": "code",
   "execution_count": null,
   "id": "992bde15-00e9-4612-98d5-9ff17e40a3bf",
   "metadata": {
    "tags": []
   },
   "outputs": [],
   "source": [
    "model.save_weights('../data/input/weights/weights.h5')"
   ]
  },
  {
   "cell_type": "markdown",
   "id": "aa820137-f4f8-4e4b-bf12-289f4c9fab90",
   "metadata": {
    "tags": []
   },
   "source": [
    "# Load model"
   ]
  },
  {
   "cell_type": "code",
   "execution_count": null,
   "id": "c6ddd9db-31c5-4985-ac22-36b6f5f5642f",
   "metadata": {
    "tags": []
   },
   "outputs": [],
   "source": [
    "model_v1 = tf.keras.models.load_model('../data/input/weights/weights.h5')"
   ]
  },
  {
   "cell_type": "code",
   "execution_count": null,
   "id": "a0306db3-627b-4043-8ef3-c8d1c7639d88",
   "metadata": {},
   "outputs": [],
   "source": []
  }
 ],
 "metadata": {
  "kernelspec": {
   "display_name": "nlp_py310",
   "language": "python",
   "name": "nlp_py310"
  },
  "language_info": {
   "codemirror_mode": {
    "name": "ipython",
    "version": 3
   },
   "file_extension": ".py",
   "mimetype": "text/x-python",
   "name": "python",
   "nbconvert_exporter": "python",
   "pygments_lexer": "ipython3",
   "version": "3.10.13"
  }
 },
 "nbformat": 4,
 "nbformat_minor": 5
}
