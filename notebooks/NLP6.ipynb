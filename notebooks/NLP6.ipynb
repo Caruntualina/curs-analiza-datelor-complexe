{
 "cells": [
  {
   "cell_type": "markdown",
   "metadata": {
    "id": "Xt1AL35ROzyr"
   },
   "source": [
    "# Importing Libraries"
   ]
  },
  {
   "cell_type": "code",
   "execution_count": null,
   "metadata": {
    "id": "cVQJ7CmPOyS4"
   },
   "outputs": [],
   "source": [
    "!pip install afinn"
   ]
  },
  {
   "cell_type": "code",
   "execution_count": null,
   "metadata": {
    "id": "_maAETk1PN-b"
   },
   "outputs": [],
   "source": [
    "!pip install NRCLex"
   ]
  },
  {
   "cell_type": "code",
   "execution_count": null,
   "metadata": {
    "id": "zjeX0lOcPSn7",
    "tags": []
   },
   "outputs": [],
   "source": [
    "import pandas as pd\n",
    "import numpy as np\n",
    "\n",
    "# Lexicons\n",
    "from afinn import Afinn\n",
    "from nrclex import NRCLex\n",
    "from textblob import TextBlob\n",
    "\n",
    "import nltk\n",
    "nltk.download('vader_lexicon')\n",
    "nltk.download('punkt')\n",
    "\n",
    "from nltk.sentiment.vader import SentimentIntensityAnalyzer\n",
    "\n",
    "# Desi nu fol. un alg. de clasificare, putem fol. classification report\n",
    "# pentru a evalua performanta lexiconului comparativ cu \"ground truth\":\n",
    "# valorile din coloana 'positive'\n",
    "from sklearn.metrics import classification_report"
   ]
  },
  {
   "cell_type": "markdown",
   "metadata": {
    "id": "cW5Tfp_CQs1A"
   },
   "source": [
    "# Citirea Datelor"
   ]
  },
  {
   "cell_type": "code",
   "execution_count": null,
   "metadata": {
    "tags": []
   },
   "outputs": [],
   "source": [
    "url = 'https://github.com/berinde/curs-analiza-datelor-complexe/blob/main/data/input/3.input_data_prepped_bow.csv?raw=True'\n",
    "reviews = pd.read_csv(url)\n",
    "reviews.head(2)"
   ]
  },
  {
   "cell_type": "code",
   "execution_count": null,
   "metadata": {
    "id": "X1q5D_CUQ2JX"
   },
   "outputs": [],
   "source": [
    "reviews['text'] = reviews['text'].astype(str)\n",
    "reviews['text_prep'] = reviews['text_prep'].astype(str)\n",
    "reviews['text_prep_lim'] = reviews['text_prep_lim'].astype(str)"
   ]
  },
  {
   "cell_type": "markdown",
   "metadata": {
    "id": "D_s7m_EMRnQt"
   },
   "source": [
    "# AFINN"
   ]
  },
  {
   "cell_type": "markdown",
   "metadata": {
    "id": "CKjHZ1z3RuO3"
   },
   "source": [
    "## Exemple"
   ]
  },
  {
   "cell_type": "code",
   "execution_count": null,
   "metadata": {
    "id": "Z39jkwoURv5t"
   },
   "outputs": [],
   "source": [
    "Afinn().score('This is utterly excellent!')"
   ]
  },
  {
   "cell_type": "code",
   "execution_count": null,
   "metadata": {
    "id": "IPGZm2HZRv8H"
   },
   "outputs": [],
   "source": [
    "Afinn().score('This restaurant has OK food')"
   ]
  },
  {
   "cell_type": "code",
   "execution_count": null,
   "metadata": {
    "id": "_iFuvjX2Rv97"
   },
   "outputs": [],
   "source": [
    "Afinn().score('This restaurant has OK food!!!')"
   ]
  },
  {
   "cell_type": "code",
   "execution_count": null,
   "metadata": {
    "id": "mlig3859ShwP"
   },
   "outputs": [],
   "source": [
    "Afinn().score('This restaurant has OK food. It is the best in the neighbourhood.')"
   ]
  },
  {
   "cell_type": "code",
   "execution_count": null,
   "metadata": {
    "id": "0poNoGpWSqqk"
   },
   "outputs": [],
   "source": [
    "Afinn().score('The pizza here is absolutely amazing!')"
   ]
  },
  {
   "cell_type": "code",
   "execution_count": null,
   "metadata": {
    "id": "to6fYys4Syyq"
   },
   "outputs": [],
   "source": [
    "Afinn().score('This restaurant has the worst food!')"
   ]
  },
  {
   "cell_type": "code",
   "execution_count": null,
   "metadata": {
    "id": "AkamSKnbTA1R"
   },
   "outputs": [],
   "source": [
    "Afinn().score('This restaurant has the WORST food!')"
   ]
  },
  {
   "cell_type": "markdown",
   "metadata": {
    "id": "l4Fb54DzTRcO"
   },
   "source": [
    "## Implementari pe textul pre-procesat"
   ]
  },
  {
   "cell_type": "code",
   "execution_count": null,
   "metadata": {
    "id": "J3A0kNWvTUzG"
   },
   "outputs": [],
   "source": [
    "reviews['afinn_score_tp'] = reviews['text_prep'].apply(lambda x: Afinn().score(x))"
   ]
  },
  {
   "cell_type": "code",
   "execution_count": null,
   "metadata": {
    "id": "liUSF3ryTU4C"
   },
   "outputs": [],
   "source": [
    "# Cream coloana afinn_class_tp, care va avea val. 1 daca scorul Afinn este pozitiv,\n",
    "# valoarea 0 daca scorul este negativ\n",
    "reviews['afinn_class_tp'] = np.where(reviews['afinn_score_tp']>=0, 1, 0)"
   ]
  },
  {
   "cell_type": "code",
   "execution_count": null,
   "metadata": {
    "id": "HgX-b7T3U4z6"
   },
   "outputs": [],
   "source": [
    "print(classification_report(reviews['positive'], reviews['afinn_class_tp']))"
   ]
  },
  {
   "cell_type": "markdown",
   "metadata": {
    "id": "ausXijASV_TU"
   },
   "source": [
    "* Tema 2: Implementati lexiconul Afinn pe textul original (reviews['text']), pentru a calcula scorurile fiecarui review si pentru a determina daca un review este pozitiv / negative. Apoi, veti crea un classification report. Descrieti performanta lexiconului.\n",
    "* Deadline: 26 Mar."
   ]
  },
  {
   "cell_type": "markdown",
   "metadata": {
    "id": "fJp8lmzARnV5"
   },
   "source": [
    "# TextBlob\n",
    "* Scorul documentului intre [-1, 1]\n",
    "* Subiectivitatea documentului este intre [0,1]; 0=fapt, realitate; 1=parere"
   ]
  },
  {
   "cell_type": "markdown",
   "metadata": {
    "id": "4PA4lmggXOq_"
   },
   "source": [
    "## Exemple"
   ]
  },
  {
   "cell_type": "code",
   "execution_count": null,
   "metadata": {
    "id": "wq1byabdXSKK"
   },
   "outputs": [],
   "source": [
    "TextBlob('This restaurant has OK food').sentiment"
   ]
  },
  {
   "cell_type": "code",
   "execution_count": null,
   "metadata": {
    "id": "-WugL-6YXSMi"
   },
   "outputs": [],
   "source": [
    "TextBlob('This restaurant has OK food').sentiment.polarity"
   ]
  },
  {
   "cell_type": "code",
   "execution_count": null,
   "metadata": {
    "id": "XXV9tB4BXSPG"
   },
   "outputs": [],
   "source": [
    "TextBlob('This restaurant has OK food').sentiment.subjectivity"
   ]
  },
  {
   "cell_type": "code",
   "execution_count": null,
   "metadata": {
    "id": "EJiADCgyXua0"
   },
   "outputs": [],
   "source": [
    "TextBlob('This restaurant has OK food. It is the best in the neighbourhood').sentiment"
   ]
  },
  {
   "cell_type": "code",
   "execution_count": null,
   "metadata": {
    "id": "I4HsbwC7XudG"
   },
   "outputs": [],
   "source": [
    "TextBlob('This restaurant has OK food!!!').sentiment"
   ]
  },
  {
   "cell_type": "code",
   "execution_count": null,
   "metadata": {
    "id": "mCMBHEw_XufR"
   },
   "outputs": [],
   "source": [
    "TextBlob('Python is a programming language').sentiment"
   ]
  },
  {
   "cell_type": "code",
   "execution_count": null,
   "metadata": {
    "id": "1v7Zky0XXuhu"
   },
   "outputs": [],
   "source": [
    "TextBlob(':D').sentiment"
   ]
  },
  {
   "cell_type": "code",
   "execution_count": null,
   "metadata": {
    "id": "Deu29kw8Xuj2"
   },
   "outputs": [],
   "source": [
    "TextBlob('This restaurant has bad food').sentiment"
   ]
  },
  {
   "cell_type": "code",
   "execution_count": null,
   "metadata": {
    "id": "bQ4hD2YdYebT"
   },
   "outputs": [],
   "source": [
    "TextBlob('This restaurant has BAD food').sentiment"
   ]
  },
  {
   "cell_type": "markdown",
   "metadata": {
    "id": "86Vd8u9SYz5m"
   },
   "source": [
    "## Implementare pe textul original"
   ]
  },
  {
   "cell_type": "code",
   "execution_count": null,
   "metadata": {
    "id": "-gsxIZjUY8hG"
   },
   "outputs": [],
   "source": [
    "reviews['textblob_score'] = reviews['text'].apply(lambda x: TextBlob(x).sentiment.polarity)"
   ]
  },
  {
   "cell_type": "code",
   "execution_count": null,
   "metadata": {
    "id": "MgARpsW9Y8n7"
   },
   "outputs": [],
   "source": [
    "reviews['textblob_score'].describe()"
   ]
  },
  {
   "cell_type": "code",
   "execution_count": null,
   "metadata": {
    "id": "5tCHC6noZi63"
   },
   "outputs": [],
   "source": [
    "reviews['textblob_class'] = np.where(reviews['textblob_score']>=0, 1, 0)"
   ]
  },
  {
   "cell_type": "code",
   "execution_count": null,
   "metadata": {
    "id": "RBVBNGogaDjq"
   },
   "outputs": [],
   "source": [
    "print(classification_report(reviews['positive'], reviews['textblob_class']))"
   ]
  },
  {
   "cell_type": "markdown",
   "metadata": {
    "id": "HdG2cbKeY4nJ"
   },
   "source": [
    "## Implementare pe textul pre-procesat"
   ]
  },
  {
   "cell_type": "code",
   "execution_count": null,
   "metadata": {
    "id": "VnCGn819dQfh"
   },
   "outputs": [],
   "source": [
    "reviews['textblob_score_tp'] = reviews['text_prep'].apply(lambda x: \n",
    "                                                          TextBlob(x).sentiment.polarity)"
   ]
  },
  {
   "cell_type": "code",
   "execution_count": null,
   "metadata": {
    "id": "BVci1FB0doaO"
   },
   "outputs": [],
   "source": [
    "reviews['textblob_score_tp'].describe()"
   ]
  },
  {
   "cell_type": "code",
   "execution_count": null,
   "metadata": {
    "id": "xt51e9zUd2Fd"
   },
   "outputs": [],
   "source": [
    "reviews['textblob_class_tp'] = np.where(reviews['textblob_score_tp']>=0, 1, 0)"
   ]
  },
  {
   "cell_type": "code",
   "execution_count": null,
   "metadata": {
    "id": "I8PWiQKFeHcQ"
   },
   "outputs": [],
   "source": [
    "print(classification_report(reviews['positive'], reviews['textblob_class_tp']))"
   ]
  },
  {
   "cell_type": "markdown",
   "metadata": {
    "id": "tgeMf6drRqtq"
   },
   "source": [
    "# VADER\n",
    "* scorul compus este intre [-1, 1]\n",
    "* valorile pentru neg, neu, pos indica % documentului in acea categ."
   ]
  },
  {
   "cell_type": "markdown",
   "metadata": {
    "id": "zFIo5pVAetif"
   },
   "source": [
    "## Exemple"
   ]
  },
  {
   "cell_type": "code",
   "execution_count": null,
   "metadata": {
    "id": "09yewu6Veu9G"
   },
   "outputs": [],
   "source": [
    "SentimentIntensityAnalyzer().polarity_scores('This restaurant has OK food')"
   ]
  },
  {
   "cell_type": "code",
   "execution_count": null,
   "metadata": {
    "id": "1N9Rnbo_eu_P"
   },
   "outputs": [],
   "source": [
    "SentimentIntensityAnalyzer().polarity_scores('This restaurant has OK food!!!')"
   ]
  },
  {
   "cell_type": "code",
   "execution_count": null,
   "metadata": {
    "id": "VFcpz5AUevCN"
   },
   "outputs": [],
   "source": [
    "SentimentIntensityAnalyzer().polarity_scores(':D')"
   ]
  },
  {
   "cell_type": "code",
   "execution_count": null,
   "metadata": {
    "id": "BYjn5d5efYHW"
   },
   "outputs": [],
   "source": [
    "SentimentIntensityAnalyzer().polarity_scores(':(')"
   ]
  },
  {
   "cell_type": "code",
   "execution_count": null,
   "metadata": {
    "id": "ZxXcwtk_fgpx"
   },
   "outputs": [],
   "source": [
    "SentimentIntensityAnalyzer().polarity_scores('This restaurant has the worst food')"
   ]
  },
  {
   "cell_type": "code",
   "execution_count": null,
   "metadata": {
    "id": "dn_OB6N7flh7"
   },
   "outputs": [],
   "source": [
    "SentimentIntensityAnalyzer().polarity_scores('This restaurant has the WORST food')"
   ]
  },
  {
   "cell_type": "code",
   "execution_count": null,
   "metadata": {
    "id": "LnZWOgJtfxX_"
   },
   "outputs": [],
   "source": [
    "SentimentIntensityAnalyzer().polarity_scores('This restaurant has the WORST food')['compound']"
   ]
  },
  {
   "cell_type": "markdown",
   "metadata": {
    "id": "-PdQ1nLGf2uH"
   },
   "source": [
    "## Implementare pe textul original"
   ]
  },
  {
   "cell_type": "code",
   "execution_count": null,
   "metadata": {
    "id": "xYKh2BvBgAe9"
   },
   "outputs": [],
   "source": [
    "reviews['vader_score'] = reviews['text'].apply(lambda x: SentimentIntensityAnalyzer().polarity_scores(x)['compound'])"
   ]
  },
  {
   "cell_type": "code",
   "execution_count": null,
   "metadata": {
    "id": "X7UTLMqvgAhz"
   },
   "outputs": [],
   "source": [
    "reviews['vader_class'] = np.where(reviews['vader_score']>=0, 1, 0)"
   ]
  },
  {
   "cell_type": "code",
   "execution_count": null,
   "metadata": {
    "id": "NqomB5f9gAkl"
   },
   "outputs": [],
   "source": [
    "reviews[['vader_score', 'vader_class', 'positive']].describe()"
   ]
  },
  {
   "cell_type": "code",
   "execution_count": null,
   "metadata": {
    "id": "ZRyuU0zuhKQY"
   },
   "outputs": [],
   "source": [
    "print(classification_report(reviews['positive'], reviews['vader_class']))"
   ]
  },
  {
   "cell_type": "code",
   "execution_count": null,
   "metadata": {
    "id": "7lZ6HCV7iB_P"
   },
   "outputs": [],
   "source": [
    "recenzii_vaderscore0 = reviews[reviews['vader_score']==0].copy()\n",
    "print('Numarul de recenzii pentru care scorul VADER este exact 0:', \n",
    "      len(recenzii_vaderscore0))\n",
    "print('Procentul de recenzii pozitive din acele recenzii cu scor VADER 0',\n",
    "      recenzii_vaderscore0['positive'].mean())"
   ]
  },
  {
   "cell_type": "markdown",
   "metadata": {
    "id": "XtUvR-nJf-WR"
   },
   "source": [
    "## Implementare pe textul pre-procesat"
   ]
  },
  {
   "cell_type": "code",
   "execution_count": null,
   "metadata": {
    "id": "RbWmxquif1cB"
   },
   "outputs": [],
   "source": [
    "reviews['vader_score_tp'] = reviews['text_prep'].apply(lambda x: SentimentIntensityAnalyzer().polarity_scores(x)['compound'])"
   ]
  },
  {
   "cell_type": "code",
   "execution_count": null,
   "metadata": {
    "id": "ndoSSEdZf1ec"
   },
   "outputs": [],
   "source": [
    "reviews['vader_class_tp'] = np.where(reviews['vader_score_tp']>=0, 1, 0)"
   ]
  },
  {
   "cell_type": "code",
   "execution_count": null,
   "metadata": {
    "id": "T_aXQ7SEf1hb"
   },
   "outputs": [],
   "source": [
    "reviews[['vader_score_tp', 'vader_class_tp', 'positive']].describe()"
   ]
  },
  {
   "cell_type": "code",
   "execution_count": null,
   "metadata": {
    "id": "ZL0FlB-of1kG"
   },
   "outputs": [],
   "source": [
    "print(classification_report(reviews['positive'], reviews['vader_class_tp']))"
   ]
  },
  {
   "cell_type": "markdown",
   "metadata": {
    "id": "E1kaKqlVlEfJ"
   },
   "source": [
    "# EmoLex\n",
    "https://saifmohammad.com/WebPages/NRC-Emotion-Lexicon.htm"
   ]
  },
  {
   "cell_type": "code",
   "execution_count": null,
   "metadata": {
    "id": "VHPa4gxOf1mw"
   },
   "outputs": [],
   "source": [
    "emotion = NRCLex('person')\n",
    "emotion.top_emotions"
   ]
  },
  {
   "cell_type": "code",
   "execution_count": null,
   "metadata": {
    "id": "r_l6W4p0mwj1"
   },
   "outputs": [],
   "source": [
    "emotion = NRCLex('lovely')\n",
    "emotion.top_emotions"
   ]
  },
  {
   "cell_type": "code",
   "execution_count": null,
   "metadata": {
    "id": "tVC0A3Gym8Kh"
   },
   "outputs": [],
   "source": [
    "emotion = NRCLex('hate')\n",
    "emotion.top_emotions"
   ]
  },
  {
   "cell_type": "code",
   "execution_count": null,
   "metadata": {
    "id": "BmlY51fYnVDo"
   },
   "outputs": [],
   "source": []
  }
 ],
 "metadata": {
  "colab": {
   "provenance": [],
   "toc_visible": true
  },
  "kernelspec": {
   "display_name": "nlp_py_310",
   "language": "python",
   "name": "nlp_py_310"
  },
  "language_info": {
   "codemirror_mode": {
    "name": "ipython",
    "version": 3
   },
   "file_extension": ".py",
   "mimetype": "text/x-python",
   "name": "python",
   "nbconvert_exporter": "python",
   "pygments_lexer": "ipython3",
   "version": "3.10.13"
  }
 },
 "nbformat": 4,
 "nbformat_minor": 4
}
