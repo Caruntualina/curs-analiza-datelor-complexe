{
  "nbformat": 4,
  "nbformat_minor": 0,
  "metadata": {
    "colab": {
      "provenance": [],
      "toc_visible": true
    },
    "kernelspec": {
      "name": "python3",
      "display_name": "Python 3"
    },
    "language_info": {
      "name": "python"
    }
  },
  "cells": [
    {
      "cell_type": "markdown",
      "source": [
        "# Importing Libraries"
      ],
      "metadata": {
        "id": "Xt1AL35ROzyr"
      }
    },
    {
      "cell_type": "code",
      "execution_count": null,
      "metadata": {
        "collapsed": true,
        "id": "cVQJ7CmPOyS4"
      },
      "outputs": [],
      "source": [
        "!pip install afinn"
      ]
    },
    {
      "cell_type": "code",
      "source": [
        "!pip install NRCLex"
      ],
      "metadata": {
        "collapsed": true,
        "id": "_maAETk1PN-b"
      },
      "execution_count": null,
      "outputs": []
    },
    {
      "cell_type": "code",
      "source": [
        "import pandas as pd\n",
        "import numpy as np\n",
        "\n",
        "# Lexicons\n",
        "from afinn import Afinn\n",
        "from nrclex import NRCLex\n",
        "from textblob import TextBlob\n",
        "\n",
        "import nltk\n",
        "nltk.download('vader_lexicon')\n",
        "nltk.download('punkt')\n",
        "\n",
        "from nltk.sentiment.vader import SentimentIntensityAnalyzer\n",
        "\n",
        "# Desi nu fol. un alg. de clasificare, putem fol. classification report\n",
        "# pentru a evalua performanta lexiconului comparativ cu \"ground truth\":\n",
        "# valorile din coloana 'positive'\n",
        "from sklearn.metrics import classification_report"
      ],
      "metadata": {
        "id": "zjeX0lOcPSn7"
      },
      "execution_count": null,
      "outputs": []
    },
    {
      "cell_type": "markdown",
      "source": [
        "# Citirea Datelor"
      ],
      "metadata": {
        "id": "cW5Tfp_CQs1A"
      }
    },
    {
      "cell_type": "code",
      "source": [
        "url = 'https://raw.githubusercontent.com/DanielaManate/SentimentAnalysis-TopicModeling/master/Data/Input/3.input_data_prepped_bow.csv'\n",
        "reviews = pd.read_csv(url)\n",
        "reviews.head(2)"
      ],
      "metadata": {
        "id": "xAsBJWd4Qdac"
      },
      "execution_count": null,
      "outputs": []
    },
    {
      "cell_type": "code",
      "source": [
        "reviews['text'] = reviews['text'].astype(str)\n",
        "reviews['text_prep'] = reviews['text_prep'].astype(str)\n",
        "reviews['text_prep_lim'] = reviews['text_prep_lim'].astype(str)"
      ],
      "metadata": {
        "id": "X1q5D_CUQ2JX"
      },
      "execution_count": null,
      "outputs": []
    },
    {
      "cell_type": "markdown",
      "source": [
        "# AFINN"
      ],
      "metadata": {
        "id": "D_s7m_EMRnQt"
      }
    },
    {
      "cell_type": "markdown",
      "source": [
        "## Exemple"
      ],
      "metadata": {
        "id": "CKjHZ1z3RuO3"
      }
    },
    {
      "cell_type": "code",
      "source": [
        "Afinn().score('This is utterly excellent!')"
      ],
      "metadata": {
        "id": "Z39jkwoURv5t"
      },
      "execution_count": null,
      "outputs": []
    },
    {
      "cell_type": "code",
      "source": [
        "Afinn().score('This restaurant has OK food')"
      ],
      "metadata": {
        "id": "IPGZm2HZRv8H"
      },
      "execution_count": null,
      "outputs": []
    },
    {
      "cell_type": "code",
      "source": [
        "Afinn().score('This restaurant has OK food!!!')"
      ],
      "metadata": {
        "id": "_iFuvjX2Rv97"
      },
      "execution_count": null,
      "outputs": []
    },
    {
      "cell_type": "code",
      "source": [
        "Afinn().score('This restaurant has OK food. It is the best in the neighbourhood.')"
      ],
      "metadata": {
        "id": "mlig3859ShwP"
      },
      "execution_count": null,
      "outputs": []
    },
    {
      "cell_type": "code",
      "source": [
        "Afinn().score('The pizza here is absolutely amazing!')"
      ],
      "metadata": {
        "id": "0poNoGpWSqqk"
      },
      "execution_count": null,
      "outputs": []
    },
    {
      "cell_type": "code",
      "source": [
        "Afinn().score('This restaurant has the worst food!')"
      ],
      "metadata": {
        "id": "to6fYys4Syyq"
      },
      "execution_count": null,
      "outputs": []
    },
    {
      "cell_type": "code",
      "source": [
        "Afinn().score('This restaurant has the WORST food!')"
      ],
      "metadata": {
        "id": "AkamSKnbTA1R"
      },
      "execution_count": null,
      "outputs": []
    },
    {
      "cell_type": "markdown",
      "source": [
        "## Implementari pe textul pre-procesat"
      ],
      "metadata": {
        "id": "l4Fb54DzTRcO"
      }
    },
    {
      "cell_type": "code",
      "source": [
        "reviews['afinn_score_tp'] = reviews['text_prep'].apply(lambda x: Afinn().score(x))"
      ],
      "metadata": {
        "id": "J3A0kNWvTUzG"
      },
      "execution_count": null,
      "outputs": []
    },
    {
      "cell_type": "code",
      "source": [
        "# Cream coloana afinn_class_tp, care va avea val. 1 daca scorul Afinn este pozitiv,\n",
        "# valoarea 0 daca scorul este negativ\n",
        "reviews['afinn_class_tp'] = np.where(reviews['afinn_score_tp']>=0, 1, 0)"
      ],
      "metadata": {
        "id": "liUSF3ryTU4C"
      },
      "execution_count": null,
      "outputs": []
    },
    {
      "cell_type": "code",
      "source": [
        "print(classification_report(reviews['positive'], reviews['afinn_class_tp']))"
      ],
      "metadata": {
        "id": "HgX-b7T3U4z6"
      },
      "execution_count": null,
      "outputs": []
    },
    {
      "cell_type": "markdown",
      "source": [
        "* Tema 2: Implementati lexiconul Afinn pe textul original (reviews['text']), pentru a calcula scorurile fiecarui review si pentru a determina daca un review este pozitiv / negative. Apoi, veti crea un classification report. Descrieti performanta lexiconului.\n",
        "* Deadline: 26 Mar."
      ],
      "metadata": {
        "id": "ausXijASV_TU"
      }
    },
    {
      "cell_type": "markdown",
      "source": [
        "# TextBlob\n",
        "* Scorul documentului intre [-1, 1]\n",
        "* Subiectivitatea documentului este intre [0,1]; 0=fapt, realitate; 1=parere"
      ],
      "metadata": {
        "id": "fJp8lmzARnV5"
      }
    },
    {
      "cell_type": "markdown",
      "source": [
        "## Exemple"
      ],
      "metadata": {
        "id": "4PA4lmggXOq_"
      }
    },
    {
      "cell_type": "code",
      "source": [
        "TextBlob('This restaurant has OK food').sentiment"
      ],
      "metadata": {
        "id": "wq1byabdXSKK"
      },
      "execution_count": null,
      "outputs": []
    },
    {
      "cell_type": "code",
      "source": [
        "TextBlob('This restaurant has OK food').sentiment.polarity"
      ],
      "metadata": {
        "id": "-WugL-6YXSMi"
      },
      "execution_count": null,
      "outputs": []
    },
    {
      "cell_type": "code",
      "source": [
        "TextBlob('This restaurant has OK food').sentiment.subjectivity"
      ],
      "metadata": {
        "id": "XXV9tB4BXSPG"
      },
      "execution_count": null,
      "outputs": []
    },
    {
      "cell_type": "code",
      "source": [
        "TextBlob('This restaurant has OK food. It is the best in the neighbourhood').sentiment"
      ],
      "metadata": {
        "id": "EJiADCgyXua0"
      },
      "execution_count": null,
      "outputs": []
    },
    {
      "cell_type": "code",
      "source": [
        "TextBlob('This restaurant has OK food!!!').sentiment"
      ],
      "metadata": {
        "id": "I4HsbwC7XudG"
      },
      "execution_count": null,
      "outputs": []
    },
    {
      "cell_type": "code",
      "source": [
        "TextBlob('Python is a programming language').sentiment"
      ],
      "metadata": {
        "id": "mCMBHEw_XufR"
      },
      "execution_count": null,
      "outputs": []
    },
    {
      "cell_type": "code",
      "source": [
        "TextBlob(':D').sentiment"
      ],
      "metadata": {
        "id": "1v7Zky0XXuhu"
      },
      "execution_count": null,
      "outputs": []
    },
    {
      "cell_type": "code",
      "source": [
        "TextBlob('This restaurant has bad food').sentiment"
      ],
      "metadata": {
        "id": "Deu29kw8Xuj2"
      },
      "execution_count": null,
      "outputs": []
    },
    {
      "cell_type": "code",
      "source": [
        "TextBlob('This restaurant has BAD food').sentiment"
      ],
      "metadata": {
        "id": "bQ4hD2YdYebT"
      },
      "execution_count": null,
      "outputs": []
    },
    {
      "cell_type": "markdown",
      "source": [
        "## Implementare pe textul original"
      ],
      "metadata": {
        "id": "86Vd8u9SYz5m"
      }
    },
    {
      "cell_type": "code",
      "source": [
        "reviews['textblob_score'] = reviews['text'].apply(lambda x: TextBlob(x).sentiment.polarity)"
      ],
      "metadata": {
        "id": "-gsxIZjUY8hG"
      },
      "execution_count": null,
      "outputs": []
    },
    {
      "cell_type": "code",
      "source": [
        "reviews['textblob_score'].describe()"
      ],
      "metadata": {
        "id": "MgARpsW9Y8n7"
      },
      "execution_count": null,
      "outputs": []
    },
    {
      "cell_type": "code",
      "source": [
        "reviews['textblob_class'] = np.where(reviews['textblob_score']>=0, 1, 0)"
      ],
      "metadata": {
        "id": "5tCHC6noZi63"
      },
      "execution_count": null,
      "outputs": []
    },
    {
      "cell_type": "code",
      "source": [
        "print(classification_report(reviews['positive'], reviews['textblob_class']))"
      ],
      "metadata": {
        "id": "RBVBNGogaDjq"
      },
      "execution_count": null,
      "outputs": []
    },
    {
      "cell_type": "markdown",
      "source": [
        "## Implementare pe textul pre-procesat"
      ],
      "metadata": {
        "id": "HdG2cbKeY4nJ"
      }
    },
    {
      "cell_type": "code",
      "source": [
        "reviews['textblob_score_tp'] = reviews['text_prep'].apply(lambda x: \n",
        "                                                          TextBlob(x).sentiment.polarity)"
      ],
      "metadata": {
        "id": "VnCGn819dQfh"
      },
      "execution_count": null,
      "outputs": []
    },
    {
      "cell_type": "code",
      "source": [
        "reviews['textblob_score_tp'].describe()"
      ],
      "metadata": {
        "id": "BVci1FB0doaO"
      },
      "execution_count": null,
      "outputs": []
    },
    {
      "cell_type": "code",
      "source": [
        "reviews['textblob_class_tp'] = np.where(reviews['textblob_score_tp']>=0, 1, 0)"
      ],
      "metadata": {
        "id": "xt51e9zUd2Fd"
      },
      "execution_count": null,
      "outputs": []
    },
    {
      "cell_type": "code",
      "source": [
        "print(classification_report(reviews['positive'], reviews['textblob_class_tp']))"
      ],
      "metadata": {
        "id": "I8PWiQKFeHcQ"
      },
      "execution_count": null,
      "outputs": []
    },
    {
      "cell_type": "markdown",
      "source": [
        "# VADER\n",
        "* scorul compus este intre [-1, 1]\n",
        "* valorile pentru neg, neu, pos indica % documentului in acea categ."
      ],
      "metadata": {
        "id": "tgeMf6drRqtq"
      }
    },
    {
      "cell_type": "markdown",
      "source": [
        "## Exemple"
      ],
      "metadata": {
        "id": "zFIo5pVAetif"
      }
    },
    {
      "cell_type": "code",
      "source": [
        "SentimentIntensityAnalyzer().polarity_scores('This restaurant has OK food')"
      ],
      "metadata": {
        "id": "09yewu6Veu9G"
      },
      "execution_count": null,
      "outputs": []
    },
    {
      "cell_type": "code",
      "source": [
        "SentimentIntensityAnalyzer().polarity_scores('This restaurant has OK food!!!')"
      ],
      "metadata": {
        "id": "1N9Rnbo_eu_P"
      },
      "execution_count": null,
      "outputs": []
    },
    {
      "cell_type": "code",
      "source": [
        "SentimentIntensityAnalyzer().polarity_scores(':D')"
      ],
      "metadata": {
        "id": "VFcpz5AUevCN"
      },
      "execution_count": null,
      "outputs": []
    },
    {
      "cell_type": "code",
      "source": [
        "SentimentIntensityAnalyzer().polarity_scores(':(')"
      ],
      "metadata": {
        "id": "BYjn5d5efYHW"
      },
      "execution_count": null,
      "outputs": []
    },
    {
      "cell_type": "code",
      "source": [
        "SentimentIntensityAnalyzer().polarity_scores('This restaurant has the worst food')"
      ],
      "metadata": {
        "id": "ZxXcwtk_fgpx"
      },
      "execution_count": null,
      "outputs": []
    },
    {
      "cell_type": "code",
      "source": [
        "SentimentIntensityAnalyzer().polarity_scores('This restaurant has the WORST food')"
      ],
      "metadata": {
        "id": "dn_OB6N7flh7"
      },
      "execution_count": null,
      "outputs": []
    },
    {
      "cell_type": "code",
      "source": [
        "SentimentIntensityAnalyzer().polarity_scores('This restaurant has the WORST food')['compound']"
      ],
      "metadata": {
        "id": "LnZWOgJtfxX_"
      },
      "execution_count": null,
      "outputs": []
    },
    {
      "cell_type": "markdown",
      "source": [
        "## Implementare pe textul original"
      ],
      "metadata": {
        "id": "-PdQ1nLGf2uH"
      }
    },
    {
      "cell_type": "code",
      "source": [
        "reviews['vader_score'] = reviews['text'].apply(lambda x: SentimentIntensityAnalyzer().polarity_scores(x)['compound'])"
      ],
      "metadata": {
        "id": "xYKh2BvBgAe9"
      },
      "execution_count": null,
      "outputs": []
    },
    {
      "cell_type": "code",
      "source": [
        "reviews['vader_class'] = np.where(reviews['vader_score']>=0, 1, 0)"
      ],
      "metadata": {
        "id": "X7UTLMqvgAhz"
      },
      "execution_count": null,
      "outputs": []
    },
    {
      "cell_type": "code",
      "source": [
        "reviews[['vader_score', 'vader_class', 'positive']].describe()"
      ],
      "metadata": {
        "id": "NqomB5f9gAkl"
      },
      "execution_count": null,
      "outputs": []
    },
    {
      "cell_type": "code",
      "source": [
        "print(classification_report(reviews['positive'], reviews['vader_class']))"
      ],
      "metadata": {
        "id": "ZRyuU0zuhKQY"
      },
      "execution_count": null,
      "outputs": []
    },
    {
      "cell_type": "code",
      "source": [
        "recenzii_vaderscore0 = reviews[reviews['vader_score']==0].copy()\n",
        "print('Numarul de recenzii pentru care scorul VADER este exact 0:', \n",
        "      len(recenzii_vaderscore0))\n",
        "print('Procentul de recenzii pozitive din acele recenzii cu scor VADER 0',\n",
        "      recenzii_vaderscore0['positive'].mean())"
      ],
      "metadata": {
        "id": "7lZ6HCV7iB_P"
      },
      "execution_count": null,
      "outputs": []
    },
    {
      "cell_type": "markdown",
      "source": [
        "## Implementare pe textul pre-procesat"
      ],
      "metadata": {
        "id": "XtUvR-nJf-WR"
      }
    },
    {
      "cell_type": "code",
      "source": [
        "reviews['vader_score_tp'] = reviews['text_prep'].apply(lambda x: SentimentIntensityAnalyzer().polarity_scores(x)['compound'])"
      ],
      "metadata": {
        "id": "RbWmxquif1cB"
      },
      "execution_count": null,
      "outputs": []
    },
    {
      "cell_type": "code",
      "source": [
        "reviews['vader_class_tp'] = np.where(reviews['vader_score_tp']>=0, 1, 0)"
      ],
      "metadata": {
        "id": "ndoSSEdZf1ec"
      },
      "execution_count": null,
      "outputs": []
    },
    {
      "cell_type": "code",
      "source": [
        "reviews[['vader_score_tp', 'vader_class_tp', 'positive']].describe()"
      ],
      "metadata": {
        "id": "T_aXQ7SEf1hb"
      },
      "execution_count": null,
      "outputs": []
    },
    {
      "cell_type": "code",
      "source": [
        "print(classification_report(reviews['positive'], reviews['vader_class_tp']))"
      ],
      "metadata": {
        "id": "ZL0FlB-of1kG"
      },
      "execution_count": null,
      "outputs": []
    },
    {
      "cell_type": "markdown",
      "source": [
        "# EmoLex\n",
        "https://saifmohammad.com/WebPages/NRC-Emotion-Lexicon.htm"
      ],
      "metadata": {
        "id": "E1kaKqlVlEfJ"
      }
    },
    {
      "cell_type": "code",
      "source": [
        "emotion = NRCLex('person')\n",
        "emotion.top_emotions"
      ],
      "metadata": {
        "id": "VHPa4gxOf1mw"
      },
      "execution_count": null,
      "outputs": []
    },
    {
      "cell_type": "code",
      "source": [
        "emotion = NRCLex('lovely')\n",
        "emotion.top_emotions"
      ],
      "metadata": {
        "id": "r_l6W4p0mwj1"
      },
      "execution_count": null,
      "outputs": []
    },
    {
      "cell_type": "code",
      "source": [
        "emotion = NRCLex('hate')\n",
        "emotion.top_emotions"
      ],
      "metadata": {
        "id": "tVC0A3Gym8Kh"
      },
      "execution_count": null,
      "outputs": []
    },
    {
      "cell_type": "code",
      "source": [],
      "metadata": {
        "id": "BmlY51fYnVDo"
      },
      "execution_count": null,
      "outputs": []
    }
  ]
}