{
  "nbformat": 4,
  "nbformat_minor": 0,
  "metadata": {
    "colab": {
      "provenance": []
    },
    "kernelspec": {
      "name": "python3",
      "display_name": "Python 3"
    },
    "language_info": {
      "name": "python"
    }
  },
  "cells": [
    {
      "cell_type": "markdown",
      "source": [
        "# Importing Libraries"
      ],
      "metadata": {
        "id": "bfHsrxuVMe3X"
      }
    },
    {
      "cell_type": "code",
      "source": [
        "import pandas as pd\n",
        "import numpy as np\n",
        "\n",
        "# DTM (document-term-matrix)\n",
        "from sklearn.feature_extraction.text import CountVectorizer\n",
        "\n",
        "# Impartirea documentului in cuvinte\n",
        "import nltk\n",
        "nltk.download('punkt')\n",
        "from nltk.tokenize import word_tokenize\n",
        "\n",
        "# Grafice\n",
        "import matplotlib.pyplot as plt\n",
        "\n",
        "# WordCloud\n",
        "from wordcloud import WordCloud"
      ],
      "metadata": {
        "id": "maG0d6umMgSR"
      },
      "execution_count": null,
      "outputs": []
    },
    {
      "cell_type": "markdown",
      "source": [
        "# Citirea Datelor"
      ],
      "metadata": {
        "id": "IHVN2Ap5NV-S"
      }
    },
    {
      "cell_type": "code",
      "source": [
        "url = 'https://raw.githubusercontent.com/DanielaManate/SentimentAnalysis-TopicModeling/master/Data/Input/2.input_data_prepped.csv'\n",
        "reviews = pd.read_csv(url)\n",
        "reviews.head(2)"
      ],
      "metadata": {
        "id": "K7VvwUYZM9Lx"
      },
      "execution_count": null,
      "outputs": []
    },
    {
      "cell_type": "code",
      "source": [
        "# len(reviews)\n",
        "reviews.shape"
      ],
      "metadata": {
        "collapsed": true,
        "id": "idj3SbnINhpA"
      },
      "execution_count": null,
      "outputs": []
    },
    {
      "cell_type": "code",
      "source": [
        "reviews.dtypes"
      ],
      "metadata": {
        "collapsed": true,
        "id": "vKjhRRfYNycp"
      },
      "execution_count": null,
      "outputs": []
    },
    {
      "cell_type": "code",
      "source": [
        "# Numarul valorilor nule pentru fiecare coloana\n",
        "reviews.isnull().sum()"
      ],
      "metadata": {
        "collapsed": true,
        "id": "5bsaivc4N5Qd"
      },
      "execution_count": null,
      "outputs": []
    },
    {
      "cell_type": "code",
      "source": [
        "# reviews[reviews['text_prep'].isnull()]"
      ],
      "metadata": {
        "id": "oibqimQbOGvi"
      },
      "execution_count": null,
      "outputs": []
    },
    {
      "cell_type": "code",
      "source": [
        "reviews['text_prep'] = reviews['text_prep'].astype(str)"
      ],
      "metadata": {
        "id": "NyD5zlZZOloZ"
      },
      "execution_count": null,
      "outputs": []
    },
    {
      "cell_type": "code",
      "source": [
        "reviews.isnull().sum()"
      ],
      "metadata": {
        "id": "RldsRaNxPBVM"
      },
      "execution_count": null,
      "outputs": []
    },
    {
      "cell_type": "markdown",
      "source": [
        "# Document Term Matrix"
      ],
      "metadata": {
        "id": "E3-BPl84Pjva"
      }
    },
    {
      "cell_type": "code",
      "source": [
        "# Construim un vocabular cu cele mai frecvente 6000 de cuvinte\n",
        "vec = CountVectorizer(max_features=6000)\n",
        "\n",
        "# Cream DTM-ul\n",
        "dtm1 = vec.fit_transform(reviews['text_prep'])\n",
        "\n",
        "# Convertim in dataframe\n",
        "dtm = pd.DataFrame(dtm1.toarray(),\n",
        "                   columns=vec.get_feature_names_out())"
      ],
      "metadata": {
        "id": "dN0emM74PDdY"
      },
      "execution_count": null,
      "outputs": []
    },
    {
      "cell_type": "code",
      "source": [
        "dtm.head(2)"
      ],
      "metadata": {
        "id": "keezStkTSpST"
      },
      "execution_count": null,
      "outputs": []
    },
    {
      "cell_type": "code",
      "source": [
        "reviews['text_prep'].iloc[1000]"
      ],
      "metadata": {
        "collapsed": true,
        "id": "CiSQGYuXSqe2"
      },
      "execution_count": null,
      "outputs": []
    },
    {
      "cell_type": "code",
      "source": [
        "# Cuvantul 'never' apare o singura data in recenzia #1000\n",
        "dtm['never'].iloc[1000]"
      ],
      "metadata": {
        "collapsed": true,
        "id": "26Vl4aoZTa2P"
      },
      "execution_count": null,
      "outputs": []
    },
    {
      "cell_type": "code",
      "source": [
        "# Cuvantul 'robbie' nu este in top 6000 de cuvinte, \n",
        "# din aceasta cauza nu exista coloana robbie in dtm\n",
        "# dtm['robbie'].iloc[1000]"
      ],
      "metadata": {
        "id": "DyrBGhFWTn4Q"
      },
      "execution_count": null,
      "outputs": []
    },
    {
      "cell_type": "code",
      "source": [
        "reviews.head(2)"
      ],
      "metadata": {
        "id": "kMtU8_n9T1kB"
      },
      "execution_count": null,
      "outputs": []
    },
    {
      "cell_type": "code",
      "source": [
        "reviews['text_prep_tokens'] = reviews['text_prep'].apply(word_tokenize)\n",
        "reviews['word_len_prep'] = reviews['text_prep_tokens'].apply(len)\n",
        "reviews.head()"
      ],
      "metadata": {
        "id": "ZfTMAnfuXR4g"
      },
      "execution_count": null,
      "outputs": []
    },
    {
      "cell_type": "code",
      "source": [
        "# Cele top 6000 de cuvinte din DTM\n",
        "top6000 = vec.get_feature_names_out()\n",
        "print(len(top6000))"
      ],
      "metadata": {
        "collapsed": true,
        "id": "fqDgSmB6XgDb"
      },
      "execution_count": null,
      "outputs": []
    },
    {
      "cell_type": "code",
      "source": [
        "# Cream o noua coloaana, care contine doar cuvintele din cele \n",
        "# top 6000 de cuvinte\n",
        "reviews['text_prep_lim_tokens'] = reviews['text_prep_tokens'].apply(lambda x:\n",
        "                                                                    [cuvant for cuvant in x if cuvant in top6000])\n",
        "reviews.head(2)"
      ],
      "metadata": {
        "id": "Eoatpb7GX9H4"
      },
      "execution_count": null,
      "outputs": []
    },
    {
      "cell_type": "code",
      "source": [
        "reviews['word_len_prep_lim'] = reviews['text_prep_lim_tokens'].apply(len)\n",
        "reviews.head(2)"
      ],
      "metadata": {
        "id": "Z67gpmCcX95d"
      },
      "execution_count": null,
      "outputs": []
    },
    {
      "cell_type": "code",
      "source": [
        "reviews['text_prep_lim'] = reviews['text_prep_lim_tokens'].apply(lambda x: ' '.join(x))\n",
        "reviews.head(2)"
      ],
      "metadata": {
        "collapsed": true,
        "id": "oBuRQ0YraC_G"
      },
      "execution_count": null,
      "outputs": []
    },
    {
      "cell_type": "markdown",
      "source": [
        "# WordCloud"
      ],
      "metadata": {
        "id": "d4BayMLebCiI"
      }
    },
    {
      "cell_type": "code",
      "source": [
        "print(dtm.shape)\n",
        "dtm.head(1)"
      ],
      "metadata": {
        "id": "ICOE765OaZx_"
      },
      "execution_count": null,
      "outputs": []
    },
    {
      "cell_type": "code",
      "source": [
        "word_cloud_frecventa = dtm.sum(axis=0)\n",
        "word_cloud_frecventa"
      ],
      "metadata": {
        "id": "02wXRD1rbFew"
      },
      "execution_count": null,
      "outputs": []
    },
    {
      "cell_type": "code",
      "source": [
        "wordcloud = WordCloud(background_color='white',\n",
        "                      max_words=100,\n",
        "                      colormap='Blues')\n",
        "wordcloud.generate_from_frequencies(word_cloud_frecventa)\n",
        "plt.imshow(wordcloud)\n",
        "plt.axis('off');"
      ],
      "metadata": {
        "id": "XBsgaFdXbh1J"
      },
      "execution_count": null,
      "outputs": []
    },
    {
      "cell_type": "markdown",
      "source": [
        "# Word Cloud Positive - Top 20"
      ],
      "metadata": {
        "id": "GmJgslLxdjoP"
      }
    },
    {
      "cell_type": "code",
      "source": [
        "reviews.shape"
      ],
      "metadata": {
        "collapsed": true,
        "id": "mk62lxjudugc"
      },
      "execution_count": null,
      "outputs": []
    },
    {
      "cell_type": "code",
      "source": [
        "dtm.shape"
      ],
      "metadata": {
        "collapsed": true,
        "id": "H7sg9md2dxo7"
      },
      "execution_count": null,
      "outputs": []
    },
    {
      "cell_type": "code",
      "source": [
        "# DTM doar cu recenziile pozitive\n",
        "dtm_pos = dtm[reviews['positive']==1].copy()\n",
        "dtm_pos.shape"
      ],
      "metadata": {
        "collapsed": true,
        "id": "TfoREevDc_gw"
      },
      "execution_count": null,
      "outputs": []
    },
    {
      "cell_type": "code",
      "source": [
        "# Frecventa cuvintelor din recenziile pozitive\n",
        "word_cloud_frecventa_pos = dtm_pos.sum(axis=0)\n",
        "word_cloud_frecventa_pos"
      ],
      "metadata": {
        "collapsed": true,
        "id": "IoSRd_hmeMaj"
      },
      "execution_count": null,
      "outputs": []
    },
    {
      "cell_type": "code",
      "source": [
        "wordcloud_pos = WordCloud(background_color='white',\n",
        "                      max_words=20,\n",
        "                      colormap='Greens')\n",
        "wordcloud_pos.generate_from_frequencies(word_cloud_frecventa_pos)\n",
        "plt.imshow(wordcloud_pos)\n",
        "plt.axis('off');"
      ],
      "metadata": {
        "id": "byOneK5lee9N"
      },
      "execution_count": null,
      "outputs": []
    },
    {
      "cell_type": "code",
      "source": [
        "wordcloud_pos.words_"
      ],
      "metadata": {
        "id": "yjN9cerge2JR"
      },
      "execution_count": null,
      "outputs": []
    },
    {
      "cell_type": "markdown",
      "source": [
        "Tema 1 (10% din nota finala)\n",
        "*   Creati un wordcloud pentru top 20 de cuvinte din recenziile negative\n",
        "*   File - Download - Download .py\n",
        "*   Deadline: 12 Mar\n",
        "\n"
      ],
      "metadata": {
        "id": "SB2htJsdfoIP"
      }
    },
    {
      "cell_type": "markdown",
      "source": [
        "# Frecventa Cuvintelor"
      ],
      "metadata": {
        "id": "4Ms2pl4DgdsH"
      }
    },
    {
      "cell_type": "code",
      "source": [
        "type(word_cloud_frecventa)"
      ],
      "metadata": {
        "id": "twFvnkYBfdgn"
      },
      "execution_count": null,
      "outputs": []
    },
    {
      "cell_type": "code",
      "source": [
        "frecventa_cuvinte = pd.DataFrame(word_cloud_frecventa,\n",
        "                                 columns=['Frecventa']).reset_index()\n",
        "frecventa_cuvinte.head(2)"
      ],
      "metadata": {
        "id": "zfvNa5dJgnZr"
      },
      "execution_count": null,
      "outputs": []
    },
    {
      "cell_type": "code",
      "source": [
        "top10 = frecventa_cuvinte.sort_values(by='Frecventa', \n",
        "                                      ascending=False).head(10)\n",
        "top10"
      ],
      "metadata": {
        "id": "uOnRJ3-wg7Vj"
      },
      "execution_count": null,
      "outputs": []
    },
    {
      "cell_type": "code",
      "source": [
        "plt.barh(y=top10['index'],\n",
        "         width=top10['Frecventa'])\n",
        "plt.title('Top 10 Cuvinte din toate recenziile')\n",
        "plt.xlabel('Frecventa')\n",
        "plt.ylabel('Cuvant')\n",
        "plt.show()"
      ],
      "metadata": {
        "id": "X0Ftf9jehcPD"
      },
      "execution_count": null,
      "outputs": []
    },
    {
      "cell_type": "markdown",
      "source": [
        "# Lungimea cuvantului"
      ],
      "metadata": {
        "id": "5ByNVpS7iTKn"
      }
    },
    {
      "cell_type": "code",
      "source": [
        "frecventa_cuvinte['lungime_cuvant'] = frecventa_cuvinte['index'].apply(len)\n",
        "frecventa_cuvinte.head()"
      ],
      "metadata": {
        "id": "NWg4tcHliIMQ"
      },
      "execution_count": null,
      "outputs": []
    },
    {
      "cell_type": "code",
      "source": [
        "frecventa_cuvinte['lungime_cuvant'].describe()"
      ],
      "metadata": {
        "id": "BNQb9GoBiW4Y"
      },
      "execution_count": null,
      "outputs": []
    },
    {
      "cell_type": "code",
      "source": [
        "frecventa_cuvinte[frecventa_cuvinte['lungime_cuvant']>=15]"
      ],
      "metadata": {
        "id": "2KRJ_uWgircu"
      },
      "execution_count": null,
      "outputs": []
    },
    {
      "cell_type": "code",
      "source": [
        "frecventa_cuvinte['Frecventa'].describe()"
      ],
      "metadata": {
        "id": "LxgH2FSnjLC-"
      },
      "execution_count": null,
      "outputs": []
    },
    {
      "cell_type": "code",
      "source": [
        "frecventa_cuvinte[frecventa_cuvinte['Frecventa']>=5000]"
      ],
      "metadata": {
        "id": "mlo-D7vsjR_G"
      },
      "execution_count": null,
      "outputs": []
    },
    {
      "cell_type": "markdown",
      "source": [
        "# Diversitate Lexicala: nr. de cuvinte unice pentru fiecare document"
      ],
      "metadata": {
        "id": "tAZO7rgui9kD"
      }
    },
    {
      "cell_type": "code",
      "source": [
        "dtm.head(1)"
      ],
      "metadata": {
        "id": "TeByBbrRi5M_"
      },
      "execution_count": null,
      "outputs": []
    },
    {
      "cell_type": "code",
      "source": [
        "lexical = pd.DataFrame(np.count_nonzero(dtm, axis=1),\n",
        "                       columns=['Cuvinte Unice'])\n",
        "lexical.head(2)"
      ],
      "metadata": {
        "id": "aMQZPn98jms3"
      },
      "execution_count": null,
      "outputs": []
    },
    {
      "cell_type": "code",
      "source": [
        "lexical['Cuvinte Totale'] = dtm.sum(axis=1)\n",
        "lexical.head(2)"
      ],
      "metadata": {
        "id": "53nxFZQ8j0gB"
      },
      "execution_count": null,
      "outputs": []
    },
    {
      "cell_type": "code",
      "source": [
        "reviews['text_prep_lim'].iloc[1]"
      ],
      "metadata": {
        "id": "YQh0SV5BkkUx"
      },
      "execution_count": null,
      "outputs": []
    },
    {
      "cell_type": "code",
      "source": [
        "lexical.describe()"
      ],
      "metadata": {
        "id": "j7FaLIufkrw-"
      },
      "execution_count": null,
      "outputs": []
    },
    {
      "cell_type": "code",
      "source": [
        "lexical['positive'] = reviews['positive'].copy()\n",
        "lexical.head(2)"
      ],
      "metadata": {
        "id": "ckT8VIOgk8SQ"
      },
      "execution_count": null,
      "outputs": []
    },
    {
      "cell_type": "code",
      "source": [
        "lexical.groupby('positive').mean()"
      ],
      "metadata": {
        "id": "oXlEKuOulOaJ"
      },
      "execution_count": null,
      "outputs": []
    },
    {
      "cell_type": "markdown",
      "source": [
        "# Densitate Lexicala: nr. de cuvinte unice / totale"
      ],
      "metadata": {
        "id": "mJdDRrmVloDF"
      }
    },
    {
      "cell_type": "code",
      "source": [
        "lexical['densitate'] = lexical['Cuvinte Unice'] / lexical['Cuvinte Totale']\n",
        "lexical.head(2)"
      ],
      "metadata": {
        "id": "W1-X_9p-lUMQ"
      },
      "execution_count": null,
      "outputs": []
    },
    {
      "cell_type": "code",
      "source": [
        "lexical.groupby('positive').mean()"
      ],
      "metadata": {
        "id": "IiMwtTJll7ym"
      },
      "execution_count": null,
      "outputs": []
    }
  ]
}