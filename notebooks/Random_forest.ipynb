{
 "cells": [
  {
   "cell_type": "code",
   "execution_count": null,
   "id": "71d096d7-88bb-4b2e-9c4b-4ffc0a517a20",
   "metadata": {
    "tags": []
   },
   "outputs": [],
   "source": [
    "import pandas as pd\n",
    "import matplotlib.pyplot as plt\n",
    "import seaborn as sns\n",
    "\n",
    "from sklearn.model_selection import train_test_split, GridSearchCV\n",
    "from sklearn.ensemble import RandomForestClassifier\n",
    "from sklearn.metrics import classification_report"
   ]
  },
  {
   "cell_type": "markdown",
   "id": "eeff64a9-48aa-4fb0-b3e2-0d95d004427e",
   "metadata": {},
   "source": [
    "# Citirea datelor"
   ]
  },
  {
   "cell_type": "code",
   "execution_count": null,
   "id": "800cf5b2-f7d7-4ecb-8643-047881c94811",
   "metadata": {
    "tags": []
   },
   "outputs": [],
   "source": [
    "url = 'https://github.com/berinde/curs-analiza-datelor-complexe/blob/main/data/input/3.input_data_prepped_bow.csv?raw=True'\n",
    "reviews = pd.read_csv(url)\n",
    "reviews.head(2)"
   ]
  },
  {
   "cell_type": "code",
   "execution_count": null,
   "id": "0d292570-2c87-47fe-ae9b-a242d4d5af13",
   "metadata": {
    "tags": []
   },
   "outputs": [],
   "source": [
    "reviews.shape"
   ]
  },
  {
   "cell_type": "code",
   "execution_count": null,
   "id": "3eac25db-a715-4b4a-8051-78bf9c2d7fb0",
   "metadata": {
    "tags": []
   },
   "outputs": [],
   "source": [
    "url = 'https://github.com/berinde/curs-analiza-datelor-complexe/blob/main/data/input/dtm_1_bow.parquet?raw=True'\n",
    "dtm_bow = pd.read_parquet(url)"
   ]
  },
  {
   "cell_type": "code",
   "execution_count": null,
   "id": "158d22db-68da-4028-a4ac-1fe862514fa0",
   "metadata": {
    "tags": []
   },
   "outputs": [],
   "source": [
    "dtm_bow.shape"
   ]
  },
  {
   "cell_type": "markdown",
   "id": "da6128a2-c916-4411-a433-f072b7a373e8",
   "metadata": {
    "tags": []
   },
   "source": [
    "# Train test split"
   ]
  },
  {
   "cell_type": "code",
   "execution_count": null,
   "id": "bfcff4b8-09bf-42b8-96b7-b9c01f4a7e19",
   "metadata": {
    "tags": []
   },
   "outputs": [],
   "source": [
    "X_train_bow, X_test_bow, y_train_bow, y_test_bow = train_test_split(\n",
    "    dtm_bow,\n",
    "    reviews['positive'],\n",
    "    train_size=0.8,\n",
    "    random_state=42\n",
    "    )"
   ]
  },
  {
   "cell_type": "code",
   "execution_count": null,
   "id": "a3e684ec-2797-4caa-b8f2-8cf55377ae92",
   "metadata": {
    "tags": []
   },
   "outputs": [],
   "source": [
    "print(len(X_train_bow), len(X_test_bow), len(y_train_bow), len(y_test_bow))"
   ]
  },
  {
   "cell_type": "markdown",
   "id": "9aef24f1-467c-498b-b3b1-b644592cd761",
   "metadata": {},
   "source": [
    "# Model"
   ]
  },
  {
   "cell_type": "code",
   "execution_count": null,
   "id": "b383f572-1bd9-44ba-ab59-53826cd5dd99",
   "metadata": {
    "tags": []
   },
   "outputs": [],
   "source": [
    "#initializarea obiectului\n",
    "classifier_rf = RandomForestClassifier(random_state=42, n_jobs=10, max_depth=5,\n",
    "                                       n_estimators=100, oob_score=True)\n"
   ]
  },
  {
   "cell_type": "code",
   "execution_count": null,
   "id": "067b69e6-e8d5-4c38-bc19-da9613bb7a6a",
   "metadata": {
    "tags": []
   },
   "outputs": [],
   "source": [
    "#training\n",
    "classifier_rf.fit(X_train_bow, y_train_bow)"
   ]
  },
  {
   "cell_type": "markdown",
   "id": "c8b1e78e-2591-4d2b-b084-5c149f2fddff",
   "metadata": {},
   "source": [
    "https://scikit-learn.org/stable/modules/generated/sklearn.ensemble.RandomForestClassifier.html"
   ]
  },
  {
   "cell_type": "code",
   "execution_count": null,
   "id": "92e0ef8b-8e54-4f4f-a598-7a21feaed4c3",
   "metadata": {
    "tags": []
   },
   "outputs": [],
   "source": [
    "#generate predeictions\n",
    "y_test_bow_preds = classifier_rf.predict(X_test_bow)"
   ]
  },
  {
   "cell_type": "code",
   "execution_count": null,
   "id": "94de3f63-a478-4076-b5f1-3cacdf9b3739",
   "metadata": {
    "tags": []
   },
   "outputs": [],
   "source": [
    "y_test_bow_preds"
   ]
  },
  {
   "cell_type": "code",
   "execution_count": null,
   "id": "224537ef-5391-4de1-8ffd-4423def355d2",
   "metadata": {
    "tags": []
   },
   "outputs": [],
   "source": [
    "print('Classification Report pe setul de test\\n',\n",
    "      classification_report(y_test_bow, y_test_bow_preds)\n",
    "      )"
   ]
  },
  {
   "cell_type": "markdown",
   "id": "a3335cc5-5d2e-40f9-9865-ae88b4c2c1a9",
   "metadata": {},
   "source": [
    "## Grid Search"
   ]
  },
  {
   "cell_type": "code",
   "execution_count": null,
   "id": "07149cb6-d921-47f3-971b-2a3da47798eb",
   "metadata": {
    "tags": []
   },
   "outputs": [],
   "source": [
    "rf = RandomForestClassifier(random_state=42, n_jobs=-1)\n",
    "\n",
    "params = {\n",
    "    'max_depth': [5,10,20],\n",
    "    'min_samples_leaf': [50,100,200],\n",
    "    'n_estimators': [30,50,100]\n",
    "}\n",
    "\n",
    "\n",
    "# Instantiate the grid search model\n",
    "grid_search = GridSearchCV(estimator=rf,\n",
    "                           param_grid=params,\n",
    "                           cv = 4,\n",
    "                           n_jobs=-1, verbose=1, scoring=\"accuracy\")\n",
    "\n",
    "grid_search.fit(X_train_bow, y_train_bow)"
   ]
  },
  {
   "cell_type": "code",
   "execution_count": null,
   "id": "e0fb2d23-c70b-44a4-851f-6fd07e3b97af",
   "metadata": {
    "tags": []
   },
   "outputs": [],
   "source": [
    "grid_search.best_score_"
   ]
  },
  {
   "cell_type": "code",
   "execution_count": null,
   "id": "bfd4caeb-dcc5-4d32-b12b-3b70e17c8334",
   "metadata": {
    "tags": []
   },
   "outputs": [],
   "source": [
    "rf_best = grid_search.best_estimator_\n",
    "rf_best"
   ]
  },
  {
   "cell_type": "code",
   "execution_count": null,
   "id": "e98d5ea5-2ad4-41d7-a6a0-f9410e409b3a",
   "metadata": {
    "tags": []
   },
   "outputs": [],
   "source": [
    "#generate predeictions\n",
    "y_test_bow_preds_grid = rf_best.predict(X_test_bow)"
   ]
  },
  {
   "cell_type": "code",
   "execution_count": null,
   "id": "0e828ee2-e973-4421-8e01-4f0ceb8b0c75",
   "metadata": {
    "tags": []
   },
   "outputs": [],
   "source": [
    "print('Classification Report pe setul de test\\n',\n",
    "      classification_report(y_test_bow, y_test_bow_preds_grid)\n",
    "      )"
   ]
  }
 ],
 "metadata": {
  "kernelspec": {
   "display_name": "Python 3 (ipykernel)",
   "language": "python",
   "name": "python3"
  },
  "language_info": {
   "codemirror_mode": {
    "name": "ipython",
    "version": 3
   },
   "file_extension": ".py",
   "mimetype": "text/x-python",
   "name": "python",
   "nbconvert_exporter": "python",
   "pygments_lexer": "ipython3",
   "version": "3.11.5"
  }
 },
 "nbformat": 4,
 "nbformat_minor": 5
}
