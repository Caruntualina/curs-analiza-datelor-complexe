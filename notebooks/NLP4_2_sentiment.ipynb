{
 "cells": [
  {
   "cell_type": "markdown",
   "id": "824fa143-f830-4777-aab1-c9adf1f2981d",
   "metadata": {
    "tags": []
   },
   "source": [
    "# Importarea librariilor"
   ]
  },
  {
   "cell_type": "code",
   "execution_count": null,
   "id": "15041fd1-dc1c-48a5-91ac-29312558f085",
   "metadata": {
    "tags": []
   },
   "outputs": [],
   "source": [
    "import json\n",
    "import tensorflow as tf\n",
    "import json,urllib.request\n",
    "import pandas as pd\n",
    "import numpy as np\n",
    "\n",
    "from tensorflow.keras.preprocessing.text import Tokenizer\n",
    "from tensorflow.keras.preprocessing.sequence import pad_sequences"
   ]
  },
  {
   "cell_type": "markdown",
   "id": "7c41de7b-ac55-4f2f-aacc-235a85249c9c",
   "metadata": {},
   "source": [
    "# Citirea datelor"
   ]
  },
  {
   "cell_type": "markdown",
   "id": "014a6aca-6de3-4a89-b1d4-48f6cc1b56b0",
   "metadata": {
    "tags": []
   },
   "source": [
    "## Google data"
   ]
  },
  {
   "cell_type": "code",
   "execution_count": null,
   "id": "ea72498b-4442-4fc7-9dec-11b1cc75952a",
   "metadata": {
    "tags": []
   },
   "outputs": [],
   "source": [
    "# # parametrii pentru padding, tokenizer si train test split\n",
    "# vocab_size = 10000\n",
    "# embedding_dim = 16\n",
    "# max_length = 100\n",
    "# trunc_type='post'\n",
    "# padding_type='post'\n",
    "# oov_tok = \"<OOV>\"\n",
    "# training_size = 20000"
   ]
  },
  {
   "cell_type": "code",
   "execution_count": null,
   "id": "00ed1a99-e9cd-400c-b1d8-3b553426de18",
   "metadata": {
    "tags": []
   },
   "outputs": [],
   "source": [
    "# data = urllib.request.urlopen(\"https://storage.googleapis.com/learning-datasets/sarcasm.json\").read()\n",
    "# datastore = json.loads(data)"
   ]
  },
  {
   "cell_type": "code",
   "execution_count": null,
   "id": "d7fd6932-3df7-4250-a1ab-70138d75ee51",
   "metadata": {
    "tags": []
   },
   "outputs": [],
   "source": [
    "# sentences = []\n",
    "# labels = []\n",
    "\n",
    "# for item in datastore:\n",
    "#     sentences.append(item['headline'])\n",
    "#     labels.append(item['is_sarcastic'])"
   ]
  },
  {
   "cell_type": "markdown",
   "id": "0832bcc1-e977-43e4-8983-b89be91b205a",
   "metadata": {},
   "source": [
    "## Rviews data"
   ]
  },
  {
   "cell_type": "code",
   "execution_count": null,
   "id": "80b73e97-af4c-45be-81fa-d6d1b7ecbe00",
   "metadata": {
    "tags": []
   },
   "outputs": [],
   "source": [
    "# parametrii pentru padding, tokenizer si train test split\n",
    "vocab_size = 10000\n",
    "embedding_dim = 16\n",
    "max_length = 100\n",
    "trunc_type='post'\n",
    "padding_type='post'\n",
    "oov_tok = \"<OOV>\"\n",
    "training_size = 7000"
   ]
  },
  {
   "cell_type": "code",
   "execution_count": null,
   "id": "39db48d6-2339-4066-ac95-80bb1976bb7f",
   "metadata": {
    "tags": []
   },
   "outputs": [],
   "source": [
    "url = 'https://github.com/berinde/curs-analiza-datelor-complexe/blob/main/data/input/1.input_data.csv?raw=True'\n",
    "reviews = pd.read_csv(url)\n",
    "print(reviews.shape)\n",
    "reviews.head(2)"
   ]
  },
  {
   "cell_type": "code",
   "execution_count": null,
   "id": "5a437758-bbce-4d28-8a62-b5c01186c752",
   "metadata": {
    "tags": []
   },
   "outputs": [],
   "source": [
    "# Excludem rating-urile de 3\n",
    "reviews = reviews[reviews['rating']!=3].reset_index(drop=True)\n",
    "print(reviews.shape)\n",
    "reviews.head(2)"
   ]
  },
  {
   "cell_type": "code",
   "execution_count": null,
   "id": "3307b0e5-98a4-41a9-92e9-187d7470224f",
   "metadata": {
    "tags": []
   },
   "outputs": [],
   "source": [
    "reviews['rating'].value_counts()"
   ]
  },
  {
   "cell_type": "code",
   "execution_count": null,
   "id": "f3092a6b-2dba-490e-894e-4ef84f903834",
   "metadata": {
    "tags": []
   },
   "outputs": [],
   "source": [
    "# Adaugam coloana 'positive'\n",
    "reviews['positive'] = np.where(reviews['rating']<3, 0, 1)\n",
    "reviews['positive'].value_counts()"
   ]
  },
  {
   "cell_type": "code",
   "execution_count": null,
   "id": "776dc9f8-9fc2-4fd0-bcaa-072c6e72d9f1",
   "metadata": {
    "tags": []
   },
   "outputs": [],
   "source": [
    "sentences = []\n",
    "labels = []\n",
    "\n",
    "sentences = reviews['text']\n",
    "labels = reviews['positive']"
   ]
  },
  {
   "cell_type": "markdown",
   "id": "bd225139-6647-4a92-bae0-36b6aad844e3",
   "metadata": {},
   "source": [
    "# Train test split"
   ]
  },
  {
   "cell_type": "code",
   "execution_count": null,
   "id": "9067b618-c8a7-4759-bfe9-23215c82599e",
   "metadata": {
    "tags": []
   },
   "outputs": [],
   "source": [
    "training_sentences = sentences[0:training_size]\n",
    "testing_sentences = sentences[training_size:]\n",
    "training_labels = labels[0:training_size]\n",
    "testing_labels = labels[training_size:]"
   ]
  },
  {
   "cell_type": "markdown",
   "id": "0c22be8f-f477-4896-b9f6-1b7b36308f99",
   "metadata": {},
   "source": [
    "# Tokenizer"
   ]
  },
  {
   "cell_type": "code",
   "execution_count": null,
   "id": "c1a9647d-ac53-4a4c-9c3a-aee424a6fbc9",
   "metadata": {
    "tags": []
   },
   "outputs": [],
   "source": [
    "tokenizer = Tokenizer(num_words=vocab_size, oov_token=oov_tok)\n",
    "tokenizer.fit_on_texts(training_sentences)\n",
    "\n",
    "word_index = tokenizer.word_index\n",
    "\n",
    "training_sequences = tokenizer.texts_to_sequences(training_sentences)\n",
    "training_padded = pad_sequences(training_sequences, maxlen=max_length, padding=padding_type, truncating=trunc_type)\n",
    "\n",
    "testing_sequences = tokenizer.texts_to_sequences(testing_sentences)\n",
    "testing_padded = pad_sequences(testing_sequences, maxlen=max_length, padding=padding_type, truncating=trunc_type)"
   ]
  },
  {
   "cell_type": "code",
   "execution_count": null,
   "id": "53091ca2-7f95-412c-9854-23d11eb388af",
   "metadata": {
    "tags": []
   },
   "outputs": [],
   "source": [
    "# Need this block to get it to work with TensorFlow 2.x\n",
    "training_padded = np.array(training_padded)\n",
    "training_labels = np.array(training_labels)\n",
    "testing_padded = np.array(testing_padded)\n",
    "testing_labels = np.array(testing_labels)"
   ]
  },
  {
   "cell_type": "markdown",
   "id": "9e1b2b0b-8f22-40af-b22b-f7916d5924ad",
   "metadata": {},
   "source": [
    "# Model"
   ]
  },
  {
   "cell_type": "code",
   "execution_count": null,
   "id": "bdb4eee9-16cc-4705-a73e-8a21f9905b7f",
   "metadata": {
    "tags": []
   },
   "outputs": [],
   "source": [
    "model = tf.keras.Sequential([\n",
    "    tf.keras.layers.Embedding(vocab_size, embedding_dim, input_length=max_length),\n",
    "    tf.keras.layers.GlobalAveragePooling1D(),\n",
    "    tf.keras.layers.Dense(24, activation='relu'),\n",
    "    tf.keras.layers.Dense(1, activation='sigmoid')\n",
    "])\n",
    "model.compile(loss='binary_crossentropy',optimizer='adam',metrics=['accuracy'])"
   ]
  },
  {
   "cell_type": "code",
   "execution_count": null,
   "id": "c7782c6b-9993-4fe9-8475-64bb842dcdba",
   "metadata": {
    "tags": []
   },
   "outputs": [],
   "source": [
    "model.summary()"
   ]
  },
  {
   "cell_type": "code",
   "execution_count": null,
   "id": "30c47bbe-695a-47e5-a44b-76195f5da2f4",
   "metadata": {
    "tags": []
   },
   "outputs": [],
   "source": [
    "num_epochs = 30\n",
    "history = model.fit(training_padded, training_labels, epochs=num_epochs, validation_data=(testing_padded, testing_labels), verbose=2)"
   ]
  },
  {
   "cell_type": "markdown",
   "id": "11b59e0f-9033-4231-a05e-4c2a5fca4f17",
   "metadata": {},
   "source": [
    "# Metrics"
   ]
  },
  {
   "cell_type": "code",
   "execution_count": null,
   "id": "a05f9266-995b-4791-9ca7-7111dc73ad9c",
   "metadata": {
    "tags": []
   },
   "outputs": [],
   "source": [
    "import matplotlib.pyplot as plt\n",
    "\n",
    "\n",
    "def plot_graphs(history, string):\n",
    "  plt.plot(history.history[string])\n",
    "  plt.plot(history.history['val_'+string])\n",
    "  plt.xlabel(\"Epochs\")\n",
    "  plt.ylabel(string)\n",
    "  plt.legend([string, 'val_'+string])\n",
    "  plt.show()\n",
    "  \n",
    "plot_graphs(history, \"accuracy\")\n",
    "plot_graphs(history, \"loss\")"
   ]
  },
  {
   "cell_type": "code",
   "execution_count": null,
   "id": "54b4d667-d4ae-4092-bbc8-ff990d604c68",
   "metadata": {
    "tags": []
   },
   "outputs": [],
   "source": [
    "reverse_word_index = dict([(value, key) for (key, value) in word_index.items()])\n",
    "\n",
    "def decode_sentence(text):\n",
    "    return ' '.join([reverse_word_index.get(i, '?') for i in text])\n",
    "\n",
    "print(decode_sentence(training_padded[0]))\n",
    "print(training_sentences[2])\n",
    "print(labels[2])"
   ]
  },
  {
   "cell_type": "code",
   "execution_count": null,
   "id": "36ee6129-688a-44bb-82bd-4a196598382e",
   "metadata": {
    "tags": []
   },
   "outputs": [],
   "source": [
    "e = model.layers[0]\n",
    "weights = e.get_weights()[0]\n",
    "print(weights.shape) # shape: (vocab_size, embedding_dim)"
   ]
  },
  {
   "cell_type": "markdown",
   "id": "1ce6730e-f90a-4f95-98d8-33a00d51977a",
   "metadata": {},
   "source": [
    "# Saving the model"
   ]
  },
  {
   "cell_type": "code",
   "execution_count": null,
   "id": "76fe569d-473e-4882-a85c-6ce0cae125b2",
   "metadata": {
    "tags": []
   },
   "outputs": [],
   "source": [
    "import io\n",
    "\n",
    "out_v = io.open('vecs.tsv', 'w', encoding='utf-8')\n",
    "out_m = io.open('meta.tsv', 'w', encoding='utf-8')\n",
    "for word_num in range(1, vocab_size):\n",
    "  word = reverse_word_index[word_num]\n",
    "  embeddings = weights[word_num]\n",
    "  out_m.write(word + \"\\n\")\n",
    "  out_v.write('\\t'.join([str(x) for x in embeddings]) + \"\\n\")\n",
    "out_v.close()\n",
    "out_m.close()"
   ]
  },
  {
   "cell_type": "markdown",
   "id": "44f55e2a-6a7b-4969-9e62-3ce72442a311",
   "metadata": {},
   "source": [
    "# Predict"
   ]
  },
  {
   "cell_type": "code",
   "execution_count": null,
   "id": "4461e020-640b-42e6-bac9-e5334dd7f5e1",
   "metadata": {
    "tags": []
   },
   "outputs": [],
   "source": [
    "sentence = [\"this is not acceptable\", \"the food was very good\"]\n",
    "sequences = tokenizer.texts_to_sequences(sentence)\n",
    "padded = pad_sequences(sequences, maxlen=max_length, padding=padding_type, truncating=trunc_type)\n",
    "print(model.predict(padded))"
   ]
  },
  {
   "cell_type": "code",
   "execution_count": null,
   "id": "c539e7b0-d44d-4840-a824-c0439b112427",
   "metadata": {
    "tags": []
   },
   "outputs": [],
   "source": [
    "sentence = [\"granny starting to fear spiders in the garden might be real\", \"game of thrones season finale showing this sunday night\"]\n",
    "sequences = tokenizer.texts_to_sequences(sentence)\n",
    "padded = pad_sequences(sequences, maxlen=max_length, padding=padding_type, truncating=trunc_type)\n",
    "print(model.predict(padded))"
   ]
  },
  {
   "cell_type": "code",
   "execution_count": null,
   "id": "217f1dd4-c44e-4a40-9eb4-1db0ffdf3f97",
   "metadata": {},
   "outputs": [],
   "source": []
  }
 ],
 "metadata": {
  "kernelspec": {
   "display_name": "nlp_py_310",
   "language": "python",
   "name": "nlp_py_310"
  },
  "language_info": {
   "codemirror_mode": {
    "name": "ipython",
    "version": 3
   },
   "file_extension": ".py",
   "mimetype": "text/x-python",
   "name": "python",
   "nbconvert_exporter": "python",
   "pygments_lexer": "ipython3",
   "version": "3.10.13"
  }
 },
 "nbformat": 4,
 "nbformat_minor": 5
}
