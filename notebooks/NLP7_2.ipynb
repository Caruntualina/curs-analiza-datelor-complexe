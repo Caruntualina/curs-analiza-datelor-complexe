{
  "nbformat": 4,
  "nbformat_minor": 0,
  "metadata": {
    "colab": {
      "provenance": []
    },
    "kernelspec": {
      "name": "python3",
      "display_name": "Python 3"
    },
    "language_info": {
      "name": "python"
    },
    "accelerator": "GPU",
    "gpuClass": "standard"
  },
  "cells": [
    {
      "cell_type": "markdown",
      "source": [
        "# Importing Libraries"
      ],
      "metadata": {
        "id": "KQRrOVy6w-rr"
      }
    },
    {
      "cell_type": "code",
      "execution_count": null,
      "metadata": {
        "id": "MdW5xEdxwxB9"
      },
      "outputs": [],
      "source": [
        "!pip install ktrain"
      ]
    },
    {
      "cell_type": "code",
      "source": [
        "import pandas as pd\n",
        "import numpy as np\n",
        "\n",
        "# Impartirea setului de date\n",
        "from sklearn.model_selection import train_test_split\n",
        "\n",
        "import ktrain\n",
        "from ktrain import text"
      ],
      "metadata": {
        "id": "iR3rgQlD0IAv"
      },
      "execution_count": null,
      "outputs": []
    },
    {
      "cell_type": "markdown",
      "source": [
        "# Reading Dataset"
      ],
      "metadata": {
        "id": "ybRTeCPD0pug"
      }
    },
    {
      "cell_type": "code",
      "source": [
        "url = 'https://raw.githubusercontent.com/DanielaManate/SentimentAnalysis-TopicModeling/master/Data/Input/3.input_data_prepped_bow.csv'\n",
        "reviews = pd.read_csv(url)\n",
        "reviews.head(2)"
      ],
      "metadata": {
        "id": "_-hjWxCR0jUh"
      },
      "execution_count": null,
      "outputs": []
    },
    {
      "cell_type": "markdown",
      "source": [
        "# Train Test Split"
      ],
      "metadata": {
        "id": "i63HKEmZ08C9"
      }
    },
    {
      "cell_type": "code",
      "source": [
        "data_train, data_test, _, _ = train_test_split(\n",
        "    reviews[['text', 'positive']],\n",
        "    reviews['positive'],\n",
        "    train_size=0.8,\n",
        "    random_state=42)"
      ],
      "metadata": {
        "id": "nrMAsKRA0xdz"
      },
      "execution_count": null,
      "outputs": []
    },
    {
      "cell_type": "code",
      "source": [
        "print(data_train.shape, data_test.shape)"
      ],
      "metadata": {
        "id": "27zqtARZ2VA0"
      },
      "execution_count": null,
      "outputs": []
    },
    {
      "cell_type": "code",
      "source": [
        "data_train.head(2)"
      ],
      "metadata": {
        "id": "ZHOhhgMo2YZy"
      },
      "execution_count": null,
      "outputs": []
    },
    {
      "cell_type": "markdown",
      "source": [
        "# Pre-procesarea datelor cu ktrain\n",
        "https://amaiya.github.io/ktrain/text/index.html"
      ],
      "metadata": {
        "id": "c8VIQxfO2_mf"
      }
    },
    {
      "cell_type": "code",
      "source": [
        "(X_train, y_train), (X_test, y_test), preprocesor = text.texts_from_df(\n",
        "    train_df=data_train,\n",
        "    val_df=data_test,\n",
        "    text_column='text',\n",
        "    label_columns='positive',\n",
        "    maxlen=128, #numarul maxim de cuvinte considerate dintr-o recenzie\n",
        "    preprocess_mode='bert')"
      ],
      "metadata": {
        "id": "F0SFQxbd2end"
      },
      "execution_count": null,
      "outputs": []
    },
    {
      "cell_type": "code",
      "source": [
        "X_train"
      ],
      "metadata": {
        "id": "1NK-MXLM5BO9"
      },
      "execution_count": null,
      "outputs": []
    },
    {
      "cell_type": "code",
      "source": [
        "data_train['text'].iloc[0]"
      ],
      "metadata": {
        "id": "7DWNud965iyW"
      },
      "execution_count": null,
      "outputs": []
    },
    {
      "cell_type": "code",
      "source": [
        "print('Input IDs pentru a doua recenzie', X_train[0][1])"
      ],
      "metadata": {
        "id": "gJk5xUlP6mJf"
      },
      "execution_count": null,
      "outputs": []
    },
    {
      "cell_type": "code",
      "source": [
        "print('Input IDs shape:', X_train[0].shape)"
      ],
      "metadata": {
        "id": "gXqij9dF7VNV"
      },
      "execution_count": null,
      "outputs": []
    },
    {
      "cell_type": "markdown",
      "source": [
        "# Model Building"
      ],
      "metadata": {
        "id": "Mz-3T7Ug8KnK"
      }
    },
    {
      "cell_type": "code",
      "source": [
        "bert = text.text_classifier(name='bert',\n",
        "                            train_data=(X_train, y_train),\n",
        "                            preproc=preprocesor)"
      ],
      "metadata": {
        "id": "fFPlZZHX8DHl"
      },
      "execution_count": null,
      "outputs": []
    },
    {
      "cell_type": "markdown",
      "source": [
        "Learning Rate = pasul de invatare"
      ],
      "metadata": {
        "id": "r67Y_pm79IRk"
      }
    },
    {
      "cell_type": "code",
      "source": [
        "learner = ktrain.get_learner(model=bert,\n",
        "                             train_data=(X_train, y_train),\n",
        "                             val_data=(X_test, y_test))\n",
        "# learner.lr_find() # gasirea celui mai optim learning rate"
      ],
      "metadata": {
        "id": "wlHuLn-D8yX0"
      },
      "execution_count": null,
      "outputs": []
    },
    {
      "cell_type": "code",
      "source": [
        "# 0.00003 - 3e-5"
      ],
      "metadata": {
        "id": "TBq2suHD-Vaw"
      },
      "execution_count": null,
      "outputs": []
    },
    {
      "cell_type": "code",
      "source": [
        "learner.fit_onecycle(lr=3e-5, epochs=2)"
      ],
      "metadata": {
        "id": "OlaoMB8a-cXz"
      },
      "execution_count": null,
      "outputs": []
    },
    {
      "cell_type": "code",
      "source": [
        "# Classification Report pe setul de test\n",
        "learner.validate()"
      ],
      "metadata": {
        "id": "fyf3pwoj_ccI"
      },
      "execution_count": null,
      "outputs": []
    },
    {
      "cell_type": "markdown",
      "source": [
        "# Exemplu review care a fost clasificat gresit"
      ],
      "metadata": {
        "id": "TWmRgxjEEWZW"
      }
    },
    {
      "cell_type": "code",
      "source": [
        "learner.view_top_losses(n=1, preproc=preprocesor)"
      ],
      "metadata": {
        "id": "GprlWHccDfJJ"
      },
      "execution_count": null,
      "outputs": []
    },
    {
      "cell_type": "code",
      "source": [
        "data_test['text'].iloc[894]"
      ],
      "metadata": {
        "id": "BsoGQQI6Evdu"
      },
      "execution_count": null,
      "outputs": []
    },
    {
      "cell_type": "markdown",
      "source": [
        "# Clasificarea altor recenzii"
      ],
      "metadata": {
        "id": "2bZ-Og7HHVbU"
      }
    },
    {
      "cell_type": "code",
      "source": [
        "pred = ktrain.get_predictor(learner.model,\n",
        "                            preproc=preprocesor)"
      ],
      "metadata": {
        "id": "DLZELm8LFJom"
      },
      "execution_count": null,
      "outputs": []
    },
    {
      "cell_type": "code",
      "source": [
        "data = ['The food was great',\n",
        "        'This was the best pizza in town',\n",
        "        \"Worst pizza I've ever eaten\",\n",
        "        'Horrible service in this restaurant',\n",
        "        \"The service at this restaurant was ok\"\n",
        "        ]"
      ],
      "metadata": {
        "id": "cNk7oMoNHdOZ"
      },
      "execution_count": null,
      "outputs": []
    },
    {
      "cell_type": "code",
      "source": [
        "pred.predict(data)"
      ],
      "metadata": {
        "id": "wlsBtpe3Hy3u"
      },
      "execution_count": null,
      "outputs": []
    }
  ]
}