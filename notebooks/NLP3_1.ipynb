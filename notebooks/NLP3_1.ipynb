{
 "cells": [
  {
   "cell_type": "code",
   "execution_count": null,
   "metadata": {
    "id": "LyIBrZc34lut",
    "tags": []
   },
   "outputs": [],
   "source": [
    "import pandas as pd\n",
    "import numpy as np\n",
    "\n",
    "# Pentru reprezentarea TF-IDF\n",
    "from sklearn.feature_extraction.text import TfidfVectorizer"
   ]
  },
  {
   "cell_type": "markdown",
   "metadata": {
    "id": "XnPATOUa5IsY"
   },
   "source": [
    "# Citirea Datelor"
   ]
  },
  {
   "cell_type": "code",
   "execution_count": null,
   "metadata": {
    "tags": []
   },
   "outputs": [],
   "source": [
    "url = 'https://github.com/berinde/curs-analiza-datelor-complexe/blob/main/data/input/3.input_data_prepped_bow.csv?raw=True'\n",
    "reviews = pd.read_csv(url)\n",
    "reviews.head(2)"
   ]
  },
  {
   "cell_type": "code",
   "execution_count": null,
   "metadata": {
    "id": "YLNGQtOJ6nFd"
   },
   "outputs": [],
   "source": [
    "# Numarul de valori nule pentru fiecare coloana\n",
    "reviews.isnull().sum()"
   ]
  },
  {
   "cell_type": "code",
   "execution_count": null,
   "metadata": {
    "id": "Y4b5wOO45ZM7"
   },
   "outputs": [],
   "source": [
    "# Convertim in string\n",
    "reviews['text_prep'] = reviews['text_prep'].astype(str)\n",
    "reviews['text_prep_lim'] = reviews['text_prep_lim'].astype(str)"
   ]
  },
  {
   "cell_type": "code",
   "execution_count": null,
   "metadata": {
    "id": "O4xXq6JD64gs"
   },
   "outputs": [],
   "source": [
    "reviews.isnull().sum()"
   ]
  },
  {
   "cell_type": "markdown",
   "metadata": {
    "id": "Jw3X8Ybz7H8U"
   },
   "source": [
    "# TF-IDF (term frequency - inverse document frequency)\n",
    "*   TF-IDF = TF*IDF\n",
    "*   TF = # de aparitii ale cuv. X in doc Y / # tot. de cuv. in doc Y\n",
    "*   IDF = ln(# total de doc / # de doc. care contin Y)\n",
    "\n",
    "\n",
    "Cu cat cuvantul este mai rar, cu atat TF-IDF este mai mare\n",
    "\n",
    "\n"
   ]
  },
  {
   "cell_type": "code",
   "execution_count": null,
   "metadata": {
    "id": "qU9ZCxWC65sY"
   },
   "outputs": [],
   "source": [
    "# Vom considera doar top 6000 cuvinte\n",
    "vec = TfidfVectorizer(max_features=6000)\n",
    "\n",
    "tf_idf = vec.fit_transform(reviews['text_prep'])\n",
    "lista_cuvinte = vec.get_feature_names_out()\n",
    "\n",
    "dtm_tf_idf = pd.DataFrame(tf_idf.toarray(),\n",
    "                          columns=lista_cuvinte)\n",
    "dtm_tf_idf.head(2)"
   ]
  },
  {
   "cell_type": "code",
   "execution_count": null,
   "metadata": {
    "id": "u_S5gVBs8iR6"
   },
   "outputs": [],
   "source": [
    "dtm_tf_idf['order']"
   ]
  },
  {
   "cell_type": "code",
   "execution_count": null,
   "metadata": {
    "id": "ZhSvOI5J8t4X"
   },
   "outputs": [],
   "source": [
    "dtm_tf_idf['food']"
   ]
  },
  {
   "cell_type": "code",
   "execution_count": null,
   "metadata": {
    "id": "E_mshrKb88II"
   },
   "outputs": [],
   "source": [
    "reviews['text_prep'].iloc[0]"
   ]
  },
  {
   "cell_type": "code",
   "execution_count": null,
   "metadata": {
    "id": "G6A52wlt9N5O"
   },
   "outputs": [],
   "source": [
    "reviews['text_prep'].iloc[4]"
   ]
  }
 ],
 "metadata": {
  "colab": {
   "provenance": []
  },
  "kernelspec": {
   "display_name": "nlp_py_310",
   "language": "python",
   "name": "nlp_py_310"
  },
  "language_info": {
   "codemirror_mode": {
    "name": "ipython",
    "version": 3
   },
   "file_extension": ".py",
   "mimetype": "text/x-python",
   "name": "python",
   "nbconvert_exporter": "python",
   "pygments_lexer": "ipython3",
   "version": "3.10.13"
  }
 },
 "nbformat": 4,
 "nbformat_minor": 4
}
