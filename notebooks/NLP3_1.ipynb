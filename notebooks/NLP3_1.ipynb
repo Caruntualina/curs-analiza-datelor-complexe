{
  "nbformat": 4,
  "nbformat_minor": 0,
  "metadata": {
    "colab": {
      "provenance": []
    },
    "kernelspec": {
      "name": "python3",
      "display_name": "Python 3"
    },
    "language_info": {
      "name": "python"
    }
  },
  "cells": [
    {
      "cell_type": "code",
      "execution_count": null,
      "metadata": {
        "id": "LyIBrZc34lut"
      },
      "outputs": [],
      "source": [
        "import pandas as pd\n",
        "import numpy as np\n",
        "\n",
        "# Pentru reprezentarea TF-IDF\n",
        "from sklearn.feature_extraction.text import TfidfVectorizer"
      ]
    },
    {
      "cell_type": "markdown",
      "source": [
        "# Citirea Datelor"
      ],
      "metadata": {
        "id": "XnPATOUa5IsY"
      }
    },
    {
      "cell_type": "code",
      "source": [
        "url = 'https://raw.githubusercontent.com/DanielaManate/SentimentAnalysis-TopicModeling/master/Data/Input/3.input_data_prepped_bow.csv'\n",
        "reviews = pd.read_csv(url)\n",
        "reviews.head(2)"
      ],
      "metadata": {
        "id": "59e14r0P47u5"
      },
      "execution_count": null,
      "outputs": []
    },
    {
      "cell_type": "code",
      "source": [
        "# Numarul de valori nule pentru fiecare coloana\n",
        "reviews.isnull().sum()"
      ],
      "metadata": {
        "id": "YLNGQtOJ6nFd"
      },
      "execution_count": null,
      "outputs": []
    },
    {
      "cell_type": "code",
      "source": [
        "# Convertim in string\n",
        "reviews['text_prep'] = reviews['text_prep'].astype(str)\n",
        "reviews['text_prep_lim'] = reviews['text_prep_lim'].astype(str)"
      ],
      "metadata": {
        "id": "Y4b5wOO45ZM7"
      },
      "execution_count": null,
      "outputs": []
    },
    {
      "cell_type": "code",
      "source": [
        "reviews.isnull().sum()"
      ],
      "metadata": {
        "id": "O4xXq6JD64gs"
      },
      "execution_count": null,
      "outputs": []
    },
    {
      "cell_type": "markdown",
      "source": [
        "# TF-IDF (term frequency - inverse document frequency)\n",
        "*   TF-IDF = TF*IDF\n",
        "*   TF = # de aparitii ale cuv. X in doc Y / # tot. de cuv. in doc Y\n",
        "*   IDF = ln(# total de doc / # de doc. care contin Y)\n",
        "\n",
        "\n",
        "Cu cat cuvantul este mai rar, cu atat TF-IDF este mai mare\n",
        "\n",
        "\n"
      ],
      "metadata": {
        "id": "Jw3X8Ybz7H8U"
      }
    },
    {
      "cell_type": "code",
      "source": [
        "# Vom considera doar top 6000 cuvinte\n",
        "vec = TfidfVectorizer(max_features=6000)\n",
        "\n",
        "tf_idf = vec.fit_transform(reviews['text_prep'])\n",
        "lista_cuvinte = vec.get_feature_names_out()\n",
        "\n",
        "dtm_tf_idf = pd.DataFrame(tf_idf.toarray(),\n",
        "                          columns=lista_cuvinte)\n",
        "dtm_tf_idf.head(2)"
      ],
      "metadata": {
        "id": "qU9ZCxWC65sY"
      },
      "execution_count": null,
      "outputs": []
    },
    {
      "cell_type": "code",
      "source": [
        "dtm_tf_idf['order']"
      ],
      "metadata": {
        "id": "u_S5gVBs8iR6"
      },
      "execution_count": null,
      "outputs": []
    },
    {
      "cell_type": "code",
      "source": [
        "dtm_tf_idf['food']"
      ],
      "metadata": {
        "id": "ZhSvOI5J8t4X"
      },
      "execution_count": null,
      "outputs": []
    },
    {
      "cell_type": "code",
      "source": [
        "reviews['text_prep'].iloc[0]"
      ],
      "metadata": {
        "id": "E_mshrKb88II"
      },
      "execution_count": null,
      "outputs": []
    },
    {
      "cell_type": "code",
      "source": [
        "reviews['text_prep'].iloc[4]"
      ],
      "metadata": {
        "id": "G6A52wlt9N5O"
      },
      "execution_count": null,
      "outputs": []
    }
  ]
}