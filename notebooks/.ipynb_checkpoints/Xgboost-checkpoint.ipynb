{
 "cells": [
  {
   "cell_type": "code",
   "execution_count": null,
   "id": "fdf0c71c-1be1-47d2-a0c4-89c06473b4c4",
   "metadata": {
    "tags": []
   },
   "outputs": [],
   "source": [
    "!pip install xgboost\n",
    "!pip install fastparquet"
   ]
  },
  {
   "cell_type": "code",
   "execution_count": null,
   "id": "71d096d7-88bb-4b2e-9c4b-4ffc0a517a20",
   "metadata": {
    "tags": []
   },
   "outputs": [],
   "source": [
    "import pandas as pd\n",
    "import numpy as no\n",
    "import matplotlib.pyplot as plt\n",
    "import fastparquet\n",
    "\n",
    "\n",
    "from xgboost import XGBClassifier\n",
    "from sklearn.model_selection import train_test_split, GridSearchCV\n",
    "from sklearn.preprocessing import StandardScaler\n",
    "from sklearn.ensemble import RandomForestClassifier\n",
    "from sklearn.metrics import classification_report, accuracy_score"
   ]
  },
  {
   "cell_type": "markdown",
   "id": "eeff64a9-48aa-4fb0-b3e2-0d95d004427e",
   "metadata": {},
   "source": [
    "# Citirea datelor"
   ]
  },
  {
   "cell_type": "code",
   "execution_count": null,
   "id": "800cf5b2-f7d7-4ecb-8643-047881c94811",
   "metadata": {
    "tags": []
   },
   "outputs": [],
   "source": [
    "url = 'https://github.com/berinde/curs-analiza-datelor-complexe/blob/main/data/input/3.input_data_prepped_bow.csv?raw=True'\n",
    "reviews = pd.read_csv(url)\n",
    "reviews.head(2)"
   ]
  },
  {
   "cell_type": "code",
   "execution_count": null,
   "id": "0d292570-2c87-47fe-ae9b-a242d4d5af13",
   "metadata": {
    "tags": []
   },
   "outputs": [],
   "source": [
    "reviews.shape"
   ]
  },
  {
   "cell_type": "code",
   "execution_count": null,
   "id": "3eac25db-a715-4b4a-8051-78bf9c2d7fb0",
   "metadata": {
    "tags": []
   },
   "outputs": [],
   "source": [
    "url = 'https://github.com/berinde/curs-analiza-datelor-complexe/blob/main/data/input/dtm_1_bow.parquet?raw=True'\n",
    "dtm_bow = pd.read_parquet(url, engine='fastparquet')"
   ]
  },
  {
   "cell_type": "code",
   "execution_count": null,
   "id": "158d22db-68da-4028-a4ac-1fe862514fa0",
   "metadata": {
    "tags": []
   },
   "outputs": [],
   "source": [
    "dtm_bow.shape"
   ]
  },
  {
   "cell_type": "markdown",
   "id": "da6128a2-c916-4411-a433-f072b7a373e8",
   "metadata": {
    "tags": []
   },
   "source": [
    "# Train test split"
   ]
  },
  {
   "cell_type": "code",
   "execution_count": null,
   "id": "bfcff4b8-09bf-42b8-96b7-b9c01f4a7e19",
   "metadata": {
    "tags": []
   },
   "outputs": [],
   "source": [
    "X_train_bow, X_test_bow, y_train_bow, y_test_bow = train_test_split(\n",
    "    dtm_bow,\n",
    "    reviews['positive'],\n",
    "    train_size=0.8,\n",
    "    random_state=42\n",
    "    )"
   ]
  },
  {
   "cell_type": "code",
   "execution_count": null,
   "id": "a3e684ec-2797-4caa-b8f2-8cf55377ae92",
   "metadata": {
    "tags": []
   },
   "outputs": [],
   "source": [
    "print(len(X_train_bow), len(X_test_bow), len(y_train_bow), len(y_test_bow))"
   ]
  },
  {
   "cell_type": "markdown",
   "id": "9aef24f1-467c-498b-b3b1-b644592cd761",
   "metadata": {},
   "source": [
    "# Model"
   ]
  },
  {
   "cell_type": "code",
   "execution_count": null,
   "id": "b383f572-1bd9-44ba-ab59-53826cd5dd99",
   "metadata": {
    "tags": []
   },
   "outputs": [],
   "source": [
    "model = XGBClassifier(booster='gbtree',\n",
    "                      objective='binary:logistic',\n",
    "                      verbosity=3, #showing logs\n",
    "                      learning_rate=0.1,\n",
    "                      n_estimators=200,\n",
    "                      max_depth=8,\n",
    "                      max_leaves=32,\n",
    "                      subsample=0.95,\n",
    "                      eval_metric='auc'\n",
    "                     )"
   ]
  },
  {
   "cell_type": "code",
   "execution_count": null,
   "id": "1e7515f8-8604-4181-9e91-58aeec356f79",
   "metadata": {
    "tags": []
   },
   "outputs": [],
   "source": [
    "#training\n",
    "model.fit(X_train_bow, y_train_bow, eval_set=[(X_test_bow, y_test_bow)])"
   ]
  },
  {
   "cell_type": "markdown",
   "id": "c8b1e78e-2591-4d2b-b084-5c149f2fddff",
   "metadata": {},
   "source": [
    "https://xgboost.readthedocs.io/en/stable/parameter.html#parameters-for-tree-booster"
   ]
  },
  {
   "cell_type": "code",
   "execution_count": null,
   "id": "92e0ef8b-8e54-4f4f-a598-7a21feaed4c3",
   "metadata": {
    "tags": []
   },
   "outputs": [],
   "source": [
    "#generate predeictions\n",
    "y_test_bow_preds = model.predict(X_test_bow)"
   ]
  },
  {
   "cell_type": "code",
   "execution_count": null,
   "id": "94de3f63-a478-4076-b5f1-3cacdf9b3739",
   "metadata": {
    "tags": []
   },
   "outputs": [],
   "source": [
    "y_test_bow_preds"
   ]
  },
  {
   "cell_type": "code",
   "execution_count": null,
   "id": "224537ef-5391-4de1-8ffd-4423def355d2",
   "metadata": {
    "tags": []
   },
   "outputs": [],
   "source": [
    "print('Classification Report pe setul de test\\n',\n",
    "      classification_report(y_test_bow, y_test_bow_preds)\n",
    "      )"
   ]
  },
  {
   "cell_type": "markdown",
   "id": "a3335cc5-5d2e-40f9-9865-ae88b4c2c1a9",
   "metadata": {},
   "source": [
    "## Multi-label Classification"
   ]
  },
  {
   "cell_type": "markdown",
   "id": "c5b4cde0-9504-4c29-a0ef-b50c59ad5950",
   "metadata": {},
   "source": [
    "## train test split"
   ]
  },
  {
   "cell_type": "code",
   "execution_count": null,
   "id": "730cb476-04c3-4356-8c9a-11fd3dbd8453",
   "metadata": {
    "tags": []
   },
   "outputs": [],
   "source": [
    "#numaratul incepe de la 0\n",
    "reviews['rating'] = reviews['rating']-1"
   ]
  },
  {
   "cell_type": "code",
   "execution_count": null,
   "id": "b18ea1c7-e8dc-40e2-adc7-46dc4709609b",
   "metadata": {
    "tags": []
   },
   "outputs": [],
   "source": [
    "reviews['rating'][reviews['rating']==3] = 2"
   ]
  },
  {
   "cell_type": "code",
   "execution_count": null,
   "id": "7127521d-df54-413e-ae4f-dad8dfe2aad2",
   "metadata": {
    "tags": []
   },
   "outputs": [],
   "source": [
    "reviews['rating'][reviews['rating']==4] = 3"
   ]
  },
  {
   "cell_type": "code",
   "execution_count": null,
   "id": "07149cb6-d921-47f3-971b-2a3da47798eb",
   "metadata": {
    "tags": []
   },
   "outputs": [],
   "source": [
    "X_train_bow, X_test_bow, y_train_bow, y_test_bow = train_test_split(\n",
    "    dtm_bow,\n",
    "    reviews['rating'],\n",
    "    train_size=0.8,\n",
    "    random_state=42\n",
    "    )"
   ]
  },
  {
   "cell_type": "markdown",
   "id": "ea514382-442b-4dbd-a455-4f81d31ccd73",
   "metadata": {},
   "source": [
    "## Model"
   ]
  },
  {
   "cell_type": "code",
   "execution_count": null,
   "id": "d913dd63-cc0e-4077-b66c-f1c24097a8a5",
   "metadata": {
    "tags": []
   },
   "outputs": [],
   "source": [
    "model = XGBClassifier(booster='gbtree',\n",
    "                      objective='multi:softmax',\n",
    "                      num_class=4,\n",
    "                      verbosity=3, #showing logs\n",
    "                      learning_rate=0.1,\n",
    "                      n_estimators=200,\n",
    "                      max_depth=8,\n",
    "                      max_leaves=32,\n",
    "                      subsample=0.95,\n",
    "                      eval_metric='auc'\n",
    "                     )"
   ]
  },
  {
   "cell_type": "code",
   "execution_count": null,
   "id": "174e8d7c-0444-4ea5-b2ea-82415a8a6e1e",
   "metadata": {
    "tags": []
   },
   "outputs": [],
   "source": [
    "#training\n",
    "model.fit(X_train_bow, y_train_bow, eval_set=[(X_test_bow, y_test_bow)])"
   ]
  },
  {
   "cell_type": "code",
   "execution_count": null,
   "id": "c4e972b9-ba83-46a4-9cf7-1efb11c92265",
   "metadata": {
    "tags": []
   },
   "outputs": [],
   "source": [
    "#generate predeictions\n",
    "y_test_bow_preds = model.predict(X_test_bow)"
   ]
  },
  {
   "cell_type": "code",
   "execution_count": null,
   "id": "0e828ee2-e973-4421-8e01-4f0ceb8b0c75",
   "metadata": {
    "tags": []
   },
   "outputs": [],
   "source": [
    "print('Classification Report pe setul de test\\n',\n",
    "      classification_report(y_test_bow, y_test_bow_preds)\n",
    "      )"
   ]
  }
 ],
 "metadata": {
  "kernelspec": {
   "display_name": "nlp_py310_xgb",
   "language": "python",
   "name": "nlp_py310_xgb"
  },
  "language_info": {
   "codemirror_mode": {
    "name": "ipython",
    "version": 3
   },
   "file_extension": ".py",
   "mimetype": "text/x-python",
   "name": "python",
   "nbconvert_exporter": "python",
   "pygments_lexer": "ipython3",
   "version": "3.10.13"
  }
 },
 "nbformat": 4,
 "nbformat_minor": 5
}
