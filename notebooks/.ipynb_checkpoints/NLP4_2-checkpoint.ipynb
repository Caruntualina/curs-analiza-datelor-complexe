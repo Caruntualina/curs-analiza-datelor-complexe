{
 "cells": [
  {
   "cell_type": "markdown",
   "metadata": {
    "id": "Ts-bujnCM4zj"
   },
   "source": [
    "# Importing Libraries"
   ]
  },
  {
   "cell_type": "code",
   "execution_count": null,
   "metadata": {
    "id": "Rbtzm0IoMzzc",
    "tags": []
   },
   "outputs": [],
   "source": [
    "import pandas as pd\n",
    "import numpy as np\n",
    "\n",
    "# Pentru tokenization\n",
    "import nltk\n",
    "nltk.download('punkt')\n",
    "from nltk.tokenize import word_tokenize\n",
    "\n",
    "from gensim.models import FastText, Word2Vec\n",
    "\n",
    "# Reducerea nr. de dimensiuni\n",
    "from sklearn.decomposition import PCA\n",
    "\n",
    "# Salvarea modelului\n",
    "import pickle\n",
    "\n",
    "# vizualizare\n",
    "import plotly.express as px"
   ]
  },
  {
   "cell_type": "markdown",
   "metadata": {
    "id": "TSDEWjgYNxd_"
   },
   "source": [
    "# Citirea Setului de Date"
   ]
  },
  {
   "cell_type": "code",
   "execution_count": null,
   "metadata": {
    "tags": []
   },
   "outputs": [],
   "source": [
    "url = 'https://github.com/berinde/curs-analiza-datelor-complexe/blob/main/data/input/3.input_data_prepped_bow.csv?raw=True'\n",
    "reviews = pd.read_csv(url)\n",
    "reviews.head(2)"
   ]
  },
  {
   "cell_type": "code",
   "execution_count": null,
   "metadata": {
    "id": "Hw6zVDYZN_hT"
   },
   "outputs": [],
   "source": [
    "reviews['text_prep_lim'] = reviews['text_prep_lim'].astype(str)"
   ]
  },
  {
   "cell_type": "code",
   "execution_count": null,
   "metadata": {
    "id": "-tP8rs9fOgQa"
   },
   "outputs": [],
   "source": [
    "corpus = reviews['text_prep_lim'].apply(word_tokenize).to_list()\n",
    "corpus[0:2]"
   ]
  },
  {
   "cell_type": "markdown",
   "metadata": {
    "id": "KmnSEo9_QUDu"
   },
   "source": [
    "# FastText\n",
    "- size = 60 -> numarul de dimensiuni in care o sa fie reprezentat vectorial fiecare cuvant\n",
    "- min_count =3 -> ignoram cuvintele care au o frecventa < min_count\n",
    "- window = 10 -> numarul de cuvinte vecine considerate\n",
    "\n"
   ]
  },
  {
   "cell_type": "code",
   "execution_count": null,
   "metadata": {
    "id": "S9bKomLJQCAY"
   },
   "outputs": [],
   "source": [
    "# Corpus are 9365 de elemente\n",
    "len(corpus)"
   ]
  },
  {
   "cell_type": "code",
   "execution_count": null,
   "metadata": {
    "id": "ePBSYvTzQZX0"
   },
   "outputs": [],
   "source": [
    "reviews.shape"
   ]
  },
  {
   "cell_type": "code",
   "execution_count": null,
   "metadata": {
    "id": "Wt4VDR86Qf_V"
   },
   "outputs": [],
   "source": [
    "ft_model = FastText(min_count=3, size=60, window=10)\n",
    "\n",
    "# Construim vocabularul din corpus\n",
    "ft_model.build_vocab(corpus)\n",
    "\n",
    "ft_model.train(corpus, \n",
    "               total_examples=len(corpus),\n",
    "               epochs=5)"
   ]
  },
  {
   "cell_type": "code",
   "execution_count": null,
   "metadata": {
    "id": "8R_pIgaGTKOK"
   },
   "outputs": [],
   "source": [
    "# Reprezentarea vectoriala a cuvantului 'order'\n",
    "ft_model.wv['order']"
   ]
  },
  {
   "cell_type": "code",
   "execution_count": null,
   "metadata": {
    "id": "BWGCAuRMTgSi"
   },
   "outputs": [],
   "source": [
    "len(ft_model.wv['order'])"
   ]
  },
  {
   "cell_type": "code",
   "execution_count": null,
   "metadata": {
    "id": "tr8EZxGwTk_E"
   },
   "outputs": [],
   "source": [
    "ft_model.wv.most_similar('great', topn=5)"
   ]
  },
  {
   "cell_type": "code",
   "execution_count": null,
   "metadata": {
    "id": "lDK-GjYmT9Ec"
   },
   "outputs": [],
   "source": [
    "ft_model.wv.similarity('wrong', 'order')"
   ]
  },
  {
   "cell_type": "markdown",
   "metadata": {
    "id": "rTzbfq3wUQg-"
   },
   "source": [
    "## Salvarea modelului"
   ]
  },
  {
   "cell_type": "code",
   "execution_count": null,
   "metadata": {
    "id": "6hoaQ3nVTwad"
   },
   "outputs": [],
   "source": [
    "pickle.dump(ft_model, open('ft_model.pkl', 'wb'))"
   ]
  },
  {
   "cell_type": "code",
   "execution_count": null,
   "metadata": {
    "id": "0d1cnAQAUtfE"
   },
   "outputs": [],
   "source": [
    "# ft_model2 = pickle.load(open('ft_model.pkl', 'rb'))"
   ]
  },
  {
   "cell_type": "markdown",
   "metadata": {
    "id": "1A6TN3pCVIKO"
   },
   "source": [
    "## Vizualizarea reprezentarilor vectoriale FastText"
   ]
  },
  {
   "cell_type": "code",
   "execution_count": null,
   "metadata": {
    "id": "3u2V9WzBVAdc"
   },
   "outputs": [],
   "source": [
    "lista_cuvinte = ['food', 'pizza', 'pasta',\n",
    "                 'place', 'restaurant', 'service',\n",
    "                 'good', 'great', 'delicious',\n",
    "                 'terrible', 'awful', 'horrible']"
   ]
  },
  {
   "cell_type": "code",
   "execution_count": null,
   "metadata": {
    "id": "EyBnlfeiVtda"
   },
   "outputs": [],
   "source": [
    "X = ft_model.wv[lista_cuvinte]\n",
    "# X"
   ]
  },
  {
   "cell_type": "code",
   "execution_count": null,
   "metadata": {
    "id": "8_soejvjV1AA"
   },
   "outputs": [],
   "source": [
    "pca_ft_2 = PCA(n_components=2, random_state=42).fit_transform(X)\n",
    "pca_ft_2"
   ]
  },
  {
   "cell_type": "code",
   "execution_count": null,
   "metadata": {
    "id": "ETxmrAucWmWi"
   },
   "outputs": [],
   "source": [
    "fig = px.scatter(x=pca_ft_2[:, 0],\n",
    "                 y=pca_ft_2[:, 1],\n",
    "                 text=lista_cuvinte)\n",
    "fig.update_traces(textposition='top center',\n",
    "                  textfont_size=14)\n",
    "fig.show();"
   ]
  },
  {
   "cell_type": "code",
   "execution_count": null,
   "metadata": {
    "id": "m0i7pEfCW6H3"
   },
   "outputs": [],
   "source": [
    "pca_ft_3 = PCA(n_components=3, random_state=42).fit_transform(X)\n",
    "pca_ft_3"
   ]
  },
  {
   "cell_type": "code",
   "execution_count": null,
   "metadata": {
    "id": "kTBh9WzoXYtg"
   },
   "outputs": [],
   "source": [
    "fig = px.scatter_3d(x=pca_ft_3[:, 0],\n",
    "                    y=pca_ft_3[:, 1],\n",
    "                    z=pca_ft_3[:, 2],\n",
    "                    text=lista_cuvinte)\n",
    "fig.update_traces(textposition='top center',\n",
    "                  textfont_size=14)\n",
    "fig.show();"
   ]
  },
  {
   "cell_type": "markdown",
   "metadata": {
    "id": "WsbOEGYIao1b"
   },
   "source": [
    "# Word2Vec"
   ]
  },
  {
   "cell_type": "code",
   "execution_count": null,
   "metadata": {
    "id": "-RJ8qMFuXlBE"
   },
   "outputs": [],
   "source": [
    "wv_model = Word2Vec(min_count=3, size=60, window=10)\n",
    "\n",
    "wv_model.build_vocab(corpus)\n",
    "\n",
    "wv_model.train(corpus, \n",
    "               total_examples=len(corpus),\n",
    "               epochs=5)"
   ]
  },
  {
   "cell_type": "code",
   "execution_count": null,
   "metadata": {
    "id": "yp3-AfwzbLem"
   },
   "outputs": [],
   "source": [
    "wv_model.wv['order']"
   ]
  },
  {
   "cell_type": "code",
   "execution_count": null,
   "metadata": {
    "id": "Bw6Z1_u8bNJK"
   },
   "outputs": [],
   "source": [
    "wv_model.wv.most_similar('great', topn=30)"
   ]
  },
  {
   "cell_type": "code",
   "execution_count": null,
   "metadata": {
    "id": "7_2bnlWum-8I"
   },
   "outputs": [],
   "source": [
    "# Nume de persoane apar similare cu great (Karol, Susan, Steven, Ned)\n",
    "\n",
    "# ('karol', 0.8677303791046143),\n",
    "#  ('susan', 0.8649597764015198),\n",
    "#  ('hookah', 0.857241153717041),\n",
    "#  ('steven', 0.8558700680732727),\n",
    "#  ('ned', 0.8550676107406616),\n",
    "#  ('impeccable', 0.8520554304122925),\n",
    "#  ('seth', 0.8516987562179565),"
   ]
  },
  {
   "cell_type": "code",
   "execution_count": null,
   "metadata": {
    "id": "nYDQ8Q2Hb-YV"
   },
   "outputs": [],
   "source": [
    "# Pentru fiecare rand din df. reviews, T/F daca text_prep_lim contine 'susan'\n",
    "reviews['text_prep_lim'].str.contains('susan')"
   ]
  },
  {
   "cell_type": "code",
   "execution_count": null,
   "metadata": {
    "id": "6iNOH2wybU9Z"
   },
   "outputs": [],
   "source": [
    "df_exemplu = reviews[reviews['text_prep_lim'].str.contains('susan')].copy()\n",
    "print('Numarul de recenzii care contin cuvantul',\n",
    "      len(df_exemplu))"
   ]
  },
  {
   "cell_type": "code",
   "execution_count": null,
   "metadata": {
    "id": "LBOskYJIdEBk"
   },
   "outputs": [],
   "source": [
    "print('Rating-ul mediu din recenziile care contin cuvantul',\n",
    "      df_exemplu['rating'].mean()\n",
    "      )"
   ]
  },
  {
   "cell_type": "code",
   "execution_count": null,
   "metadata": {
    "id": "EGkqbnMednqV"
   },
   "outputs": [],
   "source": [
    "print('Restaurantele unice din recenziile care contin cuvantul',\n",
    "      df_exemplu['rest_id'].nunique()\n",
    "      )"
   ]
  },
  {
   "cell_type": "code",
   "execution_count": null,
   "metadata": {
    "id": "ImtQC5cYcguK"
   },
   "outputs": [],
   "source": [
    "df_exemplu['text'].to_list()"
   ]
  },
  {
   "cell_type": "code",
   "execution_count": null,
   "metadata": {
    "id": "dZgS1Kc_cnsi"
   },
   "outputs": [],
   "source": [
    "wv_model.wv.similarity('wrong', 'order')"
   ]
  },
  {
   "cell_type": "code",
   "execution_count": null,
   "metadata": {
    "id": "kaCVAAO1eHS6"
   },
   "outputs": [],
   "source": [
    "wv_model.wv.similarity('fast', 'order')"
   ]
  },
  {
   "cell_type": "code",
   "execution_count": null,
   "metadata": {
    "id": "hpmklz49eL2O"
   },
   "outputs": [],
   "source": [
    "wv_model.wv.most_similar('wait', topn=30)"
   ]
  },
  {
   "cell_type": "markdown",
   "metadata": {
    "id": "C4Kii1Mhegsy"
   },
   "source": [
    "## Salvarea Modelului"
   ]
  },
  {
   "cell_type": "code",
   "execution_count": null,
   "metadata": {
    "id": "Pd7efuGWeTST"
   },
   "outputs": [],
   "source": [
    "pickle.dump(wv_model, open('wv_model.pkl', 'wb'))"
   ]
  },
  {
   "cell_type": "markdown",
   "metadata": {
    "id": "oictaG0je7Kj"
   },
   "source": [
    "# Visualization"
   ]
  },
  {
   "cell_type": "code",
   "execution_count": null,
   "metadata": {
    "id": "tXIPE-ogewGA"
   },
   "outputs": [],
   "source": [
    "lista_cuvinte"
   ]
  },
  {
   "cell_type": "code",
   "execution_count": null,
   "metadata": {
    "id": "ClbGSWRKe_Gt"
   },
   "outputs": [],
   "source": [
    "X_wv = wv_model.wv[lista_cuvinte]\n",
    "X_wv[0]"
   ]
  },
  {
   "cell_type": "code",
   "execution_count": null,
   "metadata": {
    "id": "1nl8_62ofLDJ"
   },
   "outputs": [],
   "source": [
    "pca_wv_2 = PCA(n_components=2, random_state=42).fit_transform(X_wv)\n",
    "pca_wv_2"
   ]
  },
  {
   "cell_type": "code",
   "execution_count": null,
   "metadata": {
    "id": "gnQCp3LGfh67"
   },
   "outputs": [],
   "source": [
    "pca_wv_3 = PCA(n_components=3, random_state=42).fit_transform(X_wv)\n",
    "pca_wv_3"
   ]
  },
  {
   "cell_type": "code",
   "execution_count": null,
   "metadata": {
    "id": "-IOoyHX3ftDr"
   },
   "outputs": [],
   "source": [
    "fig = px.scatter(x=pca_wv_2[:, 0],\n",
    "                 y=pca_wv_2[:, 1],\n",
    "                 text=lista_cuvinte)\n",
    "fig.update_traces(textposition='top center',\n",
    "                  textfont_size=14)\n",
    "fig.show()"
   ]
  },
  {
   "cell_type": "code",
   "execution_count": null,
   "metadata": {
    "id": "BRmNVX14gY1l"
   },
   "outputs": [],
   "source": [
    "fig = px.scatter_3d(x=pca_wv_3[:, 0],\n",
    "                 y=pca_wv_3[:, 1],\n",
    "                 z=pca_wv_3[:, 2],\n",
    "                 text=lista_cuvinte)\n",
    "fig.update_traces(textposition='top center',\n",
    "                  textfont_size=14)\n",
    "fig.show()"
   ]
  },
  {
   "cell_type": "code",
   "execution_count": null,
   "metadata": {
    "id": "iZdTCAU5hHIA"
   },
   "outputs": [],
   "source": [
    "lista2_cuvinte = ['waiter', 'server', 'staff', 'owner', 'chef',\n",
    "                  'burger', 'fries', 'tacos', 'cake', 'pizza'] "
   ]
  },
  {
   "cell_type": "code",
   "execution_count": null,
   "metadata": {
    "id": "d8h118r6h52L"
   },
   "outputs": [],
   "source": [
    "X_wv2 = wv_model.wv[lista2_cuvinte]"
   ]
  },
  {
   "cell_type": "code",
   "execution_count": null,
   "metadata": {
    "id": "vOBHLUziiI6o"
   },
   "outputs": [],
   "source": [
    "pca_list2cuv_3 = PCA(n_components=3).fit_transform(X_wv2)"
   ]
  },
  {
   "cell_type": "code",
   "execution_count": null,
   "metadata": {
    "id": "-1ApAW84ie83"
   },
   "outputs": [],
   "source": [
    "fig = px.scatter_3d(x=pca_list2cuv_3[:, 0],\n",
    "                    y=pca_list2cuv_3[:, 1],\n",
    "                    z=pca_list2cuv_3[:, 2],\n",
    "                    text=lista2_cuvinte\n",
    "                    )\n",
    "fig.update_traces(textposition='top center',\n",
    "                  textfont_size=14)\n",
    "fig.show()"
   ]
  },
  {
   "cell_type": "code",
   "execution_count": null,
   "metadata": {
    "id": "Vp3lmJbpitlP"
   },
   "outputs": [],
   "source": [
    "# Cream un nou df, care sa contina toate recenziile cu cuvantul 'pizza'\n",
    "df_pizza = reviews[reviews['text_prep_lim'].str.contains('pizza')].copy()\n",
    "print('Numarul de recenzii care contin cuvantul pizza:', len(df_pizza))\n",
    "\n",
    "df_burger = reviews[reviews['text_prep_lim'].str.contains('burger')].copy()\n",
    "print('Numarul de recenzii care contin cuvantul burger:', len(df_burger))"
   ]
  },
  {
   "cell_type": "code",
   "execution_count": null,
   "metadata": {
    "id": "ulM7Aazujz7q"
   },
   "outputs": [],
   "source": [
    "print('Statisticile descriptive pentru rating pentru recenziile care contin cuvantul pizza',\n",
    "      df_pizza['rating'].describe())"
   ]
  },
  {
   "cell_type": "code",
   "execution_count": null,
   "metadata": {
    "id": "IqQxmZackao-"
   },
   "outputs": [],
   "source": [
    "print('Statisticile descriptive pentru rating pentru recenziile care contin cuvantul burger',\n",
    "      df_burger['rating'].describe())"
   ]
  },
  {
   "cell_type": "markdown",
   "metadata": {
    "id": "J1PZi_Bxk8HM"
   },
   "source": [
    "Alte resurse:\n",
    "https://amitness.com/2020/06/fasttext-embeddings/\n"
   ]
  }
 ],
 "metadata": {
  "colab": {
   "provenance": []
  },
  "kernelspec": {
   "display_name": "nlp_py_310",
   "language": "python",
   "name": "nlp_py_310"
  },
  "language_info": {
   "codemirror_mode": {
    "name": "ipython",
    "version": 3
   },
   "file_extension": ".py",
   "mimetype": "text/x-python",
   "name": "python",
   "nbconvert_exporter": "python",
   "pygments_lexer": "ipython3",
   "version": "3.10.13"
  }
 },
 "nbformat": 4,
 "nbformat_minor": 4
}
