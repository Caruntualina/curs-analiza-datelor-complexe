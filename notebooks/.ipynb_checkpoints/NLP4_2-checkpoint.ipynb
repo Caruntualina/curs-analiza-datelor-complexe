{
  "nbformat": 4,
  "nbformat_minor": 0,
  "metadata": {
    "colab": {
      "provenance": []
    },
    "kernelspec": {
      "name": "python3",
      "display_name": "Python 3"
    },
    "language_info": {
      "name": "python"
    }
  },
  "cells": [
    {
      "cell_type": "markdown",
      "source": [
        "# Importing Libraries"
      ],
      "metadata": {
        "id": "Ts-bujnCM4zj"
      }
    },
    {
      "cell_type": "code",
      "execution_count": null,
      "metadata": {
        "id": "Rbtzm0IoMzzc"
      },
      "outputs": [],
      "source": [
        "import pandas as pd\n",
        "import numpy as np\n",
        "\n",
        "# Pentru tokenization\n",
        "import nltk\n",
        "nltk.download('punkt')\n",
        "from nltk.tokenize import word_tokenize\n",
        "\n",
        "from gensim.models import FastText, Word2Vec\n",
        "\n",
        "# Reducerea nr. de dimensiuni\n",
        "from sklearn.decomposition import PCA\n",
        "\n",
        "# Salvarea modelului\n",
        "import pickle\n",
        "\n",
        "# vizualizare\n",
        "import plotly.express as px"
      ]
    },
    {
      "cell_type": "markdown",
      "source": [
        "# Citirea Setului de Date"
      ],
      "metadata": {
        "id": "TSDEWjgYNxd_"
      }
    },
    {
      "cell_type": "code",
      "source": [
        "url = 'https://raw.githubusercontent.com/DanielaManate/SentimentAnalysis-TopicModeling/master/Data/Input/3.input_data_prepped_bow.csv'\n",
        "reviews = pd.read_csv(url)\n",
        "reviews.head(2)"
      ],
      "metadata": {
        "id": "FgWZWDQjNz2B"
      },
      "execution_count": null,
      "outputs": []
    },
    {
      "cell_type": "code",
      "source": [
        "reviews['text_prep_lim'] = reviews['text_prep_lim'].astype(str)"
      ],
      "metadata": {
        "id": "Hw6zVDYZN_hT"
      },
      "execution_count": null,
      "outputs": []
    },
    {
      "cell_type": "code",
      "source": [
        "corpus = reviews['text_prep_lim'].apply(word_tokenize).to_list()\n",
        "corpus[0:2]"
      ],
      "metadata": {
        "collapsed": true,
        "id": "-tP8rs9fOgQa"
      },
      "execution_count": null,
      "outputs": []
    },
    {
      "cell_type": "markdown",
      "source": [
        "# FastText\n",
        "- size = 60 -> numarul de dimensiuni in care o sa fie reprezentat vectorial fiecare cuvant\n",
        "- min_count =3 -> ignoram cuvintele care au o frecventa < min_count\n",
        "- window = 10 -> numarul de cuvinte vecine considerate\n",
        "\n"
      ],
      "metadata": {
        "id": "KmnSEo9_QUDu"
      }
    },
    {
      "cell_type": "code",
      "source": [
        "# Corpus are 9365 de elemente\n",
        "len(corpus)"
      ],
      "metadata": {
        "id": "S9bKomLJQCAY"
      },
      "execution_count": null,
      "outputs": []
    },
    {
      "cell_type": "code",
      "source": [
        "reviews.shape"
      ],
      "metadata": {
        "id": "ePBSYvTzQZX0"
      },
      "execution_count": null,
      "outputs": []
    },
    {
      "cell_type": "code",
      "source": [
        "ft_model = FastText(min_count=3, size=60, window=10)\n",
        "\n",
        "# Construim vocabularul din corpus\n",
        "ft_model.build_vocab(corpus)\n",
        "\n",
        "ft_model.train(corpus, \n",
        "               total_examples=len(corpus),\n",
        "               epochs=5)"
      ],
      "metadata": {
        "id": "Wt4VDR86Qf_V"
      },
      "execution_count": null,
      "outputs": []
    },
    {
      "cell_type": "code",
      "source": [
        "# Reprezentarea vectoriala a cuvantului 'order'\n",
        "ft_model.wv['order']"
      ],
      "metadata": {
        "id": "8R_pIgaGTKOK"
      },
      "execution_count": null,
      "outputs": []
    },
    {
      "cell_type": "code",
      "source": [
        "len(ft_model.wv['order'])"
      ],
      "metadata": {
        "id": "BWGCAuRMTgSi"
      },
      "execution_count": null,
      "outputs": []
    },
    {
      "cell_type": "code",
      "source": [
        "ft_model.wv.most_similar('great', topn=5)"
      ],
      "metadata": {
        "id": "tr8EZxGwTk_E"
      },
      "execution_count": null,
      "outputs": []
    },
    {
      "cell_type": "code",
      "source": [
        "ft_model.wv.similarity('wrong', 'order')"
      ],
      "metadata": {
        "id": "lDK-GjYmT9Ec"
      },
      "execution_count": null,
      "outputs": []
    },
    {
      "cell_type": "markdown",
      "source": [
        "## Salvarea modelului"
      ],
      "metadata": {
        "id": "rTzbfq3wUQg-"
      }
    },
    {
      "cell_type": "code",
      "source": [
        "pickle.dump(ft_model, open('ft_model.pkl', 'wb'))"
      ],
      "metadata": {
        "id": "6hoaQ3nVTwad"
      },
      "execution_count": null,
      "outputs": []
    },
    {
      "cell_type": "code",
      "source": [
        "# ft_model2 = pickle.load(open('ft_model.pkl', 'rb'))"
      ],
      "metadata": {
        "id": "0d1cnAQAUtfE"
      },
      "execution_count": null,
      "outputs": []
    },
    {
      "cell_type": "markdown",
      "source": [
        "## Vizualizarea reprezentarilor vectoriale FastText"
      ],
      "metadata": {
        "id": "1A6TN3pCVIKO"
      }
    },
    {
      "cell_type": "code",
      "source": [
        "lista_cuvinte = ['food', 'pizza', 'pasta',\n",
        "                 'place', 'restaurant', 'service',\n",
        "                 'good', 'great', 'delicious',\n",
        "                 'terrible', 'awful', 'horrible']"
      ],
      "metadata": {
        "id": "3u2V9WzBVAdc"
      },
      "execution_count": null,
      "outputs": []
    },
    {
      "cell_type": "code",
      "source": [
        "X = ft_model.wv[lista_cuvinte]\n",
        "# X"
      ],
      "metadata": {
        "id": "EyBnlfeiVtda"
      },
      "execution_count": null,
      "outputs": []
    },
    {
      "cell_type": "code",
      "source": [
        "pca_ft_2 = PCA(n_components=2, random_state=42).fit_transform(X)\n",
        "pca_ft_2"
      ],
      "metadata": {
        "id": "8_soejvjV1AA"
      },
      "execution_count": null,
      "outputs": []
    },
    {
      "cell_type": "code",
      "source": [
        "fig = px.scatter(x=pca_ft_2[:, 0],\n",
        "                 y=pca_ft_2[:, 1],\n",
        "                 text=lista_cuvinte)\n",
        "fig.update_traces(textposition='top center',\n",
        "                  textfont_size=14)\n",
        "fig.show();"
      ],
      "metadata": {
        "id": "ETxmrAucWmWi"
      },
      "execution_count": null,
      "outputs": []
    },
    {
      "cell_type": "code",
      "source": [
        "pca_ft_3 = PCA(n_components=3, random_state=42).fit_transform(X)\n",
        "pca_ft_3"
      ],
      "metadata": {
        "id": "m0i7pEfCW6H3"
      },
      "execution_count": null,
      "outputs": []
    },
    {
      "cell_type": "code",
      "source": [
        "fig = px.scatter_3d(x=pca_ft_3[:, 0],\n",
        "                    y=pca_ft_3[:, 1],\n",
        "                    z=pca_ft_3[:, 2],\n",
        "                    text=lista_cuvinte)\n",
        "fig.update_traces(textposition='top center',\n",
        "                  textfont_size=14)\n",
        "fig.show();"
      ],
      "metadata": {
        "id": "kTBh9WzoXYtg"
      },
      "execution_count": null,
      "outputs": []
    },
    {
      "cell_type": "markdown",
      "source": [
        "# Word2Vec"
      ],
      "metadata": {
        "id": "WsbOEGYIao1b"
      }
    },
    {
      "cell_type": "code",
      "source": [
        "wv_model = Word2Vec(min_count=3, size=60, window=10)\n",
        "\n",
        "wv_model.build_vocab(corpus)\n",
        "\n",
        "wv_model.train(corpus, \n",
        "               total_examples=len(corpus),\n",
        "               epochs=5)"
      ],
      "metadata": {
        "id": "-RJ8qMFuXlBE"
      },
      "execution_count": null,
      "outputs": []
    },
    {
      "cell_type": "code",
      "source": [
        "wv_model.wv['order']"
      ],
      "metadata": {
        "id": "yp3-AfwzbLem"
      },
      "execution_count": null,
      "outputs": []
    },
    {
      "cell_type": "code",
      "source": [
        "wv_model.wv.most_similar('great', topn=30)"
      ],
      "metadata": {
        "id": "Bw6Z1_u8bNJK"
      },
      "execution_count": null,
      "outputs": []
    },
    {
      "cell_type": "code",
      "source": [
        "# Nume de persoane apar similare cu great (Karol, Susan, Steven, Ned)\n",
        "\n",
        "# ('karol', 0.8677303791046143),\n",
        "#  ('susan', 0.8649597764015198),\n",
        "#  ('hookah', 0.857241153717041),\n",
        "#  ('steven', 0.8558700680732727),\n",
        "#  ('ned', 0.8550676107406616),\n",
        "#  ('impeccable', 0.8520554304122925),\n",
        "#  ('seth', 0.8516987562179565),"
      ],
      "metadata": {
        "id": "7_2bnlWum-8I"
      },
      "execution_count": null,
      "outputs": []
    },
    {
      "cell_type": "code",
      "source": [
        "# Pentru fiecare rand din df. reviews, T/F daca text_prep_lim contine 'susan'\n",
        "reviews['text_prep_lim'].str.contains('susan')"
      ],
      "metadata": {
        "id": "nYDQ8Q2Hb-YV"
      },
      "execution_count": null,
      "outputs": []
    },
    {
      "cell_type": "code",
      "source": [
        "df_exemplu = reviews[reviews['text_prep_lim'].str.contains('susan')].copy()\n",
        "print('Numarul de recenzii care contin cuvantul',\n",
        "      len(df_exemplu))"
      ],
      "metadata": {
        "id": "6iNOH2wybU9Z"
      },
      "execution_count": null,
      "outputs": []
    },
    {
      "cell_type": "code",
      "source": [
        "print('Rating-ul mediu din recenziile care contin cuvantul',\n",
        "      df_exemplu['rating'].mean()\n",
        "      )"
      ],
      "metadata": {
        "id": "LBOskYJIdEBk"
      },
      "execution_count": null,
      "outputs": []
    },
    {
      "cell_type": "code",
      "source": [
        "print('Restaurantele unice din recenziile care contin cuvantul',\n",
        "      df_exemplu['rest_id'].nunique()\n",
        "      )"
      ],
      "metadata": {
        "id": "EGkqbnMednqV"
      },
      "execution_count": null,
      "outputs": []
    },
    {
      "cell_type": "code",
      "source": [
        "df_exemplu['text'].to_list()"
      ],
      "metadata": {
        "id": "ImtQC5cYcguK"
      },
      "execution_count": null,
      "outputs": []
    },
    {
      "cell_type": "code",
      "source": [
        "wv_model.wv.similarity('wrong', 'order')"
      ],
      "metadata": {
        "id": "dZgS1Kc_cnsi"
      },
      "execution_count": null,
      "outputs": []
    },
    {
      "cell_type": "code",
      "source": [
        "wv_model.wv.similarity('fast', 'order')"
      ],
      "metadata": {
        "id": "kaCVAAO1eHS6"
      },
      "execution_count": null,
      "outputs": []
    },
    {
      "cell_type": "code",
      "source": [
        "wv_model.wv.most_similar('wait', topn=30)"
      ],
      "metadata": {
        "id": "hpmklz49eL2O"
      },
      "execution_count": null,
      "outputs": []
    },
    {
      "cell_type": "markdown",
      "source": [
        "## Salvarea Modelului"
      ],
      "metadata": {
        "id": "C4Kii1Mhegsy"
      }
    },
    {
      "cell_type": "code",
      "source": [
        "pickle.dump(wv_model, open('wv_model.pkl', 'wb'))"
      ],
      "metadata": {
        "id": "Pd7efuGWeTST"
      },
      "execution_count": null,
      "outputs": []
    },
    {
      "cell_type": "markdown",
      "source": [
        "# Visualization"
      ],
      "metadata": {
        "id": "oictaG0je7Kj"
      }
    },
    {
      "cell_type": "code",
      "source": [
        "lista_cuvinte"
      ],
      "metadata": {
        "collapsed": true,
        "id": "tXIPE-ogewGA"
      },
      "execution_count": null,
      "outputs": []
    },
    {
      "cell_type": "code",
      "source": [
        "X_wv = wv_model.wv[lista_cuvinte]\n",
        "X_wv[0]"
      ],
      "metadata": {
        "id": "ClbGSWRKe_Gt"
      },
      "execution_count": null,
      "outputs": []
    },
    {
      "cell_type": "code",
      "source": [
        "pca_wv_2 = PCA(n_components=2, random_state=42).fit_transform(X_wv)\n",
        "pca_wv_2"
      ],
      "metadata": {
        "id": "1nl8_62ofLDJ"
      },
      "execution_count": null,
      "outputs": []
    },
    {
      "cell_type": "code",
      "source": [
        "pca_wv_3 = PCA(n_components=3, random_state=42).fit_transform(X_wv)\n",
        "pca_wv_3"
      ],
      "metadata": {
        "id": "gnQCp3LGfh67"
      },
      "execution_count": null,
      "outputs": []
    },
    {
      "cell_type": "code",
      "source": [
        "fig = px.scatter(x=pca_wv_2[:, 0],\n",
        "                 y=pca_wv_2[:, 1],\n",
        "                 text=lista_cuvinte)\n",
        "fig.update_traces(textposition='top center',\n",
        "                  textfont_size=14)\n",
        "fig.show()"
      ],
      "metadata": {
        "id": "-IOoyHX3ftDr"
      },
      "execution_count": null,
      "outputs": []
    },
    {
      "cell_type": "code",
      "source": [
        "fig = px.scatter_3d(x=pca_wv_3[:, 0],\n",
        "                 y=pca_wv_3[:, 1],\n",
        "                 z=pca_wv_3[:, 2],\n",
        "                 text=lista_cuvinte)\n",
        "fig.update_traces(textposition='top center',\n",
        "                  textfont_size=14)\n",
        "fig.show()"
      ],
      "metadata": {
        "id": "BRmNVX14gY1l"
      },
      "execution_count": null,
      "outputs": []
    },
    {
      "cell_type": "code",
      "source": [
        "lista2_cuvinte = ['waiter', 'server', 'staff', 'owner', 'chef',\n",
        "                  'burger', 'fries', 'tacos', 'cake', 'pizza'] "
      ],
      "metadata": {
        "id": "iZdTCAU5hHIA"
      },
      "execution_count": null,
      "outputs": []
    },
    {
      "cell_type": "code",
      "source": [
        "X_wv2 = wv_model.wv[lista2_cuvinte]"
      ],
      "metadata": {
        "id": "d8h118r6h52L"
      },
      "execution_count": null,
      "outputs": []
    },
    {
      "cell_type": "code",
      "source": [
        "pca_list2cuv_3 = PCA(n_components=3).fit_transform(X_wv2)"
      ],
      "metadata": {
        "id": "vOBHLUziiI6o"
      },
      "execution_count": null,
      "outputs": []
    },
    {
      "cell_type": "code",
      "source": [
        "fig = px.scatter_3d(x=pca_list2cuv_3[:, 0],\n",
        "                    y=pca_list2cuv_3[:, 1],\n",
        "                    z=pca_list2cuv_3[:, 2],\n",
        "                    text=lista2_cuvinte\n",
        "                    )\n",
        "fig.update_traces(textposition='top center',\n",
        "                  textfont_size=14)\n",
        "fig.show()"
      ],
      "metadata": {
        "id": "-1ApAW84ie83"
      },
      "execution_count": null,
      "outputs": []
    },
    {
      "cell_type": "code",
      "source": [
        "# Cream un nou df, care sa contina toate recenziile cu cuvantul 'pizza'\n",
        "df_pizza = reviews[reviews['text_prep_lim'].str.contains('pizza')].copy()\n",
        "print('Numarul de recenzii care contin cuvantul pizza:', len(df_pizza))\n",
        "\n",
        "df_burger = reviews[reviews['text_prep_lim'].str.contains('burger')].copy()\n",
        "print('Numarul de recenzii care contin cuvantul burger:', len(df_burger))"
      ],
      "metadata": {
        "id": "Vp3lmJbpitlP"
      },
      "execution_count": null,
      "outputs": []
    },
    {
      "cell_type": "code",
      "source": [
        "print('Statisticile descriptive pentru rating pentru recenziile care contin cuvantul pizza',\n",
        "      df_pizza['rating'].describe())"
      ],
      "metadata": {
        "id": "ulM7Aazujz7q"
      },
      "execution_count": null,
      "outputs": []
    },
    {
      "cell_type": "code",
      "source": [
        "print('Statisticile descriptive pentru rating pentru recenziile care contin cuvantul burger',\n",
        "      df_burger['rating'].describe())"
      ],
      "metadata": {
        "id": "IqQxmZackao-"
      },
      "execution_count": null,
      "outputs": []
    },
    {
      "cell_type": "markdown",
      "source": [
        "Alte resurse:\n",
        "https://amitness.com/2020/06/fasttext-embeddings/\n"
      ],
      "metadata": {
        "id": "J1PZi_Bxk8HM"
      }
    }
  ]
}