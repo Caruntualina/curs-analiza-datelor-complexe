{
 "cells": [
  {
   "cell_type": "code",
   "execution_count": 3,
   "metadata": {
    "id": "LyIBrZc34lut",
    "tags": []
   },
   "outputs": [
    {
     "name": "stderr",
     "output_type": "stream",
     "text": [
      "/tmp/ipykernel_37615/4228852872.py:1: DeprecationWarning: \n",
      "Pyarrow will become a required dependency of pandas in the next major release of pandas (pandas 3.0),\n",
      "(to allow more performant data types, such as the Arrow string type, and better interoperability with other libraries)\n",
      "but was not found to be installed on your system.\n",
      "If this would cause problems for you,\n",
      "please provide us feedback at https://github.com/pandas-dev/pandas/issues/54466\n",
      "        \n",
      "  import pandas as pd\n"
     ]
    }
   ],
   "source": [
    "import pandas as pd\n",
    "import numpy as np\n",
    "\n",
    "# Pentru reprezentarea TF-IDF\n",
    "from sklearn.feature_extraction.text import TfidfVectorizer"
   ]
  },
  {
   "cell_type": "markdown",
   "metadata": {
    "id": "XnPATOUa5IsY"
   },
   "source": [
    "# Citirea Datelor"
   ]
  },
  {
   "cell_type": "code",
   "execution_count": 4,
   "metadata": {
    "tags": []
   },
   "outputs": [
    {
     "data": {
      "text/html": [
       "<div>\n",
       "<style scoped>\n",
       "    .dataframe tbody tr th:only-of-type {\n",
       "        vertical-align: middle;\n",
       "    }\n",
       "\n",
       "    .dataframe tbody tr th {\n",
       "        vertical-align: top;\n",
       "    }\n",
       "\n",
       "    .dataframe thead th {\n",
       "        text-align: right;\n",
       "    }\n",
       "</style>\n",
       "<table border=\"1\" class=\"dataframe\">\n",
       "  <thead>\n",
       "    <tr style=\"text-align: right;\">\n",
       "      <th></th>\n",
       "      <th>rest_id</th>\n",
       "      <th>text</th>\n",
       "      <th>rating</th>\n",
       "      <th>char_count</th>\n",
       "      <th>positive</th>\n",
       "      <th>text_prep</th>\n",
       "      <th>text_prep_tokens</th>\n",
       "      <th>word_len_prep</th>\n",
       "      <th>text_prep_lim</th>\n",
       "      <th>text_prep_lim_tokens</th>\n",
       "      <th>word_len_prep_lim</th>\n",
       "    </tr>\n",
       "  </thead>\n",
       "  <tbody>\n",
       "    <tr>\n",
       "      <th>0</th>\n",
       "      <td>yGMCl0vYigshkXiZFIDTNw</td>\n",
       "      <td>We arrived for our reservation at 7:15pm.  The...</td>\n",
       "      <td>4</td>\n",
       "      <td>302</td>\n",
       "      <td>1</td>\n",
       "      <td>arrived reservation pm seat -PRON- right time ...</td>\n",
       "      <td>['arrived', 'reservation', 'pm', 'seat', '-PRO...</td>\n",
       "      <td>27</td>\n",
       "      <td>arrived reservation pm seat right time restura...</td>\n",
       "      <td>['arrived', 'reservation', 'pm', 'seat', 'righ...</td>\n",
       "      <td>25</td>\n",
       "    </tr>\n",
       "    <tr>\n",
       "      <th>1</th>\n",
       "      <td>yGMCl0vYigshkXiZFIDTNw</td>\n",
       "      <td>We received amazing service again. The food wa...</td>\n",
       "      <td>5</td>\n",
       "      <td>111</td>\n",
       "      <td>1</td>\n",
       "      <td>receive amazing service food cook right waitre...</td>\n",
       "      <td>['receive', 'amazing', 'service', 'food', 'coo...</td>\n",
       "      <td>10</td>\n",
       "      <td>receive amazing service food cook right waitre...</td>\n",
       "      <td>['receive', 'amazing', 'service', 'food', 'coo...</td>\n",
       "      <td>9</td>\n",
       "    </tr>\n",
       "  </tbody>\n",
       "</table>\n",
       "</div>"
      ],
      "text/plain": [
       "                  rest_id                                               text  \\\n",
       "0  yGMCl0vYigshkXiZFIDTNw  We arrived for our reservation at 7:15pm.  The...   \n",
       "1  yGMCl0vYigshkXiZFIDTNw  We received amazing service again. The food wa...   \n",
       "\n",
       "   rating  char_count  positive  \\\n",
       "0       4         302         1   \n",
       "1       5         111         1   \n",
       "\n",
       "                                           text_prep  \\\n",
       "0  arrived reservation pm seat -PRON- right time ...   \n",
       "1  receive amazing service food cook right waitre...   \n",
       "\n",
       "                                    text_prep_tokens  word_len_prep  \\\n",
       "0  ['arrived', 'reservation', 'pm', 'seat', '-PRO...             27   \n",
       "1  ['receive', 'amazing', 'service', 'food', 'coo...             10   \n",
       "\n",
       "                                       text_prep_lim  \\\n",
       "0  arrived reservation pm seat right time restura...   \n",
       "1  receive amazing service food cook right waitre...   \n",
       "\n",
       "                                text_prep_lim_tokens  word_len_prep_lim  \n",
       "0  ['arrived', 'reservation', 'pm', 'seat', 'righ...                 25  \n",
       "1  ['receive', 'amazing', 'service', 'food', 'coo...                  9  "
      ]
     },
     "execution_count": 4,
     "metadata": {},
     "output_type": "execute_result"
    }
   ],
   "source": [
    "url = 'https://github.com/berinde/curs-analiza-datelor-complexe/blob/main/data/input/3.input_data_prepped_bow.csv?raw=True'\n",
    "reviews = pd.read_csv(url)\n",
    "reviews.head(2)"
   ]
  },
  {
   "cell_type": "code",
   "execution_count": null,
   "metadata": {
    "id": "YLNGQtOJ6nFd"
   },
   "outputs": [],
   "source": [
    "# Numarul de valori nule pentru fiecare coloana\n",
    "reviews.isnull().sum()"
   ]
  },
  {
   "cell_type": "code",
   "execution_count": null,
   "metadata": {
    "id": "Y4b5wOO45ZM7"
   },
   "outputs": [],
   "source": [
    "# Convertim in string\n",
    "reviews['text_prep'] = reviews['text_prep'].astype(str)\n",
    "reviews['text_prep_lim'] = reviews['text_prep_lim'].astype(str)"
   ]
  },
  {
   "cell_type": "code",
   "execution_count": null,
   "metadata": {
    "id": "O4xXq6JD64gs"
   },
   "outputs": [],
   "source": [
    "reviews.isnull().sum()"
   ]
  },
  {
   "cell_type": "markdown",
   "metadata": {
    "id": "Jw3X8Ybz7H8U"
   },
   "source": [
    "# TF-IDF (term frequency - inverse document frequency)\n",
    "*   TF-IDF = TF*IDF\n",
    "*   TF = # de aparitii ale cuv. X in doc Y / # tot. de cuv. in doc Y\n",
    "*   IDF = ln(# total de doc / # de doc. care contin Y)\n",
    "\n",
    "\n",
    "Cu cat cuvantul este mai rar, cu atat TF-IDF este mai mare\n",
    "\n",
    "\n"
   ]
  },
  {
   "cell_type": "code",
   "execution_count": null,
   "metadata": {
    "id": "qU9ZCxWC65sY"
   },
   "outputs": [],
   "source": [
    "# Vom considera doar top 6000 cuvinte\n",
    "vec = TfidfVectorizer(max_features=6000)\n",
    "\n",
    "tf_idf = vec.fit_transform(reviews['text_prep'])\n",
    "lista_cuvinte = vec.get_feature_names_out()\n",
    "\n",
    "dtm_tf_idf = pd.DataFrame(tf_idf.toarray(),\n",
    "                          columns=lista_cuvinte)\n",
    "dtm_tf_idf.head(2)"
   ]
  },
  {
   "cell_type": "code",
   "execution_count": null,
   "metadata": {
    "id": "u_S5gVBs8iR6"
   },
   "outputs": [],
   "source": [
    "dtm_tf_idf['order']"
   ]
  },
  {
   "cell_type": "code",
   "execution_count": null,
   "metadata": {
    "id": "ZhSvOI5J8t4X"
   },
   "outputs": [],
   "source": [
    "dtm_tf_idf['food']"
   ]
  },
  {
   "cell_type": "code",
   "execution_count": null,
   "metadata": {
    "id": "E_mshrKb88II"
   },
   "outputs": [],
   "source": [
    "reviews['text_prep'].iloc[0]"
   ]
  },
  {
   "cell_type": "code",
   "execution_count": null,
   "metadata": {
    "id": "G6A52wlt9N5O"
   },
   "outputs": [],
   "source": [
    "reviews['text_prep'].iloc[4]"
   ]
  }
 ],
 "metadata": {
  "colab": {
   "provenance": []
  },
  "kernelspec": {
   "display_name": "nlp_py_310",
   "language": "python",
   "name": "nlp_py_310"
  },
  "language_info": {
   "codemirror_mode": {
    "name": "ipython",
    "version": 3
   },
   "file_extension": ".py",
   "mimetype": "text/x-python",
   "name": "python",
   "nbconvert_exporter": "python",
   "pygments_lexer": "ipython3",
   "version": "3.10.13"
  }
 },
 "nbformat": 4,
 "nbformat_minor": 4
}
