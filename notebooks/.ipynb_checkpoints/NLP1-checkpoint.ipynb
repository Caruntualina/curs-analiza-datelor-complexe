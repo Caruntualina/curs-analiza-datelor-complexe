{
 "cells": [
  {
   "cell_type": "markdown",
   "metadata": {
    "id": "oZnaUKAV_Acn"
   },
   "source": [
    "# Importing Libraries"
   ]
  },
  {
   "cell_type": "code",
   "execution_count": null,
   "metadata": {
    "id": "tjgtMVLFRVpx"
   },
   "outputs": [],
   "source": [
    "pip install contractions"
   ]
  },
  {
   "cell_type": "code",
   "execution_count": 3,
   "metadata": {
    "id": "fv4wU1QT_xt9"
   },
   "outputs": [
    {
     "name": "stderr",
     "output_type": "stream",
     "text": [
      "/tmp/ipykernel_37242/1150889379.py:1: DeprecationWarning: \n",
      "Pyarrow will become a required dependency of pandas in the next major release of pandas (pandas 3.0),\n",
      "(to allow more performant data types, such as the Arrow string type, and better interoperability with other libraries)\n",
      "but was not found to be installed on your system.\n",
      "If this would cause problems for you,\n",
      "please provide us feedback at https://github.com/pandas-dev/pandas/issues/54466\n",
      "        \n",
      "  import pandas as pd\n",
      "[nltk_data] Downloading package stopwords to\n",
      "[nltk_data]     /Users/mariaberinde/nltk_data...\n",
      "[nltk_data]   Package stopwords is already up-to-date!\n",
      "[nltk_data] Downloading package punkt to\n",
      "[nltk_data]     /Users/mariaberinde/nltk_data...\n",
      "[nltk_data]   Package punkt is already up-to-date!\n"
     ]
    }
   ],
   "source": [
    "import pandas as pd\n",
    "import numpy as np\n",
    "\n",
    "# pentru grafice\n",
    "import matplotlib.pyplot as plt\n",
    "\n",
    "# forme scurte (contractions)\n",
    "import contractions\n",
    "\n",
    "# natural language toolkit\n",
    "import nltk\n",
    "\n",
    "# cuvinte comune (stopwords)\n",
    "nltk.download('stopwords')\n",
    "from nltk.corpus import stopwords\n",
    "\n",
    "# impartirea documentului in cuvinte (tokenization)\n",
    "nltk.download('punkt')\n",
    "from nltk.tokenize import word_tokenize\n",
    "\n",
    "# lemmatization (eliminarea pluralui / derivatelor cuvantului)\n",
    "import spacy\n",
    "nlp = spacy.load('en_core_web_sm')\n",
    "\n",
    "# regex\n",
    "import re"
   ]
  },
  {
   "cell_type": "markdown",
   "metadata": {
    "id": "Q1fpcJicASJr"
   },
   "source": [
    "# Reading Data"
   ]
  },
  {
   "cell_type": "code",
   "execution_count": 8,
   "metadata": {
    "id": "kzrySSAUALdS"
   },
   "outputs": [
    {
     "data": {
      "text/html": [
       "<div>\n",
       "<style scoped>\n",
       "    .dataframe tbody tr th:only-of-type {\n",
       "        vertical-align: middle;\n",
       "    }\n",
       "\n",
       "    .dataframe tbody tr th {\n",
       "        vertical-align: top;\n",
       "    }\n",
       "\n",
       "    .dataframe thead th {\n",
       "        text-align: right;\n",
       "    }\n",
       "</style>\n",
       "<table border=\"1\" class=\"dataframe\">\n",
       "  <thead>\n",
       "    <tr style=\"text-align: right;\">\n",
       "      <th></th>\n",
       "      <th>rest_id</th>\n",
       "      <th>text</th>\n",
       "      <th>rating</th>\n",
       "    </tr>\n",
       "  </thead>\n",
       "  <tbody>\n",
       "    <tr>\n",
       "      <th>0</th>\n",
       "      <td>yGMCl0vYigshkXiZFIDTNw</td>\n",
       "      <td>We arrived for our reservation at 7:15pm.  The...</td>\n",
       "      <td>4.0</td>\n",
       "    </tr>\n",
       "    <tr>\n",
       "      <th>1</th>\n",
       "      <td>yGMCl0vYigshkXiZFIDTNw</td>\n",
       "      <td>BOGO....I find that when a server is inefficie...</td>\n",
       "      <td>3.0</td>\n",
       "    </tr>\n",
       "    <tr>\n",
       "      <th>2</th>\n",
       "      <td>yGMCl0vYigshkXiZFIDTNw</td>\n",
       "      <td>We received amazing service again. The food wa...</td>\n",
       "      <td>5.0</td>\n",
       "    </tr>\n",
       "    <tr>\n",
       "      <th>3</th>\n",
       "      <td>yGMCl0vYigshkXiZFIDTNw</td>\n",
       "      <td>Breakfast was delicious and waitress was aweso...</td>\n",
       "      <td>5.0</td>\n",
       "    </tr>\n",
       "    <tr>\n",
       "      <th>4</th>\n",
       "      <td>yGMCl0vYigshkXiZFIDTNw</td>\n",
       "      <td>We have eaten here twice, for lunch. The first...</td>\n",
       "      <td>4.0</td>\n",
       "    </tr>\n",
       "  </tbody>\n",
       "</table>\n",
       "</div>"
      ],
      "text/plain": [
       "                  rest_id                                               text  \\\n",
       "0  yGMCl0vYigshkXiZFIDTNw  We arrived for our reservation at 7:15pm.  The...   \n",
       "1  yGMCl0vYigshkXiZFIDTNw  BOGO....I find that when a server is inefficie...   \n",
       "2  yGMCl0vYigshkXiZFIDTNw  We received amazing service again. The food wa...   \n",
       "3  yGMCl0vYigshkXiZFIDTNw  Breakfast was delicious and waitress was aweso...   \n",
       "4  yGMCl0vYigshkXiZFIDTNw  We have eaten here twice, for lunch. The first...   \n",
       "\n",
       "   rating  \n",
       "0     4.0  \n",
       "1     3.0  \n",
       "2     5.0  \n",
       "3     5.0  \n",
       "4     4.0  "
      ]
     },
     "execution_count": 8,
     "metadata": {},
     "output_type": "execute_result"
    }
   ],
   "source": [
    "url = 'https://github.com/berinde/curs-analiza-datelor-complexe/blob/main/data/input/1.input_data.csv?raw=True'\n",
    "reviews = pd.read_csv(url)\n",
    "reviews.head()"
   ]
  },
  {
   "cell_type": "code",
   "execution_count": null,
   "metadata": {
    "id": "QIe3yo7AAo3r"
   },
   "outputs": [],
   "source": [
    "reviews.dtypes"
   ]
  },
  {
   "cell_type": "code",
   "execution_count": null,
   "metadata": {
    "id": "E5fPGoSaBgLR"
   },
   "outputs": [],
   "source": [
    "reviews.describe(include='all')"
   ]
  },
  {
   "cell_type": "code",
   "execution_count": null,
   "metadata": {
    "id": "vDS3wzlnCKT4"
   },
   "outputs": [],
   "source": [
    "reviews['rating'].value_counts()"
   ]
  },
  {
   "cell_type": "code",
   "execution_count": null,
   "metadata": {
    "id": "YZKzhNb1Fw6J"
   },
   "outputs": [],
   "source": [
    "reviews['rating'].value_counts().sort_index()"
   ]
  },
  {
   "cell_type": "code",
   "execution_count": null,
   "metadata": {
    "id": "azRR5I5OGIJO"
   },
   "outputs": [],
   "source": [
    "reviews['rating'].value_counts().sort_index().plot(kind='bar')"
   ]
  },
  {
   "cell_type": "code",
   "execution_count": null,
   "metadata": {
    "id": "wh7PJv-JGVc_"
   },
   "outputs": [],
   "source": [
    "fig = reviews['rating'].value_counts().sort_index().plot(kind='bar')\n",
    "\n",
    "fig.set_title('Frecventa rating-urilor')\n",
    "fig.set_xlabel('Rating')\n",
    "fig.set_ylabel('Frecventa')"
   ]
  },
  {
   "cell_type": "code",
   "execution_count": null,
   "metadata": {
    "id": "JlDOO_j5G6ga"
   },
   "outputs": [],
   "source": [
    "print(reviews.dtypes)\n",
    "reviews['rating'] = reviews['rating'].astype(int)\n",
    "print(reviews.dtypes)"
   ]
  },
  {
   "cell_type": "code",
   "execution_count": null,
   "metadata": {
    "id": "yrYApPKKHUGr"
   },
   "outputs": [],
   "source": [
    "reviews.head(2)"
   ]
  },
  {
   "cell_type": "code",
   "execution_count": null,
   "metadata": {
    "id": "NJxcn8n2Hjbe"
   },
   "outputs": [],
   "source": [
    "reviews.iloc[0, 1]"
   ]
  },
  {
   "cell_type": "code",
   "execution_count": null,
   "metadata": {
    "id": "qfubhK6-H0wl"
   },
   "outputs": [],
   "source": [
    "reviews['text'].iloc[0]"
   ]
  },
  {
   "cell_type": "code",
   "execution_count": null,
   "metadata": {
    "id": "GFjg4vHTIA4c"
   },
   "outputs": [],
   "source": [
    "reviews.iloc[300, 1]"
   ]
  },
  {
   "cell_type": "code",
   "execution_count": null,
   "metadata": {
    "id": "WwTkdC3uINqL"
   },
   "outputs": [],
   "source": [
    "reviews[300:301]"
   ]
  },
  {
   "cell_type": "code",
   "execution_count": null,
   "metadata": {
    "id": "MgUgyjmBIVsI"
   },
   "outputs": [],
   "source": [
    "# numarul de caractere din recenzia 301\n",
    "len(reviews.iloc[300, 1])"
   ]
  },
  {
   "cell_type": "code",
   "execution_count": null,
   "metadata": {
    "id": "EzKXkmBfIkdR"
   },
   "outputs": [],
   "source": [
    "reviews['nr_caractere'] = reviews['text'].apply(len)\n",
    "reviews.head()"
   ]
  },
  {
   "cell_type": "code",
   "execution_count": null,
   "metadata": {
    "id": "6eBAQF7RJB_7"
   },
   "outputs": [],
   "source": [
    "reviews['nr_caractere'].describe()"
   ]
  },
  {
   "cell_type": "code",
   "execution_count": null,
   "metadata": {
    "id": "b2TNtE9OJjFQ"
   },
   "outputs": [],
   "source": [
    "# dataframe cu toate recenziile care au rating 3\n",
    "reviews[reviews['rating']==3]"
   ]
  },
  {
   "cell_type": "code",
   "execution_count": null,
   "metadata": {
    "id": "JwJwVGsKLCET"
   },
   "outputs": [],
   "source": [
    "print(len(reviews))\n",
    "# Eliminam recenziile cu rating = 3\n",
    "reviews = reviews[reviews['rating']!=3].reset_index(drop=True)\n",
    "print(len(reviews))"
   ]
  },
  {
   "cell_type": "code",
   "execution_count": null,
   "metadata": {
    "id": "4ZrWmSpJL3wP"
   },
   "outputs": [],
   "source": [
    "# Adaugam coloana positive, care are valoarea 1 daca rating-ul este >3 (4, 5) \n",
    "# si valoarea 0 daca rating-ul este <3 (1,2)\n",
    "reviews['positive'] = np.where(reviews['rating']>3, 1, 0)\n",
    "reviews.tail(6)"
   ]
  },
  {
   "cell_type": "code",
   "execution_count": null,
   "metadata": {
    "id": "chV_kgMRMWm0"
   },
   "outputs": [],
   "source": [
    "reviews['positive'].describe()"
   ]
  },
  {
   "cell_type": "code",
   "execution_count": null,
   "metadata": {
    "id": "9ghjyWUeNSiw"
   },
   "outputs": [],
   "source": [
    "print('Nr. de recenzii pozitive', len(reviews[reviews['positive']==1]))\n",
    "print('Nr. de recenzii negative', len(reviews[reviews['positive']==0]))"
   ]
  },
  {
   "cell_type": "code",
   "execution_count": null,
   "metadata": {
    "id": "39s5HTvVNrW6"
   },
   "outputs": [],
   "source": [
    "reviews['positive'].value_counts()"
   ]
  },
  {
   "cell_type": "markdown",
   "metadata": {
    "id": "IWZeKflbPHPG"
   },
   "source": [
    "## Lists"
   ]
  },
  {
   "cell_type": "code",
   "execution_count": null,
   "metadata": {
    "id": "zk6aGZo3OFy_"
   },
   "outputs": [],
   "source": [
    "list1 = [1, 2, 3]\n",
    "list2 = [1, 5, 6]"
   ]
  },
  {
   "cell_type": "code",
   "execution_count": null,
   "metadata": {
    "id": "xEvbUJJOPRy4"
   },
   "outputs": [],
   "source": [
    "# Toate elementele din list1 care nu sunt in list2\n",
    "[element for element in list1 if element not in list2]"
   ]
  },
  {
   "cell_type": "markdown",
   "metadata": {
    "id": "ltD8VKm9P7OV"
   },
   "source": [
    "# Text Normalization\n",
    "*   vom converti textul in text scris cu litera mica\n",
    "*   vom folosi contractions (don't -> do not)\n",
    "*   vom imparti documentul in cuvinte (tokenization)\n",
    "*   vom inlatura cuvintele comune (stopwords: the, a, to, etc.)\n",
    "*   vom reduce cuvantul la lema (lemmatization)\n",
    "\n",
    "\n",
    "\n",
    "\n",
    "\n"
   ]
  },
  {
   "cell_type": "code",
   "execution_count": null,
   "metadata": {
    "id": "SpPdOFwRQoHt"
   },
   "outputs": [],
   "source": [
    "recenzie_test = reviews['text'].iloc[0]\n",
    "recenzie_test"
   ]
  },
  {
   "cell_type": "code",
   "execution_count": null,
   "metadata": {
    "id": "9w4dHq79QoQa"
   },
   "outputs": [],
   "source": [
    "# Convertim textul in text scris cu litera mica\n",
    "text_procesat = recenzie_test.lower()\n",
    "text_procesat"
   ]
  },
  {
   "cell_type": "code",
   "execution_count": null,
   "metadata": {
    "id": "rrpiHhA2QoSt"
   },
   "outputs": [],
   "source": [
    "# Contractions\n",
    "contractions.fix(\"can't won't don't cannot doesn't\")"
   ]
  },
  {
   "cell_type": "code",
   "execution_count": null,
   "metadata": {
    "id": "NYzn6WR9PTGf"
   },
   "outputs": [],
   "source": [
    "# Impartim recenzia (document) in cuvinte\n",
    "text_procesat_2 = nltk.word_tokenize(text_procesat)\n",
    "text_procesat_2[0:5]"
   ]
  },
  {
   "cell_type": "code",
   "execution_count": null,
   "metadata": {
    "id": "mn9ArznVTMIw"
   },
   "outputs": [],
   "source": [
    "# Cream o lista cu cuvintele comune\n",
    "cuv_comune = stopwords.words('english')\n",
    "print(len(cuv_comune))\n",
    "cuv_comune[0:10]"
   ]
  },
  {
   "cell_type": "code",
   "execution_count": null,
   "metadata": {
    "id": "r64ArXRATziK"
   },
   "outputs": [],
   "source": [
    "# Inlaturam cuvintele comune din text_procesat_2\n",
    "print(len(text_procesat_2))\n",
    "text_procesat_3 = [element for element in text_procesat_2 if element not in cuv_comune]\n",
    "print(len(text_procesat_3))\n",
    "text_procesat_3[0:5]"
   ]
  },
  {
   "cell_type": "code",
   "execution_count": null,
   "metadata": {
    "id": "K7t2zqALUhOR"
   },
   "outputs": [],
   "source": [
    "# Transformam lista inapoi in propozitie\n",
    "text_procesat_4 = \" \".join(text_procesat_3)\n",
    "text_procesat_4"
   ]
  },
  {
   "cell_type": "code",
   "execution_count": null,
   "metadata": {
    "id": "-3G2n_ISVWGu"
   },
   "outputs": [],
   "source": [
    "# Reducem fiecare cuvant la lema sa\n",
    "text_procesat_5 = \" \".join([word.lemma_ for word in nlp(text_procesat_4)])\n",
    "text_procesat_5"
   ]
  },
  {
   "cell_type": "code",
   "execution_count": null,
   "metadata": {
    "id": "8UZA6Rz0FZrQ"
   },
   "outputs": [],
   "source": [
    "reviews.head()"
   ]
  },
  {
   "cell_type": "code",
   "execution_count": null,
   "metadata": {
    "id": "2RfBQONtFag5"
   },
   "outputs": [],
   "source": [
    "def preprocesare_text(document):\n",
    "    # Convertim textul in text scris cu litera mica\n",
    "    document = document.lower()\n",
    "    # Inlocuim formele scurte (contractions)\n",
    "    document = contractions.fix(document)\n",
    "    # Regex\n",
    "    # ^ = NOT\n",
    "    document = re.sub(r'[^\\w\\s]', ' ', document)\n",
    "    document = re.sub(r'[^a-z ]', '', document)\n",
    "    # Impartim documentul in cuvinte (tokenization)\n",
    "    document = word_tokenize(document)\n",
    "    # Inlaturam cuvintele comune (stopwords)\n",
    "    cuv_comune = stopwords.words('english')\n",
    "    document = [element for element in document if element not in cuv_comune]\n",
    "    # Convertim din lista de cuvinte in string\n",
    "    document = \" \".join(document)\n",
    "    # Reducem cuvantul la lema sa (Lemmatization)\n",
    "    document = \" \".join([word.lemma_ for word in nlp(document)])\n",
    "\n",
    "    return document"
   ]
  },
  {
   "cell_type": "code",
   "execution_count": null,
   "metadata": {
    "id": "uxqmCG5lIwxH"
   },
   "outputs": [],
   "source": [
    "print('Recenzia Initiala:', recenzie_test)\n",
    "print('')\n",
    "print('Recenzia Procesata:', preprocesare_text(recenzie_test))"
   ]
  },
  {
   "cell_type": "code",
   "execution_count": null,
   "metadata": {
    "id": "G3Pgv1HUI5gg"
   },
   "outputs": [],
   "source": [
    "reviews.head(2)"
   ]
  },
  {
   "cell_type": "code",
   "execution_count": null,
   "metadata": {
    "id": "po7BClggJZDH"
   },
   "outputs": [],
   "source": [
    "reviews['text_prep'] = reviews['text'].apply(preprocesare_text)\n",
    "reviews.head(2)"
   ]
  },
  {
   "cell_type": "code",
   "execution_count": null,
   "metadata": {
    "id": "sq6_CPfkJkPB"
   },
   "outputs": [],
   "source": [
    "reviews.to_csv('recenzii_procesate.csv', index=False)"
   ]
  },
  {
   "cell_type": "code",
   "execution_count": null,
   "metadata": {
    "id": "AFm2LUC0KSnt"
   },
   "outputs": [],
   "source": []
  }
 ],
 "metadata": {
  "colab": {
   "provenance": []
  },
  "kernelspec": {
   "display_name": "nlp_py_310",
   "language": "python",
   "name": "nlp_py_310"
  },
  "language_info": {
   "codemirror_mode": {
    "name": "ipython",
    "version": 3
   },
   "file_extension": ".py",
   "mimetype": "text/x-python",
   "name": "python",
   "nbconvert_exporter": "python",
   "pygments_lexer": "ipython3",
   "version": "3.10.13"
  }
 },
 "nbformat": 4,
 "nbformat_minor": 4
}
