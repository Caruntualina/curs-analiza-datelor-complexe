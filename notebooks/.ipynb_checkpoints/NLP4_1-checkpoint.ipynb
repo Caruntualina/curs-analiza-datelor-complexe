{
 "cells": [
  {
   "cell_type": "markdown",
   "metadata": {
    "id": "h_mynntn7Qtz"
   },
   "source": [
    "# Importing Libraries"
   ]
  },
  {
   "cell_type": "code",
   "execution_count": 1,
   "metadata": {
    "id": "XpatzkKo7OvP",
    "tags": []
   },
   "outputs": [
    {
     "name": "stderr",
     "output_type": "stream",
     "text": [
      "[nltk_data] Downloading package punkt to\n",
      "[nltk_data]     /Users/mariaberinde/nltk_data...\n",
      "[nltk_data]   Package punkt is already up-to-date!\n"
     ]
    }
   ],
   "source": [
    "import pandas as pd\n",
    "import numpy as np\n",
    "\n",
    "# Impartirea setului de date in train & test\n",
    "from sklearn.model_selection import train_test_split\n",
    "\n",
    "# Pentru alg. de clasificare fol. Log. Reg.\n",
    "from sklearn.linear_model import LogisticRegression\n",
    "\n",
    "# Evaluarea Performantei\n",
    "from sklearn.metrics import classification_report\n",
    "\n",
    "# Tokenization\n",
    "import nltk\n",
    "nltk.download('punkt')\n",
    "from nltk.tokenize import word_tokenize\n",
    "\n",
    "# Salvarea modelului\n",
    "import pickle"
   ]
  },
  {
   "cell_type": "markdown",
   "metadata": {
    "id": "B1GpdRKx8SGn"
   },
   "source": [
    "# Citirea datelor"
   ]
  },
  {
   "cell_type": "code",
   "execution_count": 2,
   "metadata": {
    "tags": []
   },
   "outputs": [
    {
     "data": {
      "text/html": [
       "<div>\n",
       "<style scoped>\n",
       "    .dataframe tbody tr th:only-of-type {\n",
       "        vertical-align: middle;\n",
       "    }\n",
       "\n",
       "    .dataframe tbody tr th {\n",
       "        vertical-align: top;\n",
       "    }\n",
       "\n",
       "    .dataframe thead th {\n",
       "        text-align: right;\n",
       "    }\n",
       "</style>\n",
       "<table border=\"1\" class=\"dataframe\">\n",
       "  <thead>\n",
       "    <tr style=\"text-align: right;\">\n",
       "      <th></th>\n",
       "      <th>rest_id</th>\n",
       "      <th>text</th>\n",
       "      <th>rating</th>\n",
       "      <th>char_count</th>\n",
       "      <th>positive</th>\n",
       "      <th>text_prep</th>\n",
       "      <th>text_prep_tokens</th>\n",
       "      <th>word_len_prep</th>\n",
       "      <th>text_prep_lim</th>\n",
       "      <th>text_prep_lim_tokens</th>\n",
       "      <th>word_len_prep_lim</th>\n",
       "    </tr>\n",
       "  </thead>\n",
       "  <tbody>\n",
       "    <tr>\n",
       "      <th>0</th>\n",
       "      <td>yGMCl0vYigshkXiZFIDTNw</td>\n",
       "      <td>We arrived for our reservation at 7:15pm.  The...</td>\n",
       "      <td>4</td>\n",
       "      <td>302</td>\n",
       "      <td>1</td>\n",
       "      <td>arrived reservation pm seat -PRON- right time ...</td>\n",
       "      <td>['arrived', 'reservation', 'pm', 'seat', '-PRO...</td>\n",
       "      <td>27</td>\n",
       "      <td>arrived reservation pm seat right time restura...</td>\n",
       "      <td>['arrived', 'reservation', 'pm', 'seat', 'righ...</td>\n",
       "      <td>25</td>\n",
       "    </tr>\n",
       "    <tr>\n",
       "      <th>1</th>\n",
       "      <td>yGMCl0vYigshkXiZFIDTNw</td>\n",
       "      <td>We received amazing service again. The food wa...</td>\n",
       "      <td>5</td>\n",
       "      <td>111</td>\n",
       "      <td>1</td>\n",
       "      <td>receive amazing service food cook right waitre...</td>\n",
       "      <td>['receive', 'amazing', 'service', 'food', 'coo...</td>\n",
       "      <td>10</td>\n",
       "      <td>receive amazing service food cook right waitre...</td>\n",
       "      <td>['receive', 'amazing', 'service', 'food', 'coo...</td>\n",
       "      <td>9</td>\n",
       "    </tr>\n",
       "  </tbody>\n",
       "</table>\n",
       "</div>"
      ],
      "text/plain": [
       "                  rest_id                                               text  \\\n",
       "0  yGMCl0vYigshkXiZFIDTNw  We arrived for our reservation at 7:15pm.  The...   \n",
       "1  yGMCl0vYigshkXiZFIDTNw  We received amazing service again. The food wa...   \n",
       "\n",
       "   rating  char_count  positive  \\\n",
       "0       4         302         1   \n",
       "1       5         111         1   \n",
       "\n",
       "                                           text_prep  \\\n",
       "0  arrived reservation pm seat -PRON- right time ...   \n",
       "1  receive amazing service food cook right waitre...   \n",
       "\n",
       "                                    text_prep_tokens  word_len_prep  \\\n",
       "0  ['arrived', 'reservation', 'pm', 'seat', '-PRO...             27   \n",
       "1  ['receive', 'amazing', 'service', 'food', 'coo...             10   \n",
       "\n",
       "                                       text_prep_lim  \\\n",
       "0  arrived reservation pm seat right time restura...   \n",
       "1  receive amazing service food cook right waitre...   \n",
       "\n",
       "                                text_prep_lim_tokens  word_len_prep_lim  \n",
       "0  ['arrived', 'reservation', 'pm', 'seat', 'righ...                 25  \n",
       "1  ['receive', 'amazing', 'service', 'food', 'coo...                  9  "
      ]
     },
     "execution_count": 2,
     "metadata": {},
     "output_type": "execute_result"
    }
   ],
   "source": [
    "url = 'https://github.com/berinde/curs-analiza-datelor-complexe/blob/main/data/input/3.input_data_prepped_bow.csv?raw=True'\n",
    "reviews = pd.read_csv(url)\n",
    "reviews.head(2)"
   ]
  },
  {
   "cell_type": "code",
   "execution_count": 3,
   "metadata": {
    "id": "D7Z1L-ZK8kn0"
   },
   "outputs": [
    {
     "data": {
      "text/plain": [
       "(9365, 11)"
      ]
     },
     "execution_count": 3,
     "metadata": {},
     "output_type": "execute_result"
    }
   ],
   "source": [
    "reviews.shape"
   ]
  },
  {
   "cell_type": "code",
   "execution_count": 4,
   "metadata": {
    "id": "ytXuisBP9WSv"
   },
   "outputs": [],
   "source": [
    "url = 'https://github.com/berinde/curs-analiza-datelor-complexe/blob/main/data/input/dtm_1_bow.parquet?raw=True'\n",
    "dtm_bow = pd.read_parquet(url)"
   ]
  },
  {
   "cell_type": "code",
   "execution_count": 5,
   "metadata": {
    "id": "KmpS2TjR9xtr"
   },
   "outputs": [
    {
     "data": {
      "text/plain": [
       "(9365, 6000)"
      ]
     },
     "execution_count": 5,
     "metadata": {},
     "output_type": "execute_result"
    }
   ],
   "source": [
    "dtm_bow.shape"
   ]
  },
  {
   "cell_type": "code",
   "execution_count": 6,
   "metadata": {
    "id": "whtM_ZYf98Mv"
   },
   "outputs": [
    {
     "data": {
      "text/html": [
       "<div>\n",
       "<style scoped>\n",
       "    .dataframe tbody tr th:only-of-type {\n",
       "        vertical-align: middle;\n",
       "    }\n",
       "\n",
       "    .dataframe tbody tr th {\n",
       "        vertical-align: top;\n",
       "    }\n",
       "\n",
       "    .dataframe thead th {\n",
       "        text-align: right;\n",
       "    }\n",
       "</style>\n",
       "<table border=\"1\" class=\"dataframe\">\n",
       "  <thead>\n",
       "    <tr style=\"text-align: right;\">\n",
       "      <th></th>\n",
       "      <th>aaabar</th>\n",
       "      <th>aaron</th>\n",
       "      <th>abacus</th>\n",
       "      <th>ability</th>\n",
       "      <th>able</th>\n",
       "      <th>absolute</th>\n",
       "      <th>absolutely</th>\n",
       "      <th>absurd</th>\n",
       "      <th>abundance</th>\n",
       "      <th>abundant</th>\n",
       "      <th>...</th>\n",
       "      <th>zero</th>\n",
       "      <th>zesty</th>\n",
       "      <th>zillion</th>\n",
       "      <th>zipps</th>\n",
       "      <th>ziti</th>\n",
       "      <th>zoe</th>\n",
       "      <th>zone</th>\n",
       "      <th>zucchini</th>\n",
       "      <th>zuchinni</th>\n",
       "      <th>zupa</th>\n",
       "    </tr>\n",
       "  </thead>\n",
       "  <tbody>\n",
       "    <tr>\n",
       "      <th>0</th>\n",
       "      <td>0</td>\n",
       "      <td>0</td>\n",
       "      <td>0</td>\n",
       "      <td>0</td>\n",
       "      <td>0</td>\n",
       "      <td>0</td>\n",
       "      <td>0</td>\n",
       "      <td>0</td>\n",
       "      <td>0</td>\n",
       "      <td>0</td>\n",
       "      <td>...</td>\n",
       "      <td>0</td>\n",
       "      <td>0</td>\n",
       "      <td>0</td>\n",
       "      <td>0</td>\n",
       "      <td>0</td>\n",
       "      <td>0</td>\n",
       "      <td>0</td>\n",
       "      <td>0</td>\n",
       "      <td>0</td>\n",
       "      <td>0</td>\n",
       "    </tr>\n",
       "    <tr>\n",
       "      <th>1</th>\n",
       "      <td>0</td>\n",
       "      <td>0</td>\n",
       "      <td>0</td>\n",
       "      <td>0</td>\n",
       "      <td>0</td>\n",
       "      <td>0</td>\n",
       "      <td>0</td>\n",
       "      <td>0</td>\n",
       "      <td>0</td>\n",
       "      <td>0</td>\n",
       "      <td>...</td>\n",
       "      <td>0</td>\n",
       "      <td>0</td>\n",
       "      <td>0</td>\n",
       "      <td>0</td>\n",
       "      <td>0</td>\n",
       "      <td>0</td>\n",
       "      <td>0</td>\n",
       "      <td>0</td>\n",
       "      <td>0</td>\n",
       "      <td>0</td>\n",
       "    </tr>\n",
       "  </tbody>\n",
       "</table>\n",
       "<p>2 rows × 6000 columns</p>\n",
       "</div>"
      ],
      "text/plain": [
       "   aaabar  aaron  abacus  ability  able  absolute  absolutely  absurd  \\\n",
       "0       0      0       0        0     0         0           0       0   \n",
       "1       0      0       0        0     0         0           0       0   \n",
       "\n",
       "   abundance  abundant  ...  zero  zesty  zillion  zipps  ziti  zoe  zone  \\\n",
       "0          0         0  ...     0      0        0      0     0    0     0   \n",
       "1          0         0  ...     0      0        0      0     0    0     0   \n",
       "\n",
       "   zucchini  zuchinni  zupa  \n",
       "0         0         0     0  \n",
       "1         0         0     0  \n",
       "\n",
       "[2 rows x 6000 columns]"
      ]
     },
     "execution_count": 6,
     "metadata": {},
     "output_type": "execute_result"
    }
   ],
   "source": [
    "dtm_bow.head(2)"
   ]
  },
  {
   "cell_type": "code",
   "execution_count": 7,
   "metadata": {
    "id": "rJs6LkEG9-on"
   },
   "outputs": [
    {
     "data": {
      "text/html": [
       "<div>\n",
       "<style scoped>\n",
       "    .dataframe tbody tr th:only-of-type {\n",
       "        vertical-align: middle;\n",
       "    }\n",
       "\n",
       "    .dataframe tbody tr th {\n",
       "        vertical-align: top;\n",
       "    }\n",
       "\n",
       "    .dataframe thead th {\n",
       "        text-align: right;\n",
       "    }\n",
       "</style>\n",
       "<table border=\"1\" class=\"dataframe\">\n",
       "  <thead>\n",
       "    <tr style=\"text-align: right;\">\n",
       "      <th></th>\n",
       "      <th>aaabar</th>\n",
       "      <th>aaron</th>\n",
       "      <th>abacus</th>\n",
       "      <th>ability</th>\n",
       "      <th>able</th>\n",
       "      <th>absolute</th>\n",
       "      <th>absolutely</th>\n",
       "      <th>absurd</th>\n",
       "      <th>abundance</th>\n",
       "      <th>abundant</th>\n",
       "      <th>...</th>\n",
       "      <th>zesty</th>\n",
       "      <th>zillion</th>\n",
       "      <th>zipps</th>\n",
       "      <th>ziti</th>\n",
       "      <th>zoe</th>\n",
       "      <th>zone</th>\n",
       "      <th>zucchini</th>\n",
       "      <th>zuchinni</th>\n",
       "      <th>zupa</th>\n",
       "      <th>zupas</th>\n",
       "    </tr>\n",
       "  </thead>\n",
       "  <tbody>\n",
       "    <tr>\n",
       "      <th>0</th>\n",
       "      <td>0.0</td>\n",
       "      <td>0.0</td>\n",
       "      <td>0.0</td>\n",
       "      <td>0.0</td>\n",
       "      <td>0.0</td>\n",
       "      <td>0.0</td>\n",
       "      <td>0.0</td>\n",
       "      <td>0.0</td>\n",
       "      <td>0.0</td>\n",
       "      <td>0.0</td>\n",
       "      <td>...</td>\n",
       "      <td>0.0</td>\n",
       "      <td>0.0</td>\n",
       "      <td>0.0</td>\n",
       "      <td>0.0</td>\n",
       "      <td>0.0</td>\n",
       "      <td>0.0</td>\n",
       "      <td>0.0</td>\n",
       "      <td>0.0</td>\n",
       "      <td>0.0</td>\n",
       "      <td>0.0</td>\n",
       "    </tr>\n",
       "    <tr>\n",
       "      <th>1</th>\n",
       "      <td>0.0</td>\n",
       "      <td>0.0</td>\n",
       "      <td>0.0</td>\n",
       "      <td>0.0</td>\n",
       "      <td>0.0</td>\n",
       "      <td>0.0</td>\n",
       "      <td>0.0</td>\n",
       "      <td>0.0</td>\n",
       "      <td>0.0</td>\n",
       "      <td>0.0</td>\n",
       "      <td>...</td>\n",
       "      <td>0.0</td>\n",
       "      <td>0.0</td>\n",
       "      <td>0.0</td>\n",
       "      <td>0.0</td>\n",
       "      <td>0.0</td>\n",
       "      <td>0.0</td>\n",
       "      <td>0.0</td>\n",
       "      <td>0.0</td>\n",
       "      <td>0.0</td>\n",
       "      <td>0.0</td>\n",
       "    </tr>\n",
       "  </tbody>\n",
       "</table>\n",
       "<p>2 rows × 5999 columns</p>\n",
       "</div>"
      ],
      "text/plain": [
       "   aaabar  aaron  abacus  ability  able  absolute  absolutely  absurd  \\\n",
       "0     0.0    0.0     0.0      0.0   0.0       0.0         0.0     0.0   \n",
       "1     0.0    0.0     0.0      0.0   0.0       0.0         0.0     0.0   \n",
       "\n",
       "   abundance  abundant  ...  zesty  zillion  zipps  ziti  zoe  zone  zucchini  \\\n",
       "0        0.0       0.0  ...    0.0      0.0    0.0   0.0  0.0   0.0       0.0   \n",
       "1        0.0       0.0  ...    0.0      0.0    0.0   0.0  0.0   0.0       0.0   \n",
       "\n",
       "   zuchinni  zupa  zupas  \n",
       "0       0.0   0.0    0.0  \n",
       "1       0.0   0.0    0.0  \n",
       "\n",
       "[2 rows x 5999 columns]"
      ]
     },
     "execution_count": 7,
     "metadata": {},
     "output_type": "execute_result"
    }
   ],
   "source": [
    "url = 'https://github.com/berinde/curs-analiza-datelor-complexe/blob/main/data/input/dtm_2_tfidf.parquet?raw=True'\n",
    "dtm_tf_idf = pd.read_parquet(url)\n",
    "dtm_tf_idf.head(2)"
   ]
  },
  {
   "cell_type": "markdown",
   "metadata": {
    "id": "6TqnbG3i-9-8"
   },
   "source": [
    "# Clasificare folosing reprezentarea BOW"
   ]
  },
  {
   "cell_type": "markdown",
   "metadata": {
    "id": "LhOorYJU_GOf"
   },
   "source": [
    "## BOW - impartirea setului de date in set de training & test"
   ]
  },
  {
   "cell_type": "code",
   "execution_count": 8,
   "metadata": {
    "id": "AotrJlkT-RTl"
   },
   "outputs": [],
   "source": [
    "X_train_bow, X_test_bow, y_train_bow, y_test_bow = train_test_split(\n",
    "    dtm_bow,\n",
    "    reviews['positive'],\n",
    "    train_size=0.8,\n",
    "    random_state=42\n",
    "    )"
   ]
  },
  {
   "cell_type": "code",
   "execution_count": 9,
   "metadata": {
    "id": "JLoHvrMsBC0b"
   },
   "outputs": [
    {
     "name": "stdout",
     "output_type": "stream",
     "text": [
      "7492 1873 7492 1873\n"
     ]
    }
   ],
   "source": [
    "print(len(X_train_bow), len(X_test_bow), len(y_train_bow), len(y_test_bow))"
   ]
  },
  {
   "cell_type": "code",
   "execution_count": 10,
   "metadata": {
    "id": "wiPHmnhHBPSW"
   },
   "outputs": [
    {
     "data": {
      "text/plain": [
       "1791    0\n",
       "3884    0\n",
       "8677    0\n",
       "9132    0\n",
       "7726    0\n",
       "       ..\n",
       "4640    1\n",
       "5620    1\n",
       "6739    1\n",
       "7454    1\n",
       "6242    1\n",
       "Name: positive, Length: 1873, dtype: int64"
      ]
     },
     "execution_count": 10,
     "metadata": {},
     "output_type": "execute_result"
    }
   ],
   "source": [
    "y_test_bow"
   ]
  },
  {
   "cell_type": "code",
   "execution_count": 11,
   "metadata": {
    "id": "XvImLvrbBWac"
   },
   "outputs": [
    {
     "data": {
      "text/plain": [
       "0.6987453283502403"
      ]
     },
     "execution_count": 11,
     "metadata": {},
     "output_type": "execute_result"
    }
   ],
   "source": [
    "y_train_bow.mean()"
   ]
  },
  {
   "cell_type": "code",
   "execution_count": 12,
   "metadata": {
    "id": "d9EsXCwyBqW-"
   },
   "outputs": [
    {
     "data": {
      "text/plain": [
       "0.6892685531233316"
      ]
     },
     "execution_count": 12,
     "metadata": {},
     "output_type": "execute_result"
    }
   ],
   "source": [
    "y_test_bow.mean()"
   ]
  },
  {
   "cell_type": "markdown",
   "metadata": {
    "id": "XT32iu7OC74L"
   },
   "source": [
    "## BOW + Logistic Regression"
   ]
  },
  {
   "cell_type": "code",
   "execution_count": 13,
   "metadata": {
    "id": "LdWd05H0B0_8"
   },
   "outputs": [
    {
     "data": {
      "text/html": [
       "<style>#sk-container-id-1 {color: black;}#sk-container-id-1 pre{padding: 0;}#sk-container-id-1 div.sk-toggleable {background-color: white;}#sk-container-id-1 label.sk-toggleable__label {cursor: pointer;display: block;width: 100%;margin-bottom: 0;padding: 0.3em;box-sizing: border-box;text-align: center;}#sk-container-id-1 label.sk-toggleable__label-arrow:before {content: \"▸\";float: left;margin-right: 0.25em;color: #696969;}#sk-container-id-1 label.sk-toggleable__label-arrow:hover:before {color: black;}#sk-container-id-1 div.sk-estimator:hover label.sk-toggleable__label-arrow:before {color: black;}#sk-container-id-1 div.sk-toggleable__content {max-height: 0;max-width: 0;overflow: hidden;text-align: left;background-color: #f0f8ff;}#sk-container-id-1 div.sk-toggleable__content pre {margin: 0.2em;color: black;border-radius: 0.25em;background-color: #f0f8ff;}#sk-container-id-1 input.sk-toggleable__control:checked~div.sk-toggleable__content {max-height: 200px;max-width: 100%;overflow: auto;}#sk-container-id-1 input.sk-toggleable__control:checked~label.sk-toggleable__label-arrow:before {content: \"▾\";}#sk-container-id-1 div.sk-estimator input.sk-toggleable__control:checked~label.sk-toggleable__label {background-color: #d4ebff;}#sk-container-id-1 div.sk-label input.sk-toggleable__control:checked~label.sk-toggleable__label {background-color: #d4ebff;}#sk-container-id-1 input.sk-hidden--visually {border: 0;clip: rect(1px 1px 1px 1px);clip: rect(1px, 1px, 1px, 1px);height: 1px;margin: -1px;overflow: hidden;padding: 0;position: absolute;width: 1px;}#sk-container-id-1 div.sk-estimator {font-family: monospace;background-color: #f0f8ff;border: 1px dotted black;border-radius: 0.25em;box-sizing: border-box;margin-bottom: 0.5em;}#sk-container-id-1 div.sk-estimator:hover {background-color: #d4ebff;}#sk-container-id-1 div.sk-parallel-item::after {content: \"\";width: 100%;border-bottom: 1px solid gray;flex-grow: 1;}#sk-container-id-1 div.sk-label:hover label.sk-toggleable__label {background-color: #d4ebff;}#sk-container-id-1 div.sk-serial::before {content: \"\";position: absolute;border-left: 1px solid gray;box-sizing: border-box;top: 0;bottom: 0;left: 50%;z-index: 0;}#sk-container-id-1 div.sk-serial {display: flex;flex-direction: column;align-items: center;background-color: white;padding-right: 0.2em;padding-left: 0.2em;position: relative;}#sk-container-id-1 div.sk-item {position: relative;z-index: 1;}#sk-container-id-1 div.sk-parallel {display: flex;align-items: stretch;justify-content: center;background-color: white;position: relative;}#sk-container-id-1 div.sk-item::before, #sk-container-id-1 div.sk-parallel-item::before {content: \"\";position: absolute;border-left: 1px solid gray;box-sizing: border-box;top: 0;bottom: 0;left: 50%;z-index: -1;}#sk-container-id-1 div.sk-parallel-item {display: flex;flex-direction: column;z-index: 1;position: relative;background-color: white;}#sk-container-id-1 div.sk-parallel-item:first-child::after {align-self: flex-end;width: 50%;}#sk-container-id-1 div.sk-parallel-item:last-child::after {align-self: flex-start;width: 50%;}#sk-container-id-1 div.sk-parallel-item:only-child::after {width: 0;}#sk-container-id-1 div.sk-dashed-wrapped {border: 1px dashed gray;margin: 0 0.4em 0.5em 0.4em;box-sizing: border-box;padding-bottom: 0.4em;background-color: white;}#sk-container-id-1 div.sk-label label {font-family: monospace;font-weight: bold;display: inline-block;line-height: 1.2em;}#sk-container-id-1 div.sk-label-container {text-align: center;}#sk-container-id-1 div.sk-container {/* jupyter's `normalize.less` sets `[hidden] { display: none; }` but bootstrap.min.css set `[hidden] { display: none !important; }` so we also need the `!important` here to be able to override the default hidden behavior on the sphinx rendered scikit-learn.org. See: https://github.com/scikit-learn/scikit-learn/issues/21755 */display: inline-block !important;position: relative;}#sk-container-id-1 div.sk-text-repr-fallback {display: none;}</style><div id=\"sk-container-id-1\" class=\"sk-top-container\"><div class=\"sk-text-repr-fallback\"><pre>LogisticRegression()</pre><b>In a Jupyter environment, please rerun this cell to show the HTML representation or trust the notebook. <br />On GitHub, the HTML representation is unable to render, please try loading this page with nbviewer.org.</b></div><div class=\"sk-container\" hidden><div class=\"sk-item\"><div class=\"sk-estimator sk-toggleable\"><input class=\"sk-toggleable__control sk-hidden--visually\" id=\"sk-estimator-id-1\" type=\"checkbox\" checked><label for=\"sk-estimator-id-1\" class=\"sk-toggleable__label sk-toggleable__label-arrow\">LogisticRegression</label><div class=\"sk-toggleable__content\"><pre>LogisticRegression()</pre></div></div></div></div></div>"
      ],
      "text/plain": [
       "LogisticRegression()"
      ]
     },
     "execution_count": 13,
     "metadata": {},
     "output_type": "execute_result"
    }
   ],
   "source": [
    "m1_bow = LogisticRegression()\n",
    "m1_bow.fit(X_train_bow, y_train_bow)"
   ]
  },
  {
   "cell_type": "code",
   "execution_count": 14,
   "metadata": {
    "id": "lI8rJ3z0DcpW"
   },
   "outputs": [
    {
     "data": {
      "text/plain": [
       "array([0, 0, 0, ..., 1, 1, 1])"
      ]
     },
     "execution_count": 14,
     "metadata": {},
     "output_type": "execute_result"
    }
   ],
   "source": [
    "# Generam predictiile pe setul de test\n",
    "ypred1_bow = m1_bow.predict(X_test_bow)\n",
    "ypred1_bow"
   ]
  },
  {
   "cell_type": "code",
   "execution_count": 15,
   "metadata": {
    "id": "PO6hvEGsEI-k"
   },
   "outputs": [
    {
     "data": {
      "text/plain": [
       "1873"
      ]
     },
     "execution_count": 15,
     "metadata": {},
     "output_type": "execute_result"
    }
   ],
   "source": [
    "len(ypred1_bow)"
   ]
  },
  {
   "cell_type": "code",
   "execution_count": 16,
   "metadata": {
    "id": "6uV6jaHqEM3D"
   },
   "outputs": [
    {
     "name": "stdout",
     "output_type": "stream",
     "text": [
      "Acuratetea pe setul de training: 0.9963961558996263\n",
      "Acuratetea pe setul de test: 0.9353977576081153\n",
      "Classification Report pe setul de test\n",
      "               precision    recall  f1-score   support\n",
      "\n",
      "           0       0.90      0.89      0.90       582\n",
      "           1       0.95      0.96      0.95      1291\n",
      "\n",
      "    accuracy                           0.94      1873\n",
      "   macro avg       0.93      0.92      0.92      1873\n",
      "weighted avg       0.94      0.94      0.94      1873\n",
      "\n"
     ]
    }
   ],
   "source": [
    "print('Acuratetea pe setul de training:', m1_bow.score(X_train_bow, y_train_bow))\n",
    "print('Acuratetea pe setul de test:', m1_bow.score(X_test_bow, y_test_bow))\n",
    "\n",
    "print('Classification Report pe setul de test\\n',\n",
    "      classification_report(y_test_bow, ypred1_bow)\n",
    "      )"
   ]
  },
  {
   "cell_type": "code",
   "execution_count": 17,
   "metadata": {
    "id": "9J4xIwMgOTcP"
   },
   "outputs": [],
   "source": [
    "pickle.dump(m1_bow, open('m1_bow.pkl', 'wb'))"
   ]
  },
  {
   "cell_type": "markdown",
   "metadata": {
    "id": "Yq3z6-w7JK-O"
   },
   "source": [
    "* P = positive <-> reviews['positive']==1\n",
    "* N = negative <-> reviews['positive']==0\n",
    "* TP = recenziile prezise ca pozitive, sunt pozitive\n",
    "* TN = recenziile prezise ca negative, sunt negative\n",
    "* FP = recenziile prezise ca pozitive, sunt negative\n",
    "* FN = recenziile prezise ca negative, sunt pozitive\n",
    "* Precision = $\\frac{TP}{TP+FP}$, din toate cazurile pe care le-am prezis ca pozitive, cate sunt de fapt?\n",
    "* Recall = $\\frac{TP}{TP+FN}$, din toate cazurile care sunt pozitive, cate le-am prezis corect?\n",
    "\n",
    "\n"
   ]
  },
  {
   "cell_type": "markdown",
   "metadata": {
    "id": "6GhHsEaaK2nT"
   },
   "source": [
    "# Clasificare folosind TF-IDF"
   ]
  },
  {
   "cell_type": "markdown",
   "metadata": {
    "id": "KgbDsw8jK8k_"
   },
   "source": [
    "## TF-IDF - impartirea setului de date in set de training & test"
   ]
  },
  {
   "cell_type": "code",
   "execution_count": 18,
   "metadata": {
    "id": "MdwrujxxEpkt"
   },
   "outputs": [],
   "source": [
    "X_train_tfidf, X_test_tfidf, y_train_tfidf, y_test_tfidf = train_test_split(\n",
    "    dtm_tf_idf,\n",
    "    reviews['positive'],\n",
    "    train_size=0.8,\n",
    "    random_state=42\n",
    ")"
   ]
  },
  {
   "cell_type": "code",
   "execution_count": 19,
   "metadata": {
    "id": "l77qL3bmLmBF"
   },
   "outputs": [
    {
     "name": "stdout",
     "output_type": "stream",
     "text": [
      "7492 1873 7492 1873\n"
     ]
    }
   ],
   "source": [
    "print(len(X_train_tfidf), len(X_test_tfidf),\n",
    "      len(y_train_tfidf), len(y_test_tfidf))"
   ]
  },
  {
   "cell_type": "code",
   "execution_count": 20,
   "metadata": {
    "id": "Wvcfx09ZLxkk"
   },
   "outputs": [
    {
     "data": {
      "text/html": [
       "<div>\n",
       "<style scoped>\n",
       "    .dataframe tbody tr th:only-of-type {\n",
       "        vertical-align: middle;\n",
       "    }\n",
       "\n",
       "    .dataframe tbody tr th {\n",
       "        vertical-align: top;\n",
       "    }\n",
       "\n",
       "    .dataframe thead th {\n",
       "        text-align: right;\n",
       "    }\n",
       "</style>\n",
       "<table border=\"1\" class=\"dataframe\">\n",
       "  <thead>\n",
       "    <tr style=\"text-align: right;\">\n",
       "      <th></th>\n",
       "      <th>aaabar</th>\n",
       "      <th>aaron</th>\n",
       "      <th>abacus</th>\n",
       "      <th>ability</th>\n",
       "      <th>able</th>\n",
       "      <th>absolute</th>\n",
       "      <th>absolutely</th>\n",
       "      <th>absurd</th>\n",
       "      <th>abundance</th>\n",
       "      <th>abundant</th>\n",
       "      <th>...</th>\n",
       "      <th>zesty</th>\n",
       "      <th>zillion</th>\n",
       "      <th>zipps</th>\n",
       "      <th>ziti</th>\n",
       "      <th>zoe</th>\n",
       "      <th>zone</th>\n",
       "      <th>zucchini</th>\n",
       "      <th>zuchinni</th>\n",
       "      <th>zupa</th>\n",
       "      <th>zupas</th>\n",
       "    </tr>\n",
       "  </thead>\n",
       "  <tbody>\n",
       "    <tr>\n",
       "      <th>4707</th>\n",
       "      <td>0.0</td>\n",
       "      <td>0.0</td>\n",
       "      <td>0.0</td>\n",
       "      <td>0.0</td>\n",
       "      <td>0.0</td>\n",
       "      <td>0.0</td>\n",
       "      <td>0.0</td>\n",
       "      <td>0.0</td>\n",
       "      <td>0.0</td>\n",
       "      <td>0.0</td>\n",
       "      <td>...</td>\n",
       "      <td>0.0</td>\n",
       "      <td>0.0</td>\n",
       "      <td>0.0</td>\n",
       "      <td>0.0</td>\n",
       "      <td>0.0</td>\n",
       "      <td>0.0</td>\n",
       "      <td>0.0</td>\n",
       "      <td>0.0</td>\n",
       "      <td>0.0</td>\n",
       "      <td>0.0</td>\n",
       "    </tr>\n",
       "    <tr>\n",
       "      <th>957</th>\n",
       "      <td>0.0</td>\n",
       "      <td>0.0</td>\n",
       "      <td>0.0</td>\n",
       "      <td>0.0</td>\n",
       "      <td>0.0</td>\n",
       "      <td>0.0</td>\n",
       "      <td>0.0</td>\n",
       "      <td>0.0</td>\n",
       "      <td>0.0</td>\n",
       "      <td>0.0</td>\n",
       "      <td>...</td>\n",
       "      <td>0.0</td>\n",
       "      <td>0.0</td>\n",
       "      <td>0.0</td>\n",
       "      <td>0.0</td>\n",
       "      <td>0.0</td>\n",
       "      <td>0.0</td>\n",
       "      <td>0.0</td>\n",
       "      <td>0.0</td>\n",
       "      <td>0.0</td>\n",
       "      <td>0.0</td>\n",
       "    </tr>\n",
       "  </tbody>\n",
       "</table>\n",
       "<p>2 rows × 5999 columns</p>\n",
       "</div>"
      ],
      "text/plain": [
       "      aaabar  aaron  abacus  ability  able  absolute  absolutely  absurd  \\\n",
       "4707     0.0    0.0     0.0      0.0   0.0       0.0         0.0     0.0   \n",
       "957      0.0    0.0     0.0      0.0   0.0       0.0         0.0     0.0   \n",
       "\n",
       "      abundance  abundant  ...  zesty  zillion  zipps  ziti  zoe  zone  \\\n",
       "4707        0.0       0.0  ...    0.0      0.0    0.0   0.0  0.0   0.0   \n",
       "957         0.0       0.0  ...    0.0      0.0    0.0   0.0  0.0   0.0   \n",
       "\n",
       "      zucchini  zuchinni  zupa  zupas  \n",
       "4707       0.0       0.0   0.0    0.0  \n",
       "957        0.0       0.0   0.0    0.0  \n",
       "\n",
       "[2 rows x 5999 columns]"
      ]
     },
     "execution_count": 20,
     "metadata": {},
     "output_type": "execute_result"
    }
   ],
   "source": [
    "X_train_tfidf.head(2)"
   ]
  },
  {
   "cell_type": "code",
   "execution_count": 21,
   "metadata": {
    "id": "b6mxmlSDL5Ls"
   },
   "outputs": [
    {
     "data": {
      "text/plain": [
       "4707    1\n",
       "957     1\n",
       "3569    1\n",
       "3820    1\n",
       "6041    1\n",
       "       ..\n",
       "5734    1\n",
       "5191    1\n",
       "5390    1\n",
       "860     1\n",
       "7270    0\n",
       "Name: positive, Length: 7492, dtype: int64"
      ]
     },
     "execution_count": 21,
     "metadata": {},
     "output_type": "execute_result"
    }
   ],
   "source": [
    "y_train_tfidf"
   ]
  },
  {
   "cell_type": "markdown",
   "metadata": {
    "id": "xM-9xizQMaX4"
   },
   "source": [
    "## TF-IDF + Logistic Regression"
   ]
  },
  {
   "cell_type": "code",
   "execution_count": 22,
   "metadata": {
    "id": "LHMNLja8MDFG"
   },
   "outputs": [
    {
     "data": {
      "text/html": [
       "<style>#sk-container-id-2 {color: black;}#sk-container-id-2 pre{padding: 0;}#sk-container-id-2 div.sk-toggleable {background-color: white;}#sk-container-id-2 label.sk-toggleable__label {cursor: pointer;display: block;width: 100%;margin-bottom: 0;padding: 0.3em;box-sizing: border-box;text-align: center;}#sk-container-id-2 label.sk-toggleable__label-arrow:before {content: \"▸\";float: left;margin-right: 0.25em;color: #696969;}#sk-container-id-2 label.sk-toggleable__label-arrow:hover:before {color: black;}#sk-container-id-2 div.sk-estimator:hover label.sk-toggleable__label-arrow:before {color: black;}#sk-container-id-2 div.sk-toggleable__content {max-height: 0;max-width: 0;overflow: hidden;text-align: left;background-color: #f0f8ff;}#sk-container-id-2 div.sk-toggleable__content pre {margin: 0.2em;color: black;border-radius: 0.25em;background-color: #f0f8ff;}#sk-container-id-2 input.sk-toggleable__control:checked~div.sk-toggleable__content {max-height: 200px;max-width: 100%;overflow: auto;}#sk-container-id-2 input.sk-toggleable__control:checked~label.sk-toggleable__label-arrow:before {content: \"▾\";}#sk-container-id-2 div.sk-estimator input.sk-toggleable__control:checked~label.sk-toggleable__label {background-color: #d4ebff;}#sk-container-id-2 div.sk-label input.sk-toggleable__control:checked~label.sk-toggleable__label {background-color: #d4ebff;}#sk-container-id-2 input.sk-hidden--visually {border: 0;clip: rect(1px 1px 1px 1px);clip: rect(1px, 1px, 1px, 1px);height: 1px;margin: -1px;overflow: hidden;padding: 0;position: absolute;width: 1px;}#sk-container-id-2 div.sk-estimator {font-family: monospace;background-color: #f0f8ff;border: 1px dotted black;border-radius: 0.25em;box-sizing: border-box;margin-bottom: 0.5em;}#sk-container-id-2 div.sk-estimator:hover {background-color: #d4ebff;}#sk-container-id-2 div.sk-parallel-item::after {content: \"\";width: 100%;border-bottom: 1px solid gray;flex-grow: 1;}#sk-container-id-2 div.sk-label:hover label.sk-toggleable__label {background-color: #d4ebff;}#sk-container-id-2 div.sk-serial::before {content: \"\";position: absolute;border-left: 1px solid gray;box-sizing: border-box;top: 0;bottom: 0;left: 50%;z-index: 0;}#sk-container-id-2 div.sk-serial {display: flex;flex-direction: column;align-items: center;background-color: white;padding-right: 0.2em;padding-left: 0.2em;position: relative;}#sk-container-id-2 div.sk-item {position: relative;z-index: 1;}#sk-container-id-2 div.sk-parallel {display: flex;align-items: stretch;justify-content: center;background-color: white;position: relative;}#sk-container-id-2 div.sk-item::before, #sk-container-id-2 div.sk-parallel-item::before {content: \"\";position: absolute;border-left: 1px solid gray;box-sizing: border-box;top: 0;bottom: 0;left: 50%;z-index: -1;}#sk-container-id-2 div.sk-parallel-item {display: flex;flex-direction: column;z-index: 1;position: relative;background-color: white;}#sk-container-id-2 div.sk-parallel-item:first-child::after {align-self: flex-end;width: 50%;}#sk-container-id-2 div.sk-parallel-item:last-child::after {align-self: flex-start;width: 50%;}#sk-container-id-2 div.sk-parallel-item:only-child::after {width: 0;}#sk-container-id-2 div.sk-dashed-wrapped {border: 1px dashed gray;margin: 0 0.4em 0.5em 0.4em;box-sizing: border-box;padding-bottom: 0.4em;background-color: white;}#sk-container-id-2 div.sk-label label {font-family: monospace;font-weight: bold;display: inline-block;line-height: 1.2em;}#sk-container-id-2 div.sk-label-container {text-align: center;}#sk-container-id-2 div.sk-container {/* jupyter's `normalize.less` sets `[hidden] { display: none; }` but bootstrap.min.css set `[hidden] { display: none !important; }` so we also need the `!important` here to be able to override the default hidden behavior on the sphinx rendered scikit-learn.org. See: https://github.com/scikit-learn/scikit-learn/issues/21755 */display: inline-block !important;position: relative;}#sk-container-id-2 div.sk-text-repr-fallback {display: none;}</style><div id=\"sk-container-id-2\" class=\"sk-top-container\"><div class=\"sk-text-repr-fallback\"><pre>LogisticRegression()</pre><b>In a Jupyter environment, please rerun this cell to show the HTML representation or trust the notebook. <br />On GitHub, the HTML representation is unable to render, please try loading this page with nbviewer.org.</b></div><div class=\"sk-container\" hidden><div class=\"sk-item\"><div class=\"sk-estimator sk-toggleable\"><input class=\"sk-toggleable__control sk-hidden--visually\" id=\"sk-estimator-id-2\" type=\"checkbox\" checked><label for=\"sk-estimator-id-2\" class=\"sk-toggleable__label sk-toggleable__label-arrow\">LogisticRegression</label><div class=\"sk-toggleable__content\"><pre>LogisticRegression()</pre></div></div></div></div></div>"
      ],
      "text/plain": [
       "LogisticRegression()"
      ]
     },
     "execution_count": 22,
     "metadata": {},
     "output_type": "execute_result"
    }
   ],
   "source": [
    "m2_tfidf = LogisticRegression()\n",
    "m2_tfidf.fit(X_train_tfidf, y_train_tfidf)"
   ]
  },
  {
   "cell_type": "code",
   "execution_count": 23,
   "metadata": {
    "id": "McOpR1EeMrIo"
   },
   "outputs": [
    {
     "data": {
      "text/plain": [
       "array([1, 0, 0, ..., 1, 1, 1])"
      ]
     },
     "execution_count": 23,
     "metadata": {},
     "output_type": "execute_result"
    }
   ],
   "source": [
    "# Predictiile pe setul de test\n",
    "ypred2_tfidf = m2_tfidf.predict(X_test_tfidf)\n",
    "ypred2_tfidf"
   ]
  },
  {
   "cell_type": "code",
   "execution_count": 24,
   "metadata": {
    "id": "RW56NZ0BM4mp"
   },
   "outputs": [
    {
     "data": {
      "text/plain": [
       "1873"
      ]
     },
     "execution_count": 24,
     "metadata": {},
     "output_type": "execute_result"
    }
   ],
   "source": [
    "len(ypred2_tfidf)"
   ]
  },
  {
   "cell_type": "code",
   "execution_count": 25,
   "metadata": {
    "id": "JMFIAv3yM9g7"
   },
   "outputs": [
    {
     "name": "stdout",
     "output_type": "stream",
     "text": [
      "Acuratetea pe setul de training: 0.9615589962626802\n",
      "Acuratetea pe setul de test: 0.9418045915643353\n",
      "Classification Report pe setul de test\n",
      "               precision    recall  f1-score   support\n",
      "\n",
      "           0       0.94      0.87      0.90       582\n",
      "           1       0.94      0.97      0.96      1291\n",
      "\n",
      "    accuracy                           0.94      1873\n",
      "   macro avg       0.94      0.92      0.93      1873\n",
      "weighted avg       0.94      0.94      0.94      1873\n",
      "\n"
     ]
    }
   ],
   "source": [
    "print('Acuratetea pe setul de training:', m2_tfidf.score(X_train_tfidf,\n",
    "                                                         y_train_tfidf))\n",
    "print('Acuratetea pe setul de test:', m2_tfidf.score(X_test_tfidf,\n",
    "                                                     y_test_tfidf))\n",
    "print('Classification Report pe setul de test\\n',\n",
    "      classification_report(y_test_tfidf, ypred2_tfidf)\n",
    "      )"
   ]
  },
  {
   "cell_type": "code",
   "execution_count": null,
   "metadata": {
    "id": "tdw3hWHDNTfV"
   },
   "outputs": [],
   "source": [
    "pickle.dump(m2_tfidf, open('m2_tfidf.pkl', 'wb'))"
   ]
  },
  {
   "cell_type": "markdown",
   "metadata": {
    "id": "k5w4emFYOdmN"
   },
   "source": [
    "# Clasificare folosing FastText"
   ]
  },
  {
   "cell_type": "markdown",
   "metadata": {
    "id": "1sEoWrXmOdrV"
   },
   "source": [
    "## Reprezentarea FastText"
   ]
  },
  {
   "cell_type": "code",
   "execution_count": null,
   "metadata": {
    "id": "p0ge_qtxOPLU"
   },
   "outputs": [],
   "source": [
    "!wget -O trained_ft.pkl https://github.com/berinde/curs-analiza-datelor-complexe/blob/main/data/input/trained_ft.pkl?raw=true"
   ]
  },
  {
   "cell_type": "code",
   "execution_count": null,
   "metadata": {
    "id": "Cy02-QlDOz28"
   },
   "outputs": [],
   "source": [
    "repr_fasttext = pickle.load(open('trained_ft.pkl', 'rb'))"
   ]
  },
  {
   "cell_type": "code",
   "execution_count": null,
   "metadata": {
    "id": "pSdfkGS8PBz-"
   },
   "outputs": [],
   "source": [
    "repr_fasttext.wv['restaurant']"
   ]
  },
  {
   "cell_type": "markdown",
   "metadata": {
    "id": "c9jjz13_PfcV"
   },
   "source": [
    "Reprezentarile FastText sunt pt fiecare cuvant. Pentru a crea o reprezentare vectoriala pentru intreaga recenzie, putem calcula media reprezentarilor vectoriale ale cuv. care alcatuiesc recenzia."
   ]
  },
  {
   "cell_type": "code",
   "execution_count": null,
   "metadata": {
    "id": "KBuwyVejPIup"
   },
   "outputs": [],
   "source": [
    "corpus = reviews['text_prep_lim'].astype(str)\n",
    "# Aplicam word tokenize\n",
    "corpus = corpus.apply(word_tokenize).to_list()"
   ]
  },
  {
   "cell_type": "code",
   "execution_count": null,
   "metadata": {
    "id": "iJaaOv6kP9eV"
   },
   "outputs": [],
   "source": [
    "corpus[0:2]"
   ]
  },
  {
   "cell_type": "code",
   "execution_count": null,
   "metadata": {
    "id": "IzQrdCqjQLek"
   },
   "outputs": [],
   "source": [
    "# Lista de cuvinte din prima recenzie\n",
    "doc1 = corpus[0]\n",
    "doc1"
   ]
  },
  {
   "cell_type": "code",
   "execution_count": null,
   "metadata": {
    "id": "JUDWKhrZQu6b"
   },
   "outputs": [],
   "source": [
    "# Reprezentarile vectoriale pentru fiecare cuvant din doc1\n",
    "repr_fasttext.wv[doc1]"
   ]
  },
  {
   "cell_type": "code",
   "execution_count": null,
   "metadata": {
    "id": "pO-m8QyuQezY"
   },
   "outputs": [],
   "source": [
    "# Media pe fiecare din cele 60 dimensiuni\n",
    "repr_doc1 = np.mean(repr_fasttext.wv[doc1], axis=0)\n",
    "repr_doc1"
   ]
  },
  {
   "cell_type": "code",
   "execution_count": null,
   "metadata": {
    "id": "8a0vRjxtRAgH"
   },
   "outputs": [],
   "source": [
    "len(repr_doc1)"
   ]
  },
  {
   "cell_type": "code",
   "execution_count": null,
   "metadata": {
    "id": "_WsmZ8A1RYtB"
   },
   "outputs": [],
   "source": [
    "for doc in corpus:\n",
    "    medie = np.mean(repr_fasttext.wv[doc], axis=0)\n",
    "    \n",
    "    if doc == corpus[0]:\n",
    "      repr_recenzie = medie\n",
    "    else:\n",
    "      repr_recenzie = np.vstack((repr_recenzie, medie))"
   ]
  },
  {
   "cell_type": "code",
   "execution_count": null,
   "metadata": {
    "id": "4zyG3qYiSnhY"
   },
   "outputs": [],
   "source": [
    "repr_recenzie.shape"
   ]
  },
  {
   "cell_type": "markdown",
   "metadata": {
    "id": "TYiE1m4uSyCP"
   },
   "source": [
    "repr_recenzie contine reprezentarile vectoriale agregate din cuvinte pentru fiecare recenzie in parte"
   ]
  },
  {
   "cell_type": "code",
   "execution_count": null,
   "metadata": {
    "id": "VdQ6C2qYSq9P"
   },
   "outputs": [],
   "source": [
    "repr_recenzie[0:2]"
   ]
  },
  {
   "cell_type": "markdown",
   "metadata": {
    "id": "iD1PZg1nTLjQ"
   },
   "source": [
    "## FastText - impartirea setului de date in set de training & test"
   ]
  },
  {
   "cell_type": "code",
   "execution_count": null,
   "metadata": {
    "id": "hi3a2Q6CS7TC"
   },
   "outputs": [],
   "source": [
    "X_train_ft, X_test_ft, y_train_ft, y_test_ft = train_test_split(\n",
    "    repr_recenzie,\n",
    "    reviews['positive'],\n",
    "    train_size=0.8,\n",
    "    random_state=42)"
   ]
  },
  {
   "cell_type": "code",
   "execution_count": null,
   "metadata": {
    "id": "bk_70zRATmBd"
   },
   "outputs": [],
   "source": [
    "X_train_ft.shape"
   ]
  },
  {
   "cell_type": "code",
   "execution_count": null,
   "metadata": {
    "id": "V3MLh0i-TpWP"
   },
   "outputs": [],
   "source": [
    "X_test_ft.shape"
   ]
  },
  {
   "cell_type": "markdown",
   "metadata": {
    "id": "Teznzb6iTyFs"
   },
   "source": [
    "# FastText + Logistic Regression"
   ]
  },
  {
   "cell_type": "code",
   "execution_count": null,
   "metadata": {
    "id": "82ujsfBFTtxo"
   },
   "outputs": [],
   "source": [
    "m3_ft = LogisticRegression()\n",
    "m3_ft.fit(X_train_ft, y_train_ft)"
   ]
  },
  {
   "cell_type": "code",
   "execution_count": null,
   "metadata": {
    "id": "P_0w-OaPUA5i"
   },
   "outputs": [],
   "source": [
    "# Predictiile pe setul de test\n",
    "ypred3_ft = m3_ft.predict(X_test_ft)"
   ]
  },
  {
   "cell_type": "code",
   "execution_count": null,
   "metadata": {
    "id": "0MwrQ4Y0UM5i"
   },
   "outputs": [],
   "source": [
    "# Evaluarea Performantei\n",
    "\n",
    "print('Acuratetea pe setul de training',\n",
    "      m3_ft.score(X_train_ft, y_train_ft))\n",
    "print('Acuratetea pe setul de test',\n",
    "      m3_ft.score(X_test_ft, y_test_ft))\n",
    "print('Classification Report pe setul de test \\n',\n",
    "      classification_report(y_test_ft, ypred3_ft))"
   ]
  },
  {
   "cell_type": "code",
   "execution_count": null,
   "metadata": {
    "id": "JhWXF04YVAu3"
   },
   "outputs": [],
   "source": []
  }
 ],
 "metadata": {
  "colab": {
   "provenance": [],
   "toc_visible": true
  },
  "kernelspec": {
   "display_name": "Python 3 (ipykernel)",
   "language": "python",
   "name": "python3"
  },
  "language_info": {
   "codemirror_mode": {
    "name": "ipython",
    "version": 3
   },
   "file_extension": ".py",
   "mimetype": "text/x-python",
   "name": "python",
   "nbconvert_exporter": "python",
   "pygments_lexer": "ipython3",
   "version": "3.11.5"
  }
 },
 "nbformat": 4,
 "nbformat_minor": 4
}
