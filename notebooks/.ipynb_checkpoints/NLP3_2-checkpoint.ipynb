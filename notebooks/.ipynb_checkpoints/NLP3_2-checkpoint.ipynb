{
  "nbformat": 4,
  "nbformat_minor": 0,
  "metadata": {
    "colab": {
      "provenance": []
    },
    "kernelspec": {
      "name": "python3",
      "display_name": "Python 3"
    },
    "language_info": {
      "name": "python"
    }
  },
  "cells": [
    {
      "cell_type": "markdown",
      "source": [
        "# Importing Libraries\n",
        "\n",
        "\n"
      ],
      "metadata": {
        "id": "amGmVjT5Gc5K"
      }
    },
    {
      "cell_type": "code",
      "execution_count": null,
      "metadata": {
        "id": "y3FOgqhVGacU"
      },
      "outputs": [],
      "source": [
        "import pandas as pd\n",
        "import numpy as np\n",
        "\n",
        "# Pentru implementarea reprezentarilor vectoriale Word2Vec & FastText / word embeddings\n",
        "from gensim.models import Word2Vec\n",
        "from gensim.models.fasttext import FastText\n",
        "\n",
        "# Pentru reducerea nr. de dimensiuni (PCA - analiza componentelor principale)\n",
        "from sklearn.decomposition import PCA\n",
        "\n",
        "# Pentru vizualizare\n",
        "import plotly.express as px"
      ]
    },
    {
      "cell_type": "code",
      "source": [
        "prop = [\n",
        "    ['we', 'will', 'use', 'word2vec'],\n",
        "    ['we', 'will', 'also', 'use', 'fasttext'],\n",
        "    ['this', 'is', 'a', 'sentence'],\n",
        "    ['what', 'embedding', 'is', 'best', 'for', 'this', 'sentence'],\n",
        "    ['lets', 'find', 'out']\n",
        "]"
      ],
      "metadata": {
        "id": "j2FaY7XtG-ID"
      },
      "execution_count": null,
      "outputs": []
    },
    {
      "cell_type": "code",
      "source": [
        "prop"
      ],
      "metadata": {
        "id": "CCx_XuU8IA4y"
      },
      "execution_count": null,
      "outputs": []
    },
    {
      "cell_type": "markdown",
      "source": [
        "# Word2Vec"
      ],
      "metadata": {
        "id": "T2Bs4hwqIFF8"
      }
    },
    {
      "cell_type": "code",
      "source": [
        "# min_count: ignora toate cuvintele cu o frecventa mai mica decat valoarea min_count\n",
        "# size: numarul de dimensiuni\n",
        "\n",
        "model_word2vec = Word2Vec(prop, min_count=1, size=4, seed=42)"
      ],
      "metadata": {
        "id": "t7miwQnMH5Og"
      },
      "execution_count": null,
      "outputs": []
    },
    {
      "cell_type": "code",
      "source": [
        "# Reprezentarea vectoriala a cuvantului 'sentence' in cele 4 dimensiuni\n",
        "model_word2vec.wv['sentence']"
      ],
      "metadata": {
        "id": "L8AD4LkTKO8g"
      },
      "execution_count": null,
      "outputs": []
    },
    {
      "cell_type": "code",
      "source": [
        "# Word2Vec nu poate crea reprezentari vectoriale pentru cuvintele care\n",
        "# nu au fost vazute in partea de training: e.g. sentiment\n",
        "# KeyError: \"word 'sentiment' not in vocabulary\"\n",
        "\n",
        "# model_word2vec.wv['sentiment']"
      ],
      "metadata": {
        "id": "TUf4UwyBKlGn"
      },
      "execution_count": null,
      "outputs": []
    },
    {
      "cell_type": "markdown",
      "source": [
        "## Vizualizarea cuvintelor in 3 dimensiuni"
      ],
      "metadata": {
        "id": "Ij9N8cNALjvQ"
      }
    },
    {
      "cell_type": "code",
      "source": [
        "# Cream o lista cu toate cuvintele din modelul word2vec\n",
        "lista_cuvinte = list(model_word2vec.wv.vocab)\n",
        "lista_cuvinte"
      ],
      "metadata": {
        "collapsed": true,
        "id": "hvbdPl09K1bi"
      },
      "execution_count": null,
      "outputs": []
    },
    {
      "cell_type": "code",
      "source": [
        "# Pentru fiecare cuvant din lista_cuvinte, reprezentarile vectoriale in 4 dimensiuni\n",
        "X_word2vec = model_word2vec.wv[lista_cuvinte]\n",
        "X_word2vec"
      ],
      "metadata": {
        "collapsed": true,
        "id": "61T-EP2HL9Vv"
      },
      "execution_count": null,
      "outputs": []
    },
    {
      "cell_type": "code",
      "source": [
        "# Aplicam PCA pentru a reduce de la 4 dimensiuni la 3\n",
        "pca_word2vec = PCA(n_components=3).fit_transform(X_word2vec)\n",
        "pca_word2vec"
      ],
      "metadata": {
        "id": "tMKj_rVMMQye"
      },
      "execution_count": null,
      "outputs": []
    },
    {
      "cell_type": "code",
      "source": [
        "fig = px.scatter_3d(x=pca_word2vec[:, 0],\n",
        "                    y=pca_word2vec[:, 1],\n",
        "                    z=pca_word2vec[:, 2],\n",
        "                    text=lista_cuvinte)\n",
        "fig.show()"
      ],
      "metadata": {
        "id": "kSea9hu7M1fx"
      },
      "execution_count": null,
      "outputs": []
    },
    {
      "cell_type": "markdown",
      "source": [
        "# FastText"
      ],
      "metadata": {
        "id": "hnKNQDIwPHQT"
      }
    },
    {
      "cell_type": "code",
      "source": [
        "model_fasttext = FastText(prop, min_count=1, size=4, seed=42)"
      ],
      "metadata": {
        "id": "_cGvbZqOONQO"
      },
      "execution_count": null,
      "outputs": []
    },
    {
      "cell_type": "code",
      "source": [
        "# Reprezentarea vectoriala FastText pentru\n",
        "# 'sentence', un cuvant care a fost vazut in partea training\n",
        "model_fasttext.wv['sentence']"
      ],
      "metadata": {
        "id": "kujtcxKkPvrv"
      },
      "execution_count": null,
      "outputs": []
    },
    {
      "cell_type": "code",
      "source": [
        "# Reprezentarea vectoriala pentru sentiment este realizata,\n",
        "# chiar daca acest cuvant nu a fost vazut in partea de training\n",
        "# pentru ca se imparte cuvant-ul sentiment in n-grams (grupuri de n caractere)\n",
        "# si se agrega reprezentarile vectoriale pentru fiecare n-gram\n",
        "model_fasttext.wv['sentiment']\n",
        "\n",
        "# se, sen, ent, nti, tim, ime, men, ent, nt"
      ],
      "metadata": {
        "id": "RcbXth_gQAHy"
      },
      "execution_count": null,
      "outputs": []
    },
    {
      "cell_type": "code",
      "source": [
        "# Nu poate reda reprezentarea vectoriala pentru cuvantul 'capital'\n",
        "# deoarece lipsesc reprezentarile vectoriale pentru n-gram-urile care\n",
        "# alcatuiesc cuvantul capital\n",
        "\n",
        "# model_fasttext.wv['capital']\n",
        "# KeyError: 'all ngrams for word capital absent from model'"
      ],
      "metadata": {
        "id": "dUzXz8ktQNIA"
      },
      "execution_count": null,
      "outputs": []
    },
    {
      "cell_type": "markdown",
      "source": [
        "# Vizualizarea cuvintelor in 2 dimensiuni"
      ],
      "metadata": {
        "id": "gx5efsaiRwsf"
      }
    },
    {
      "cell_type": "code",
      "source": [
        "# Reprezentarea vectoriala FastText pentru fiecare cuvant din lista_cuvinte in 4 dimensiuni\n",
        "X_fasttext = model_fasttext.wv[lista_cuvinte]\n",
        "X_fasttext"
      ],
      "metadata": {
        "collapsed": true,
        "id": "0ovRWKWKRNx6"
      },
      "execution_count": null,
      "outputs": []
    },
    {
      "cell_type": "code",
      "source": [
        "pca_fasttext = PCA(n_components=2).fit_transform(X_fasttext)\n",
        "pca_fasttext"
      ],
      "metadata": {
        "collapsed": true,
        "id": "26HecMQiR-Y8"
      },
      "execution_count": null,
      "outputs": []
    },
    {
      "cell_type": "code",
      "source": [
        "fig = px.scatter(x=pca_fasttext[:,0],\n",
        "                 y=pca_fasttext[:,1],\n",
        "                 text=lista_cuvinte)\n",
        "fig.update_traces(textposition='top center',\n",
        "                  textfont_size=14)\n",
        "fig.show()"
      ],
      "metadata": {
        "id": "N2qFsKF5SXA8"
      },
      "execution_count": null,
      "outputs": []
    }
  ]
}