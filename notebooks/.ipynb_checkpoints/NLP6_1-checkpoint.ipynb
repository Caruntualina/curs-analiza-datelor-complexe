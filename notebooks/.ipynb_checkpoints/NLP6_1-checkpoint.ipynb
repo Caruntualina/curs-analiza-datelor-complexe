{
  "nbformat": 4,
  "nbformat_minor": 0,
  "metadata": {
    "colab": {
      "provenance": []
    },
    "kernelspec": {
      "name": "python3",
      "display_name": "Python 3"
    },
    "language_info": {
      "name": "python"
    }
  },
  "cells": [
    {
      "cell_type": "markdown",
      "source": [
        "# Importing Libraries"
      ],
      "metadata": {
        "id": "B8a34m3HqcYz"
      }
    },
    {
      "cell_type": "code",
      "execution_count": null,
      "metadata": {
        "id": "lhG9-IQSqPeb"
      },
      "outputs": [],
      "source": [
        "!pip install transformers"
      ]
    },
    {
      "cell_type": "code",
      "source": [
        "from transformers import BertTokenizer"
      ],
      "metadata": {
        "id": "N0Eq4B34rbnN"
      },
      "execution_count": null,
      "outputs": []
    },
    {
      "cell_type": "markdown",
      "source": [
        "# Exemplu BERT"
      ],
      "metadata": {
        "id": "9itgd1IysMQB"
      }
    },
    {
      "cell_type": "code",
      "source": [
        "tokenizer = BertTokenizer.from_pretrained('bert-base-uncased')"
      ],
      "metadata": {
        "id": "Q1a_nSqIr1Qj"
      },
      "execution_count": null,
      "outputs": []
    },
    {
      "cell_type": "code",
      "source": [
        "prop = 'This is a short sentece. This is another sentence'\n",
        "enc = tokenizer(prop)\n",
        "enc"
      ],
      "metadata": {
        "id": "YShgAUb_sOay"
      },
      "execution_count": null,
      "outputs": []
    },
    {
      "cell_type": "code",
      "source": [
        "print('Input IDs:', enc['input_ids'])"
      ],
      "metadata": {
        "id": "mo8u26TbsOdK"
      },
      "execution_count": null,
      "outputs": []
    },
    {
      "cell_type": "code",
      "source": [
        "print('Token Type IDs:', enc['token_type_ids'])"
      ],
      "metadata": {
        "id": "JolvFQJjsOfl"
      },
      "execution_count": null,
      "outputs": []
    },
    {
      "cell_type": "code",
      "source": [
        "print('Attention Mask:', enc['attention_mask'])"
      ],
      "metadata": {
        "id": "XghB9IY9tChj"
      },
      "execution_count": null,
      "outputs": []
    },
    {
      "cell_type": "markdown",
      "source": [
        "# Input IDs\n",
        "-> id-urile unice pentru fiecare token din modelul BERT pre-antrenat"
      ],
      "metadata": {
        "id": "_UHMhcqatJkL"
      }
    },
    {
      "cell_type": "code",
      "source": [
        "print('Propozitia originala:', prop)\n",
        "print('ID-urile tokenurilor:', enc['input_ids'])\n",
        "print('ID-urile convertite inapoi in tokenuri:',\n",
        "      tokenizer.decode(enc['input_ids']))"
      ],
      "metadata": {
        "id": "h2fBMCdNtHLA"
      },
      "execution_count": null,
      "outputs": []
    },
    {
      "cell_type": "markdown",
      "source": [
        "# Token Type IDs"
      ],
      "metadata": {
        "id": "Miu6DNmDuEpm"
      }
    },
    {
      "cell_type": "code",
      "source": [
        "propa = 'Where is the library?'\n",
        "propb = 'Right to the left'\n",
        "\n",
        "enc2 = tokenizer(propa, propb)\n",
        "dec2 = tokenizer.decode(enc2['input_ids'])\n",
        "\n",
        "print(enc2)\n",
        "print(dec2)\n",
        "print(enc2['token_type_ids'])"
      ],
      "metadata": {
        "id": "Smyo46FStlR_"
      },
      "execution_count": null,
      "outputs": []
    },
    {
      "cell_type": "markdown",
      "source": [
        "# Attention Mask"
      ],
      "metadata": {
        "id": "97BsA4SbvaBO"
      }
    },
    {
      "cell_type": "code",
      "source": [
        "propa = 'Hello world'\n",
        "propa = 'Hello world again'\n",
        "\n",
        "enca = tokenizer(propa)\n",
        "encb = tokenizer(propb)\n",
        "\n",
        "print(enca)\n",
        "print(encb)"
      ],
      "metadata": {
        "id": "83KnH8gSvbxL"
      },
      "execution_count": null,
      "outputs": []
    },
    {
      "cell_type": "code",
      "source": [
        "exemplu = tokenizer([propa, propb], padding=True)\n",
        "print(exemplu['input_ids'])\n",
        "print(exemplu['token_type_ids'])\n",
        "print(exemplu['attention_mask'])"
      ],
      "metadata": {
        "id": "jI_Z4tkWvolB"
      },
      "execution_count": null,
      "outputs": []
    },
    {
      "cell_type": "code",
      "source": [],
      "metadata": {
        "id": "UsPWeWrDv6JP"
      },
      "execution_count": null,
      "outputs": []
    }
  ]
}